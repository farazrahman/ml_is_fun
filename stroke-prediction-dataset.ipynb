{
 "cells": [
  {
   "cell_type": "markdown",
   "id": "e9345045",
   "metadata": {
    "papermill": {
     "duration": 0.008449,
     "end_time": "2022-06-07T16:16:14.257213",
     "exception": false,
     "start_time": "2022-06-07T16:16:14.248764",
     "status": "completed"
    },
    "tags": []
   },
   "source": [
    "### STROKE PREDICTION:"
   ]
  },
  {
   "cell_type": "code",
   "execution_count": 1,
   "id": "d4ef469d",
   "metadata": {
    "execution": {
     "iopub.execute_input": "2022-06-07T16:16:14.269691Z",
     "iopub.status.busy": "2022-06-07T16:16:14.269253Z",
     "iopub.status.idle": "2022-06-07T16:16:15.558085Z",
     "shell.execute_reply": "2022-06-07T16:16:15.557369Z"
    },
    "papermill": {
     "duration": 1.298409,
     "end_time": "2022-06-07T16:16:15.561057",
     "exception": false,
     "start_time": "2022-06-07T16:16:14.262648",
     "status": "completed"
    },
    "tags": []
   },
   "outputs": [
    {
     "name": "stdout",
     "output_type": "stream",
     "text": [
      "/kaggle/input/stroke-prediction-dataset/healthcare-dataset-stroke-data.csv\n"
     ]
    }
   ],
   "source": [
    "import numpy as np \n",
    "import pandas as pd \n",
    "import matplotlib.pyplot as plt\n",
    "import seaborn as sns\n",
    "\n",
    "from sklearn.preprocessing import LabelEncoder\n",
    "from sklearn.preprocessing import MinMaxScaler\n",
    "\n",
    "import os\n",
    "for dirname, _, filenames in os.walk('/kaggle/input'):\n",
    "    for filename in filenames:\n",
    "        print(os.path.join(dirname, filename))"
   ]
  },
  {
   "cell_type": "code",
   "execution_count": 2,
   "id": "f3f373a6",
   "metadata": {
    "execution": {
     "iopub.execute_input": "2022-06-07T16:16:15.574280Z",
     "iopub.status.busy": "2022-06-07T16:16:15.573763Z",
     "iopub.status.idle": "2022-06-07T16:16:15.625698Z",
     "shell.execute_reply": "2022-06-07T16:16:15.625043Z"
    },
    "papermill": {
     "duration": 0.061643,
     "end_time": "2022-06-07T16:16:15.628985",
     "exception": false,
     "start_time": "2022-06-07T16:16:15.567342",
     "status": "completed"
    },
    "tags": []
   },
   "outputs": [
    {
     "name": "stdout",
     "output_type": "stream",
     "text": [
      "<class 'pandas.core.frame.DataFrame'>\n",
      "RangeIndex: 5110 entries, 0 to 5109\n",
      "Data columns (total 12 columns):\n",
      " #   Column             Non-Null Count  Dtype  \n",
      "---  ------             --------------  -----  \n",
      " 0   id                 5110 non-null   int64  \n",
      " 1   gender             5110 non-null   object \n",
      " 2   age                5110 non-null   float64\n",
      " 3   hypertension       5110 non-null   int64  \n",
      " 4   heart_disease      5110 non-null   int64  \n",
      " 5   ever_married       5110 non-null   object \n",
      " 6   work_type          5110 non-null   object \n",
      " 7   Residence_type     5110 non-null   object \n",
      " 8   avg_glucose_level  5110 non-null   float64\n",
      " 9   bmi                4909 non-null   float64\n",
      " 10  smoking_status     5110 non-null   object \n",
      " 11  stroke             5110 non-null   int64  \n",
      "dtypes: float64(3), int64(4), object(5)\n",
      "memory usage: 479.2+ KB\n"
     ]
    }
   ],
   "source": [
    "stroke_data = pd.read_csv('/kaggle/input/stroke-prediction-dataset/healthcare-dataset-stroke-data.csv')\n",
    "stroke_data.info()"
   ]
  },
  {
   "cell_type": "markdown",
   "id": "67b9e959",
   "metadata": {
    "papermill": {
     "duration": 0.005124,
     "end_time": "2022-06-07T16:16:15.640012",
     "exception": false,
     "start_time": "2022-06-07T16:16:15.634888",
     "status": "completed"
    },
    "tags": []
   },
   "source": [
    "#### Exploratory Data Analysis:"
   ]
  },
  {
   "cell_type": "code",
   "execution_count": 3,
   "id": "a1eed5c9",
   "metadata": {
    "execution": {
     "iopub.execute_input": "2022-06-07T16:16:15.652344Z",
     "iopub.status.busy": "2022-06-07T16:16:15.651706Z",
     "iopub.status.idle": "2022-06-07T16:16:15.673874Z",
     "shell.execute_reply": "2022-06-07T16:16:15.673182Z"
    },
    "papermill": {
     "duration": 0.030562,
     "end_time": "2022-06-07T16:16:15.675807",
     "exception": false,
     "start_time": "2022-06-07T16:16:15.645245",
     "status": "completed"
    },
    "tags": []
   },
   "outputs": [
    {
     "data": {
      "text/html": [
       "<div>\n",
       "<style scoped>\n",
       "    .dataframe tbody tr th:only-of-type {\n",
       "        vertical-align: middle;\n",
       "    }\n",
       "\n",
       "    .dataframe tbody tr th {\n",
       "        vertical-align: top;\n",
       "    }\n",
       "\n",
       "    .dataframe thead th {\n",
       "        text-align: right;\n",
       "    }\n",
       "</style>\n",
       "<table border=\"1\" class=\"dataframe\">\n",
       "  <thead>\n",
       "    <tr style=\"text-align: right;\">\n",
       "      <th></th>\n",
       "      <th>id</th>\n",
       "      <th>gender</th>\n",
       "      <th>age</th>\n",
       "      <th>hypertension</th>\n",
       "      <th>heart_disease</th>\n",
       "      <th>ever_married</th>\n",
       "      <th>work_type</th>\n",
       "      <th>Residence_type</th>\n",
       "      <th>avg_glucose_level</th>\n",
       "      <th>bmi</th>\n",
       "      <th>smoking_status</th>\n",
       "      <th>stroke</th>\n",
       "    </tr>\n",
       "  </thead>\n",
       "  <tbody>\n",
       "    <tr>\n",
       "      <th>0</th>\n",
       "      <td>9046</td>\n",
       "      <td>Male</td>\n",
       "      <td>67.0</td>\n",
       "      <td>0</td>\n",
       "      <td>1</td>\n",
       "      <td>Yes</td>\n",
       "      <td>Private</td>\n",
       "      <td>Urban</td>\n",
       "      <td>228.69</td>\n",
       "      <td>36.6</td>\n",
       "      <td>formerly smoked</td>\n",
       "      <td>1</td>\n",
       "    </tr>\n",
       "    <tr>\n",
       "      <th>1</th>\n",
       "      <td>51676</td>\n",
       "      <td>Female</td>\n",
       "      <td>61.0</td>\n",
       "      <td>0</td>\n",
       "      <td>0</td>\n",
       "      <td>Yes</td>\n",
       "      <td>Self-employed</td>\n",
       "      <td>Rural</td>\n",
       "      <td>202.21</td>\n",
       "      <td>NaN</td>\n",
       "      <td>never smoked</td>\n",
       "      <td>1</td>\n",
       "    </tr>\n",
       "    <tr>\n",
       "      <th>2</th>\n",
       "      <td>31112</td>\n",
       "      <td>Male</td>\n",
       "      <td>80.0</td>\n",
       "      <td>0</td>\n",
       "      <td>1</td>\n",
       "      <td>Yes</td>\n",
       "      <td>Private</td>\n",
       "      <td>Rural</td>\n",
       "      <td>105.92</td>\n",
       "      <td>32.5</td>\n",
       "      <td>never smoked</td>\n",
       "      <td>1</td>\n",
       "    </tr>\n",
       "    <tr>\n",
       "      <th>3</th>\n",
       "      <td>60182</td>\n",
       "      <td>Female</td>\n",
       "      <td>49.0</td>\n",
       "      <td>0</td>\n",
       "      <td>0</td>\n",
       "      <td>Yes</td>\n",
       "      <td>Private</td>\n",
       "      <td>Urban</td>\n",
       "      <td>171.23</td>\n",
       "      <td>34.4</td>\n",
       "      <td>smokes</td>\n",
       "      <td>1</td>\n",
       "    </tr>\n",
       "    <tr>\n",
       "      <th>4</th>\n",
       "      <td>1665</td>\n",
       "      <td>Female</td>\n",
       "      <td>79.0</td>\n",
       "      <td>1</td>\n",
       "      <td>0</td>\n",
       "      <td>Yes</td>\n",
       "      <td>Self-employed</td>\n",
       "      <td>Rural</td>\n",
       "      <td>174.12</td>\n",
       "      <td>24.0</td>\n",
       "      <td>never smoked</td>\n",
       "      <td>1</td>\n",
       "    </tr>\n",
       "  </tbody>\n",
       "</table>\n",
       "</div>"
      ],
      "text/plain": [
       "      id  gender   age  hypertension  heart_disease ever_married  \\\n",
       "0   9046    Male  67.0             0              1          Yes   \n",
       "1  51676  Female  61.0             0              0          Yes   \n",
       "2  31112    Male  80.0             0              1          Yes   \n",
       "3  60182  Female  49.0             0              0          Yes   \n",
       "4   1665  Female  79.0             1              0          Yes   \n",
       "\n",
       "       work_type Residence_type  avg_glucose_level   bmi   smoking_status  \\\n",
       "0        Private          Urban             228.69  36.6  formerly smoked   \n",
       "1  Self-employed          Rural             202.21   NaN     never smoked   \n",
       "2        Private          Rural             105.92  32.5     never smoked   \n",
       "3        Private          Urban             171.23  34.4           smokes   \n",
       "4  Self-employed          Rural             174.12  24.0     never smoked   \n",
       "\n",
       "   stroke  \n",
       "0       1  \n",
       "1       1  \n",
       "2       1  \n",
       "3       1  \n",
       "4       1  "
      ]
     },
     "execution_count": 3,
     "metadata": {},
     "output_type": "execute_result"
    }
   ],
   "source": [
    "stroke_data.head()"
   ]
  },
  {
   "cell_type": "code",
   "execution_count": 4,
   "id": "9e76b66c",
   "metadata": {
    "execution": {
     "iopub.execute_input": "2022-06-07T16:16:15.688430Z",
     "iopub.status.busy": "2022-06-07T16:16:15.687661Z",
     "iopub.status.idle": "2022-06-07T16:16:15.693307Z",
     "shell.execute_reply": "2022-06-07T16:16:15.692672Z"
    },
    "papermill": {
     "duration": 0.013762,
     "end_time": "2022-06-07T16:16:15.694979",
     "exception": false,
     "start_time": "2022-06-07T16:16:15.681217",
     "status": "completed"
    },
    "tags": []
   },
   "outputs": [
    {
     "data": {
      "text/plain": [
       "Index(['id', 'gender', 'age', 'hypertension', 'heart_disease', 'ever_married',\n",
       "       'work_type', 'Residence_type', 'avg_glucose_level', 'bmi',\n",
       "       'smoking_status', 'stroke'],\n",
       "      dtype='object')"
      ]
     },
     "execution_count": 4,
     "metadata": {},
     "output_type": "execute_result"
    }
   ],
   "source": [
    "stroke_data.columns"
   ]
  },
  {
   "cell_type": "code",
   "execution_count": 5,
   "id": "7d176306",
   "metadata": {
    "execution": {
     "iopub.execute_input": "2022-06-07T16:16:15.707825Z",
     "iopub.status.busy": "2022-06-07T16:16:15.707179Z",
     "iopub.status.idle": "2022-06-07T16:16:15.718319Z",
     "shell.execute_reply": "2022-06-07T16:16:15.717461Z"
    },
    "papermill": {
     "duration": 0.019598,
     "end_time": "2022-06-07T16:16:15.720150",
     "exception": false,
     "start_time": "2022-06-07T16:16:15.700552",
     "status": "completed"
    },
    "tags": []
   },
   "outputs": [
    {
     "data": {
      "text/plain": [
       "id                     0\n",
       "gender                 0\n",
       "age                    0\n",
       "hypertension           0\n",
       "heart_disease          0\n",
       "ever_married           0\n",
       "work_type              0\n",
       "Residence_type         0\n",
       "avg_glucose_level      0\n",
       "smoking_status         0\n",
       "stroke                 0\n",
       "bmi                  201\n",
       "dtype: int64"
      ]
     },
     "execution_count": 5,
     "metadata": {},
     "output_type": "execute_result"
    }
   ],
   "source": [
    "na_values = stroke_data.isna().sum()\n",
    "na_values.sort_values()"
   ]
  },
  {
   "cell_type": "markdown",
   "id": "c4f235ff",
   "metadata": {
    "papermill": {
     "duration": 0.005718,
     "end_time": "2022-06-07T16:16:15.731507",
     "exception": false,
     "start_time": "2022-06-07T16:16:15.725789",
     "status": "completed"
    },
    "tags": []
   },
   "source": [
    "#### Data Preprocessing:"
   ]
  },
  {
   "cell_type": "code",
   "execution_count": 6,
   "id": "0b2b5901",
   "metadata": {
    "execution": {
     "iopub.execute_input": "2022-06-07T16:16:15.745282Z",
     "iopub.status.busy": "2022-06-07T16:16:15.744355Z",
     "iopub.status.idle": "2022-06-07T16:16:15.768522Z",
     "shell.execute_reply": "2022-06-07T16:16:15.767539Z"
    },
    "papermill": {
     "duration": 0.033332,
     "end_time": "2022-06-07T16:16:15.770769",
     "exception": false,
     "start_time": "2022-06-07T16:16:15.737437",
     "status": "completed"
    },
    "tags": []
   },
   "outputs": [],
   "source": [
    "# remove na values from the bmi column\n",
    "stroke_data = stroke_data.dropna(subset = ['bmi'])\n",
    "\n",
    "numeric_cols = stroke_data.select_dtypes(exclude = \"object\").columns.tolist()\n",
    "categoric_cols = stroke_data.select_dtypes(include = \"object\").columns.tolist()\n",
    "\n",
    "stroke_data[categoric_cols] = stroke_data[categoric_cols].apply(LabelEncoder().fit_transform)"
   ]
  },
  {
   "cell_type": "code",
   "execution_count": 7,
   "id": "c422a662",
   "metadata": {
    "execution": {
     "iopub.execute_input": "2022-06-07T16:16:15.784464Z",
     "iopub.status.busy": "2022-06-07T16:16:15.783837Z",
     "iopub.status.idle": "2022-06-07T16:16:15.799937Z",
     "shell.execute_reply": "2022-06-07T16:16:15.799022Z"
    },
    "papermill": {
     "duration": 0.025397,
     "end_time": "2022-06-07T16:16:15.802151",
     "exception": false,
     "start_time": "2022-06-07T16:16:15.776754",
     "status": "completed"
    },
    "tags": []
   },
   "outputs": [
    {
     "data": {
      "text/html": [
       "<div>\n",
       "<style scoped>\n",
       "    .dataframe tbody tr th:only-of-type {\n",
       "        vertical-align: middle;\n",
       "    }\n",
       "\n",
       "    .dataframe tbody tr th {\n",
       "        vertical-align: top;\n",
       "    }\n",
       "\n",
       "    .dataframe thead th {\n",
       "        text-align: right;\n",
       "    }\n",
       "</style>\n",
       "<table border=\"1\" class=\"dataframe\">\n",
       "  <thead>\n",
       "    <tr style=\"text-align: right;\">\n",
       "      <th></th>\n",
       "      <th>id</th>\n",
       "      <th>gender</th>\n",
       "      <th>age</th>\n",
       "      <th>hypertension</th>\n",
       "      <th>heart_disease</th>\n",
       "      <th>ever_married</th>\n",
       "      <th>work_type</th>\n",
       "      <th>Residence_type</th>\n",
       "      <th>avg_glucose_level</th>\n",
       "      <th>bmi</th>\n",
       "      <th>smoking_status</th>\n",
       "      <th>stroke</th>\n",
       "    </tr>\n",
       "  </thead>\n",
       "  <tbody>\n",
       "    <tr>\n",
       "      <th>0</th>\n",
       "      <td>9046</td>\n",
       "      <td>1</td>\n",
       "      <td>67.0</td>\n",
       "      <td>0</td>\n",
       "      <td>1</td>\n",
       "      <td>1</td>\n",
       "      <td>2</td>\n",
       "      <td>1</td>\n",
       "      <td>228.69</td>\n",
       "      <td>36.6</td>\n",
       "      <td>1</td>\n",
       "      <td>1</td>\n",
       "    </tr>\n",
       "    <tr>\n",
       "      <th>2</th>\n",
       "      <td>31112</td>\n",
       "      <td>1</td>\n",
       "      <td>80.0</td>\n",
       "      <td>0</td>\n",
       "      <td>1</td>\n",
       "      <td>1</td>\n",
       "      <td>2</td>\n",
       "      <td>0</td>\n",
       "      <td>105.92</td>\n",
       "      <td>32.5</td>\n",
       "      <td>2</td>\n",
       "      <td>1</td>\n",
       "    </tr>\n",
       "    <tr>\n",
       "      <th>3</th>\n",
       "      <td>60182</td>\n",
       "      <td>0</td>\n",
       "      <td>49.0</td>\n",
       "      <td>0</td>\n",
       "      <td>0</td>\n",
       "      <td>1</td>\n",
       "      <td>2</td>\n",
       "      <td>1</td>\n",
       "      <td>171.23</td>\n",
       "      <td>34.4</td>\n",
       "      <td>3</td>\n",
       "      <td>1</td>\n",
       "    </tr>\n",
       "    <tr>\n",
       "      <th>4</th>\n",
       "      <td>1665</td>\n",
       "      <td>0</td>\n",
       "      <td>79.0</td>\n",
       "      <td>1</td>\n",
       "      <td>0</td>\n",
       "      <td>1</td>\n",
       "      <td>3</td>\n",
       "      <td>0</td>\n",
       "      <td>174.12</td>\n",
       "      <td>24.0</td>\n",
       "      <td>2</td>\n",
       "      <td>1</td>\n",
       "    </tr>\n",
       "    <tr>\n",
       "      <th>5</th>\n",
       "      <td>56669</td>\n",
       "      <td>1</td>\n",
       "      <td>81.0</td>\n",
       "      <td>0</td>\n",
       "      <td>0</td>\n",
       "      <td>1</td>\n",
       "      <td>2</td>\n",
       "      <td>1</td>\n",
       "      <td>186.21</td>\n",
       "      <td>29.0</td>\n",
       "      <td>1</td>\n",
       "      <td>1</td>\n",
       "    </tr>\n",
       "  </tbody>\n",
       "</table>\n",
       "</div>"
      ],
      "text/plain": [
       "      id  gender   age  hypertension  heart_disease  ever_married  work_type  \\\n",
       "0   9046       1  67.0             0              1             1          2   \n",
       "2  31112       1  80.0             0              1             1          2   \n",
       "3  60182       0  49.0             0              0             1          2   \n",
       "4   1665       0  79.0             1              0             1          3   \n",
       "5  56669       1  81.0             0              0             1          2   \n",
       "\n",
       "   Residence_type  avg_glucose_level   bmi  smoking_status  stroke  \n",
       "0               1             228.69  36.6               1       1  \n",
       "2               0             105.92  32.5               2       1  \n",
       "3               1             171.23  34.4               3       1  \n",
       "4               0             174.12  24.0               2       1  \n",
       "5               1             186.21  29.0               1       1  "
      ]
     },
     "execution_count": 7,
     "metadata": {},
     "output_type": "execute_result"
    }
   ],
   "source": [
    "stroke_data.head()"
   ]
  },
  {
   "cell_type": "code",
   "execution_count": 8,
   "id": "9a4f6705",
   "metadata": {
    "execution": {
     "iopub.execute_input": "2022-06-07T16:16:15.815847Z",
     "iopub.status.busy": "2022-06-07T16:16:15.815470Z",
     "iopub.status.idle": "2022-06-07T16:16:15.821787Z",
     "shell.execute_reply": "2022-06-07T16:16:15.820920Z"
    },
    "papermill": {
     "duration": 0.015361,
     "end_time": "2022-06-07T16:16:15.823756",
     "exception": false,
     "start_time": "2022-06-07T16:16:15.808395",
     "status": "completed"
    },
    "tags": []
   },
   "outputs": [],
   "source": [
    "X = stroke_data.drop(columns =['stroke'])\n",
    "y = stroke_data['stroke']"
   ]
  },
  {
   "cell_type": "code",
   "execution_count": 9,
   "id": "fd2cb409",
   "metadata": {
    "execution": {
     "iopub.execute_input": "2022-06-07T16:16:15.837409Z",
     "iopub.status.busy": "2022-06-07T16:16:15.836980Z",
     "iopub.status.idle": "2022-06-07T16:16:15.907601Z",
     "shell.execute_reply": "2022-06-07T16:16:15.906397Z"
    },
    "papermill": {
     "duration": 0.080954,
     "end_time": "2022-06-07T16:16:15.910917",
     "exception": false,
     "start_time": "2022-06-07T16:16:15.829963",
     "status": "completed"
    },
    "tags": []
   },
   "outputs": [
    {
     "name": "stdout",
     "output_type": "stream",
     "text": [
      "(3289, 11) (1620, 11) (3289,) (1620,)\n"
     ]
    }
   ],
   "source": [
    "from sklearn.model_selection import train_test_split\n",
    "\n",
    "\n",
    "# split into train test sets\n",
    "X_train, X_test, y_train, y_test = train_test_split(X, y, test_size=0.33)\n",
    "print(X_train.shape, X_test.shape, y_train.shape, y_test.shape)"
   ]
  },
  {
   "cell_type": "markdown",
   "id": "8009ee3e",
   "metadata": {
    "papermill": {
     "duration": 0.005989,
     "end_time": "2022-06-07T16:16:15.923340",
     "exception": false,
     "start_time": "2022-06-07T16:16:15.917351",
     "status": "completed"
    },
    "tags": []
   },
   "source": [
    "##### Training a logistic regression model"
   ]
  },
  {
   "cell_type": "code",
   "execution_count": 10,
   "id": "e07c69cc",
   "metadata": {
    "execution": {
     "iopub.execute_input": "2022-06-07T16:16:15.937546Z",
     "iopub.status.busy": "2022-06-07T16:16:15.936534Z",
     "iopub.status.idle": "2022-06-07T16:16:16.216465Z",
     "shell.execute_reply": "2022-06-07T16:16:16.215245Z"
    },
    "papermill": {
     "duration": 0.290323,
     "end_time": "2022-06-07T16:16:16.219677",
     "exception": false,
     "start_time": "2022-06-07T16:16:15.929354",
     "status": "completed"
    },
    "tags": []
   },
   "outputs": [
    {
     "data": {
      "text/plain": [
       "0.8426564297624685"
      ]
     },
     "execution_count": 10,
     "metadata": {},
     "output_type": "execute_result"
    }
   ],
   "source": [
    "from sklearn.linear_model import LogisticRegression\n",
    "from sklearn import model_selection\n",
    "seed = 42\n",
    "\n",
    "transform = MinMaxScaler()\n",
    "X_scaled = transform.fit_transform(X)\n",
    "\n",
    "kfold = model_selection.KFold(n_splits=5, random_state=seed, shuffle=True)\n",
    "model = LogisticRegression()\n",
    "results = model_selection.cross_val_score(model, X_scaled, y, cv=kfold, scoring='roc_auc')\n",
    "results.mean()"
   ]
  },
  {
   "cell_type": "markdown",
   "id": "4e09eefc",
   "metadata": {
    "papermill": {
     "duration": 0.010885,
     "end_time": "2022-06-07T16:16:16.242204",
     "exception": false,
     "start_time": "2022-06-07T16:16:16.231319",
     "status": "completed"
    },
    "tags": []
   },
   "source": [
    "##### Training a decision tree classifier"
   ]
  },
  {
   "cell_type": "code",
   "execution_count": 11,
   "id": "b21cea8e",
   "metadata": {
    "execution": {
     "iopub.execute_input": "2022-06-07T16:16:16.267250Z",
     "iopub.status.busy": "2022-06-07T16:16:16.266623Z",
     "iopub.status.idle": "2022-06-07T16:16:16.451263Z",
     "shell.execute_reply": "2022-06-07T16:16:16.449517Z"
    },
    "papermill": {
     "duration": 0.19998,
     "end_time": "2022-06-07T16:16:16.453663",
     "exception": false,
     "start_time": "2022-06-07T16:16:16.253683",
     "status": "completed"
    },
    "tags": []
   },
   "outputs": [
    {
     "data": {
      "text/plain": [
       "0.540940952624928"
      ]
     },
     "execution_count": 11,
     "metadata": {},
     "output_type": "execute_result"
    }
   ],
   "source": [
    "from sklearn.tree import DecisionTreeClassifier\n",
    "kfold = model_selection.KFold(n_splits=5, random_state=seed, shuffle=True)\n",
    "model = DecisionTreeClassifier()\n",
    "results = model_selection.cross_val_score(model, X_scaled, y, cv=kfold, scoring='roc_auc')\n",
    "results.mean()"
   ]
  },
  {
   "cell_type": "markdown",
   "id": "82f4093f",
   "metadata": {
    "papermill": {
     "duration": 0.006327,
     "end_time": "2022-06-07T16:16:16.466390",
     "exception": false,
     "start_time": "2022-06-07T16:16:16.460063",
     "status": "completed"
    },
    "tags": []
   },
   "source": [
    "#### Training a RandomForest Classifier"
   ]
  },
  {
   "cell_type": "code",
   "execution_count": 12,
   "id": "e08e7695",
   "metadata": {
    "execution": {
     "iopub.execute_input": "2022-06-07T16:16:16.480606Z",
     "iopub.status.busy": "2022-06-07T16:16:16.479973Z",
     "iopub.status.idle": "2022-06-07T16:16:19.022126Z",
     "shell.execute_reply": "2022-06-07T16:16:19.021255Z"
    },
    "papermill": {
     "duration": 2.551584,
     "end_time": "2022-06-07T16:16:19.024238",
     "exception": false,
     "start_time": "2022-06-07T16:16:16.472654",
     "status": "completed"
    },
    "tags": []
   },
   "outputs": [
    {
     "data": {
      "text/plain": [
       "0.7880488435553914"
      ]
     },
     "execution_count": 12,
     "metadata": {},
     "output_type": "execute_result"
    }
   ],
   "source": [
    "from sklearn.ensemble import RandomForestClassifier\n",
    "kfold = model_selection.KFold(n_splits=5, random_state=seed, shuffle=True)\n",
    "model = RandomForestClassifier()\n",
    "results = model_selection.cross_val_score(model, X_scaled, y, cv=kfold, scoring='roc_auc')\n",
    "results.mean()"
   ]
  }
 ],
 "metadata": {
  "kernelspec": {
   "display_name": "Python 3",
   "language": "python",
   "name": "python3"
  },
  "language_info": {
   "codemirror_mode": {
    "name": "ipython",
    "version": 3
   },
   "file_extension": ".py",
   "mimetype": "text/x-python",
   "name": "python",
   "nbconvert_exporter": "python",
   "pygments_lexer": "ipython3",
   "version": "3.7.12"
  },
  "papermill": {
   "default_parameters": {},
   "duration": 15.343606,
   "end_time": "2022-06-07T16:16:19.751744",
   "environment_variables": {},
   "exception": null,
   "input_path": "__notebook__.ipynb",
   "output_path": "__notebook__.ipynb",
   "parameters": {},
   "start_time": "2022-06-07T16:16:04.408138",
   "version": "2.3.4"
  }
 },
 "nbformat": 4,
 "nbformat_minor": 5
}
