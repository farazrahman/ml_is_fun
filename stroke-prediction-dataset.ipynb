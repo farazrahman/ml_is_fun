{
 "cells": [
  {
   "cell_type": "markdown",
   "id": "b1dc1bcc",
   "metadata": {
    "papermill": {
     "duration": 0.009037,
     "end_time": "2022-06-08T07:18:05.554121",
     "exception": false,
     "start_time": "2022-06-08T07:18:05.545084",
     "status": "completed"
    },
    "tags": []
   },
   "source": [
    "### STROKE PREDICTION:"
   ]
  },
  {
   "cell_type": "code",
   "execution_count": 1,
   "id": "bf563a94",
   "metadata": {
    "execution": {
     "iopub.execute_input": "2022-06-08T07:18:05.568567Z",
     "iopub.status.busy": "2022-06-08T07:18:05.567755Z",
     "iopub.status.idle": "2022-06-08T07:18:54.145043Z",
     "shell.execute_reply": "2022-06-08T07:18:54.144054Z"
    },
    "papermill": {
     "duration": 48.587625,
     "end_time": "2022-06-08T07:18:54.147784",
     "exception": false,
     "start_time": "2022-06-08T07:18:05.560159",
     "status": "completed"
    },
    "tags": []
   },
   "outputs": [
    {
     "name": "stdout",
     "output_type": "stream",
     "text": [
      "Collecting mlfoundry\r\n",
      "  Downloading mlfoundry-0.3.22-py3-none-any.whl (97 kB)\r\n",
      "\u001b[2K     \u001b[90m━━━━━━━━━━━━━━━━━━━━━━━━━━━━━━━━━━━━━━━\u001b[0m \u001b[32m97.8/97.8 kB\u001b[0m \u001b[31m348.2 kB/s\u001b[0m eta \u001b[36m0:00:00\u001b[0m\r\n",
      "\u001b[?25hRequirement already satisfied: numpy>=1.17.0 in /opt/conda/lib/python3.7/site-packages (from mlfoundry) (1.21.6)\r\n",
      "Collecting whylogs<0.7.0,>=0.6.15\r\n",
      "  Downloading whylogs-0.6.30-py3-none-any.whl (2.1 MB)\r\n",
      "\u001b[2K     \u001b[90m━━━━━━━━━━━━━━━━━━━━━━━━━━━━━━━━━━━━━━━━\u001b[0m \u001b[32m2.1/2.1 MB\u001b[0m \u001b[31m2.8 MB/s\u001b[0m eta \u001b[36m0:00:00\u001b[0m\r\n",
      "\u001b[?25hRequirement already satisfied: psutil<6.0.0,>=5.9.0 in /opt/conda/lib/python3.7/site-packages (from mlfoundry) (5.9.0)\r\n",
      "Collecting pipreqs<0.5.0,>=0.4.11\r\n",
      "  Downloading pipreqs-0.4.11-py2.py3-none-any.whl (32 kB)\r\n",
      "Collecting scikit-learn<0.25.0,>=0.24.2\r\n",
      "  Downloading scikit_learn-0.24.2-cp37-cp37m-manylinux2010_x86_64.whl (22.3 MB)\r\n",
      "\u001b[2K     \u001b[90m━━━━━━━━━━━━━━━━━━━━━━━━━━━━━━━━━━━━━━━━\u001b[0m \u001b[32m22.3/22.3 MB\u001b[0m \u001b[31m13.3 MB/s\u001b[0m eta \u001b[36m0:00:00\u001b[0m\r\n",
      "\u001b[?25hRequirement already satisfied: scipy<2.0.0,>=1.5.4 in /opt/conda/lib/python3.7/site-packages (from mlfoundry) (1.7.3)\r\n",
      "Collecting fastparquet<0.8.0,>=0.7.2\r\n",
      "  Downloading fastparquet-0.7.2-cp37-cp37m-manylinux2010_x86_64.whl (1.2 MB)\r\n",
      "\u001b[2K     \u001b[90m━━━━━━━━━━━━━━━━━━━━━━━━━━━━━━━━━━━━━━━━\u001b[0m \u001b[32m1.2/1.2 MB\u001b[0m \u001b[31m32.0 MB/s\u001b[0m eta \u001b[36m0:00:00\u001b[0m\r\n",
      "\u001b[?25hCollecting psycopg2-binary<3.0.0,>=2.9.1\r\n",
      "  Downloading psycopg2_binary-2.9.3-cp37-cp37m-manylinux_2_17_x86_64.manylinux2014_x86_64.whl (3.0 MB)\r\n",
      "\u001b[2K     \u001b[90m━━━━━━━━━━━━━━━━━━━━━━━━━━━━━━━━━━━━━━━━\u001b[0m \u001b[32m3.0/3.0 MB\u001b[0m \u001b[31m43.5 MB/s\u001b[0m eta \u001b[36m0:00:00\u001b[0m\r\n",
      "\u001b[?25hCollecting amplitude-tracker<0.0.8,>=0.0.7\r\n",
      "  Downloading amplitude_tracker-0.0.7-py2.py3-none-any.whl (15 kB)\r\n",
      "Requirement already satisfied: importlib-metadata<5.0.0,>=4.11.3 in /opt/conda/lib/python3.7/site-packages (from mlfoundry) (4.11.4)\r\n",
      "Requirement already satisfied: pandas>=1.0.0 in /opt/conda/lib/python3.7/site-packages (from mlfoundry) (1.3.5)\r\n",
      "Requirement already satisfied: shap<0.41.0,>=0.40.0 in /opt/conda/lib/python3.7/site-packages (from mlfoundry) (0.40.0)\r\n",
      "Requirement already satisfied: GitPython<4.0.0,>=3.1.26 in /opt/conda/lib/python3.7/site-packages (from mlfoundry) (3.1.27)\r\n",
      "Requirement already satisfied: matplotlib>=3.0.3 in /opt/conda/lib/python3.7/site-packages (from mlfoundry) (3.5.2)\r\n",
      "Collecting tfy-mlflow-client==0.0.10\r\n",
      "  Downloading tfy_mlflow_client-0.0.10-py3-none-any.whl (3.0 MB)\r\n",
      "\u001b[2K     \u001b[90m━━━━━━━━━━━━━━━━━━━━━━━━━━━━━━━━━━━━━━━━\u001b[0m \u001b[32m3.0/3.0 MB\u001b[0m \u001b[31m46.2 MB/s\u001b[0m eta \u001b[36m0:00:00\u001b[0m\r\n",
      "\u001b[?25hRequirement already satisfied: cryptography<37.0.0,>=36.0.1 in /opt/conda/lib/python3.7/site-packages (from mlfoundry) (36.0.2)\r\n",
      "Collecting tinynetrc<2.0.0,>=1.3.1\r\n",
      "  Downloading tinynetrc-1.3.1-py2.py3-none-any.whl (3.9 kB)\r\n",
      "Requirement already satisfied: SQLAlchemy<2.0.0,>=1.4.30 in /opt/conda/lib/python3.7/site-packages (from mlfoundry) (1.4.36)\r\n",
      "Collecting human-id<0.3.0,>=0.2.0\r\n",
      "  Downloading human_id-0.2.0-py3-none-any.whl (4.5 kB)\r\n",
      "Requirement already satisfied: packaging<22.0,>=21.3 in /opt/conda/lib/python3.7/site-packages (from mlfoundry) (21.3)\r\n",
      "Collecting pyarrow<6.0.0,>=5.0.0\r\n",
      "  Downloading pyarrow-5.0.0-cp37-cp37m-manylinux2014_x86_64.whl (23.6 MB)\r\n",
      "\u001b[2K     \u001b[90m━━━━━━━━━━━━━━━━━━━━━━━━━━━━━━━━━━━━━━━━\u001b[0m \u001b[32m23.6/23.6 MB\u001b[0m \u001b[31m13.5 MB/s\u001b[0m eta \u001b[36m0:00:00\u001b[0m\r\n",
      "\u001b[?25hCollecting PyMySQL<2.0.0,>=1.0.2\r\n",
      "  Downloading PyMySQL-1.0.2-py3-none-any.whl (43 kB)\r\n",
      "\u001b[2K     \u001b[90m━━━━━━━━━━━━━━━━━━━━━━━━━━━━━━━━━━━━━━━━\u001b[0m \u001b[32m43.8/43.8 kB\u001b[0m \u001b[31m3.3 MB/s\u001b[0m eta \u001b[36m0:00:00\u001b[0m\r\n",
      "\u001b[?25hRequirement already satisfied: pydantic<2.0.0,>=1.8.2 in /opt/conda/lib/python3.7/site-packages (from mlfoundry) (1.8.2)\r\n",
      "Requirement already satisfied: orjson<4.0.0,>=3.6.5 in /opt/conda/lib/python3.7/site-packages (from mlfoundry) (3.6.8)\r\n",
      "Requirement already satisfied: boto3<2.0.0,>=1.14.1 in /opt/conda/lib/python3.7/site-packages (from mlfoundry) (1.23.6)\r\n",
      "Requirement already satisfied: sqlparse>=0.3.1 in /opt/conda/lib/python3.7/site-packages (from tfy-mlflow-client==0.0.10->mlfoundry) (0.4.2)\r\n",
      "Requirement already satisfied: click>=7.0 in /opt/conda/lib/python3.7/site-packages (from tfy-mlflow-client==0.0.10->mlfoundry) (8.0.4)\r\n",
      "Requirement already satisfied: pyyaml>=5.1 in /opt/conda/lib/python3.7/site-packages (from tfy-mlflow-client==0.0.10->mlfoundry) (6.0)\r\n",
      "Collecting databricks-cli>=0.8.7\r\n",
      "  Downloading databricks-cli-0.16.6.tar.gz (62 kB)\r\n",
      "\u001b[2K     \u001b[90m━━━━━━━━━━━━━━━━━━━━━━━━━━━━━━━━━━━━━━━━\u001b[0m \u001b[32m62.2/62.2 kB\u001b[0m \u001b[31m4.5 MB/s\u001b[0m eta \u001b[36m0:00:00\u001b[0m\r\n",
      "\u001b[?25h  Preparing metadata (setup.py) ... \u001b[?25l-\b \bdone\r\n",
      "\u001b[?25hRequirement already satisfied: entrypoints in /opt/conda/lib/python3.7/site-packages (from tfy-mlflow-client==0.0.10->mlfoundry) (0.4)\r\n",
      "Requirement already satisfied: pytz in /opt/conda/lib/python3.7/site-packages (from tfy-mlflow-client==0.0.10->mlfoundry) (2022.1)\r\n",
      "Requirement already satisfied: cloudpickle in /opt/conda/lib/python3.7/site-packages (from tfy-mlflow-client==0.0.10->mlfoundry) (2.0.0)\r\n",
      "Requirement already satisfied: protobuf<5.0,>=3.12 in /opt/conda/lib/python3.7/site-packages (from tfy-mlflow-client==0.0.10->mlfoundry) (3.20.1)\r\n",
      "Requirement already satisfied: requests>=2.17.3 in /opt/conda/lib/python3.7/site-packages (from tfy-mlflow-client==0.0.10->mlfoundry) (2.27.1)\r\n",
      "Requirement already satisfied: python-dateutil>2.1 in /opt/conda/lib/python3.7/site-packages (from amplitude-tracker<0.0.8,>=0.0.7->mlfoundry) (2.8.2)\r\n",
      "Collecting monotonic>=1.5\r\n",
      "  Downloading monotonic-1.6-py2.py3-none-any.whl (8.2 kB)\r\n",
      "Requirement already satisfied: six>=1.5 in /opt/conda/lib/python3.7/site-packages (from amplitude-tracker<0.0.8,>=0.0.7->mlfoundry) (1.16.0)\r\n",
      "Collecting backoff==1.10.0\r\n",
      "  Downloading backoff-1.10.0-py2.py3-none-any.whl (31 kB)\r\n",
      "Requirement already satisfied: jmespath<2.0.0,>=0.7.1 in /opt/conda/lib/python3.7/site-packages (from boto3<2.0.0,>=1.14.1->mlfoundry) (1.0.0)\r\n",
      "Requirement already satisfied: s3transfer<0.6.0,>=0.5.0 in /opt/conda/lib/python3.7/site-packages (from boto3<2.0.0,>=1.14.1->mlfoundry) (0.5.2)\r\n",
      "Requirement already satisfied: botocore<1.27.0,>=1.26.6 in /opt/conda/lib/python3.7/site-packages (from boto3<2.0.0,>=1.14.1->mlfoundry) (1.26.7)\r\n",
      "Requirement already satisfied: cffi>=1.12 in /opt/conda/lib/python3.7/site-packages (from cryptography<37.0.0,>=36.0.1->mlfoundry) (1.15.0)\r\n",
      "Requirement already satisfied: fsspec in /opt/conda/lib/python3.7/site-packages (from fastparquet<0.8.0,>=0.7.2->mlfoundry) (2022.5.0)\r\n",
      "Collecting thrift>=0.11.0\r\n",
      "  Downloading thrift-0.16.0.tar.gz (59 kB)\r\n",
      "\u001b[2K     \u001b[90m━━━━━━━━━━━━━━━━━━━━━━━━━━━━━━━━━━━━━━━━\u001b[0m \u001b[32m59.6/59.6 kB\u001b[0m \u001b[31m4.0 MB/s\u001b[0m eta \u001b[36m0:00:00\u001b[0m\r\n",
      "\u001b[?25h  Preparing metadata (setup.py) ... \u001b[?25l-\b \bdone\r\n",
      "\u001b[?25hCollecting cramjam>=2.3.0\r\n",
      "  Downloading cramjam-2.5.0-cp37-cp37m-manylinux_2_5_x86_64.manylinux1_x86_64.whl (1.6 MB)\r\n",
      "\u001b[2K     \u001b[90m━━━━━━━━━━━━━━━━━━━━━━━━━━━━━━━━━━━━━━━━\u001b[0m \u001b[32m1.6/1.6 MB\u001b[0m \u001b[31m28.5 MB/s\u001b[0m eta \u001b[36m0:00:00\u001b[0m\r\n",
      "\u001b[?25hRequirement already satisfied: typing-extensions>=3.7.4.3 in /opt/conda/lib/python3.7/site-packages (from GitPython<4.0.0,>=3.1.26->mlfoundry) (4.2.0)\r\n",
      "Requirement already satisfied: gitdb<5,>=4.0.1 in /opt/conda/lib/python3.7/site-packages (from GitPython<4.0.0,>=3.1.26->mlfoundry) (4.0.9)\r\n",
      "Requirement already satisfied: zipp>=0.5 in /opt/conda/lib/python3.7/site-packages (from importlib-metadata<5.0.0,>=4.11.3->mlfoundry) (3.8.0)\r\n",
      "Requirement already satisfied: cycler>=0.10 in /opt/conda/lib/python3.7/site-packages (from matplotlib>=3.0.3->mlfoundry) (0.11.0)\r\n",
      "Requirement already satisfied: pyparsing>=2.2.1 in /opt/conda/lib/python3.7/site-packages (from matplotlib>=3.0.3->mlfoundry) (3.0.9)\r\n",
      "Requirement already satisfied: fonttools>=4.22.0 in /opt/conda/lib/python3.7/site-packages (from matplotlib>=3.0.3->mlfoundry) (4.33.3)\r\n",
      "Requirement already satisfied: kiwisolver>=1.0.1 in /opt/conda/lib/python3.7/site-packages (from matplotlib>=3.0.3->mlfoundry) (1.4.2)\r\n",
      "Requirement already satisfied: pillow>=6.2.0 in /opt/conda/lib/python3.7/site-packages (from matplotlib>=3.0.3->mlfoundry) (9.1.0)\r\n",
      "Requirement already satisfied: docopt in /opt/conda/lib/python3.7/site-packages (from pipreqs<0.5.0,>=0.4.11->mlfoundry) (0.6.2)\r\n",
      "Collecting yarg\r\n",
      "  Downloading yarg-0.1.9-py2.py3-none-any.whl (19 kB)\r\n",
      "Requirement already satisfied: threadpoolctl>=2.0.0 in /opt/conda/lib/python3.7/site-packages (from scikit-learn<0.25.0,>=0.24.2->mlfoundry) (3.1.0)\r\n",
      "Requirement already satisfied: joblib>=0.11 in /opt/conda/lib/python3.7/site-packages (from scikit-learn<0.25.0,>=0.24.2->mlfoundry) (1.1.0)\r\n",
      "Requirement already satisfied: numba in /opt/conda/lib/python3.7/site-packages (from shap<0.41.0,>=0.40.0->mlfoundry) (0.55.1)\r\n",
      "Requirement already satisfied: slicer==0.0.7 in /opt/conda/lib/python3.7/site-packages (from shap<0.41.0,>=0.40.0->mlfoundry) (0.0.7)\r\n",
      "Requirement already satisfied: tqdm>4.25.0 in /opt/conda/lib/python3.7/site-packages (from shap<0.41.0,>=0.40.0->mlfoundry) (4.64.0)\r\n",
      "Requirement already satisfied: greenlet!=0.4.17 in /opt/conda/lib/python3.7/site-packages (from SQLAlchemy<2.0.0,>=1.4.30->mlfoundry) (1.1.2)\r\n",
      "Collecting whylabs-client<0.4.0,>=0.3.0\r\n",
      "  Downloading whylabs_client-0.3.0-py3-none-any.whl (183 kB)\r\n",
      "\u001b[2K     \u001b[90m━━━━━━━━━━━━━━━━━━━━━━━━━━━━━━━━━━━━━━\u001b[0m \u001b[32m183.6/183.6 kB\u001b[0m \u001b[31m11.8 MB/s\u001b[0m eta \u001b[36m0:00:00\u001b[0m\r\n",
      "\u001b[?25hCollecting whylabs-datasketches>=2.2.0b1\r\n",
      "  Downloading whylabs_datasketches-2.2.0b1-cp37-cp37m-manylinux2010_x86_64.whl (410 kB)\r\n",
      "\u001b[2K     \u001b[90m━━━━━━━━━━━━━━━━━━━━━━━━━━━━━━━━━━━━━━\u001b[0m \u001b[32m410.7/410.7 kB\u001b[0m \u001b[31m22.1 MB/s\u001b[0m eta \u001b[36m0:00:00\u001b[0m\r\n",
      "\u001b[?25hRequirement already satisfied: smart-open>=4.1.2 in /opt/conda/lib/python3.7/site-packages (from whylogs<0.7.0,>=0.6.15->mlfoundry) (5.2.1)\r\n",
      "Requirement already satisfied: jsonschema>=3.2.0 in /opt/conda/lib/python3.7/site-packages (from whylogs<0.7.0,>=0.6.15->mlfoundry) (4.5.1)\r\n",
      "Collecting marshmallow>=3.7.1\r\n",
      "  Downloading marshmallow-3.16.0-py3-none-any.whl (47 kB)\r\n",
      "\u001b[2K     \u001b[90m━━━━━━━━━━━━━━━━━━━━━━━━━━━━━━━━━━━━━━━━\u001b[0m \u001b[32m47.9/47.9 kB\u001b[0m \u001b[31m2.9 MB/s\u001b[0m eta \u001b[36m0:00:00\u001b[0m\r\n",
      "\u001b[?25hCollecting puremagic<2.0,>=1.10\r\n",
      "  Downloading puremagic-1.14-py3-none-any.whl (32 kB)\r\n",
      "Requirement already satisfied: urllib3<1.27,>=1.25.4 in /opt/conda/lib/python3.7/site-packages (from botocore<1.27.0,>=1.26.6->boto3<2.0.0,>=1.14.1->mlfoundry) (1.26.9)\r\n",
      "Requirement already satisfied: pycparser in /opt/conda/lib/python3.7/site-packages (from cffi>=1.12->cryptography<37.0.0,>=36.0.1->mlfoundry) (2.21)\r\n",
      "Requirement already satisfied: pyjwt>=1.7.0 in /opt/conda/lib/python3.7/site-packages (from databricks-cli>=0.8.7->tfy-mlflow-client==0.0.10->mlfoundry) (2.4.0)\r\n",
      "Requirement already satisfied: oauthlib>=3.1.0 in /opt/conda/lib/python3.7/site-packages (from databricks-cli>=0.8.7->tfy-mlflow-client==0.0.10->mlfoundry) (3.2.0)\r\n",
      "Requirement already satisfied: tabulate>=0.7.7 in /opt/conda/lib/python3.7/site-packages (from databricks-cli>=0.8.7->tfy-mlflow-client==0.0.10->mlfoundry) (0.8.9)\r\n",
      "Requirement already satisfied: smmap<6,>=3.0.1 in /opt/conda/lib/python3.7/site-packages (from gitdb<5,>=4.0.1->GitPython<4.0.0,>=3.1.26->mlfoundry) (3.0.5)\r\n",
      "Requirement already satisfied: attrs>=17.4.0 in /opt/conda/lib/python3.7/site-packages (from jsonschema>=3.2.0->whylogs<0.7.0,>=0.6.15->mlfoundry) (21.4.0)\r\n",
      "Requirement already satisfied: pyrsistent!=0.17.0,!=0.17.1,!=0.17.2,>=0.14.0 in /opt/conda/lib/python3.7/site-packages (from jsonschema>=3.2.0->whylogs<0.7.0,>=0.6.15->mlfoundry) (0.18.1)\r\n",
      "Requirement already satisfied: importlib-resources>=1.4.0 in /opt/conda/lib/python3.7/site-packages (from jsonschema>=3.2.0->whylogs<0.7.0,>=0.6.15->mlfoundry) (5.7.1)\r\n",
      "Requirement already satisfied: idna<4,>=2.5 in /opt/conda/lib/python3.7/site-packages (from requests>=2.17.3->tfy-mlflow-client==0.0.10->mlfoundry) (3.3)\r\n",
      "Requirement already satisfied: charset-normalizer~=2.0.0 in /opt/conda/lib/python3.7/site-packages (from requests>=2.17.3->tfy-mlflow-client==0.0.10->mlfoundry) (2.0.12)\r\n",
      "Requirement already satisfied: certifi>=2017.4.17 in /opt/conda/lib/python3.7/site-packages (from requests>=2.17.3->tfy-mlflow-client==0.0.10->mlfoundry) (2022.5.18.1)\r\n",
      "Requirement already satisfied: setuptools in /opt/conda/lib/python3.7/site-packages (from numba->shap<0.41.0,>=0.40.0->mlfoundry) (59.8.0)\r\n",
      "Requirement already satisfied: llvmlite<0.39,>=0.38.0rc1 in /opt/conda/lib/python3.7/site-packages (from numba->shap<0.41.0,>=0.40.0->mlfoundry) (0.38.0)\r\n",
      "Building wheels for collected packages: databricks-cli, thrift\r\n",
      "  Building wheel for databricks-cli (setup.py) ... \u001b[?25l-\b \b\\\b \b|\b \bdone\r\n",
      "\u001b[?25h  Created wheel for databricks-cli: filename=databricks_cli-0.16.6-py3-none-any.whl size=112631 sha256=d9ba5a2cde42c1ffb7c00cf59c096a7a67f946f4b84720c58b98dee2caa4c4f0\r\n",
      "  Stored in directory: /root/.cache/pip/wheels/96/c1/f8/d75a22e789ab6a4dff11f18338c3af4360189aa371295cc934\r\n",
      "  Building wheel for thrift (setup.py) ... \u001b[?25l-\b \b\\\b \b|\b \b/\b \b-\b \b\\\b \b|\b \b/\b \b-\b \bdone\r\n",
      "\u001b[?25h  Created wheel for thrift: filename=thrift-0.16.0-cp37-cp37m-linux_x86_64.whl size=414427 sha256=edc2e38c7bda5026c15def5dcea1ca8278a1c25b3011fe962f666fa3438f63ec\r\n",
      "  Stored in directory: /root/.cache/pip/wheels/e6/d0/8c/11a1840ef59493f9221d13748a29482323f13f6da6b236c3de\r\n",
      "Successfully built databricks-cli thrift\r\n",
      "Installing collected packages: whylabs-datasketches, tinynetrc, puremagic, monotonic, cramjam, thrift, PyMySQL, pyarrow, psycopg2-binary, backoff, yarg, whylabs-client, scikit-learn, marshmallow, amplitude-tracker, pipreqs, human-id, fastparquet, databricks-cli, tfy-mlflow-client, whylogs, mlfoundry\r\n",
      "  Attempting uninstall: pyarrow\r\n",
      "    Found existing installation: pyarrow 8.0.0\r\n",
      "    Uninstalling pyarrow-8.0.0:\r\n",
      "      Successfully uninstalled pyarrow-8.0.0\r\n",
      "  Attempting uninstall: scikit-learn\r\n",
      "    Found existing installation: scikit-learn 1.0.2\r\n",
      "    Uninstalling scikit-learn-1.0.2:\r\n",
      "      Successfully uninstalled scikit-learn-1.0.2\r\n",
      "\u001b[31mERROR: pip's dependency resolver does not currently take into account all the packages that are installed. This behaviour is the source of the following dependency conflicts.\r\n",
      "beatrix-jupyterlab 3.1.7 requires google-cloud-bigquery-storage, which is not installed.\r\n",
      "yellowbrick 1.4 requires scikit-learn>=1.0.0, but you have scikit-learn 0.24.2 which is incompatible.\r\n",
      "tfx-bsl 1.8.0 requires tensorflow!=2.0.*,!=2.1.*,!=2.2.*,!=2.3.*,!=2.4.*,!=2.5.*,!=2.6.*,!=2.7.*,<3,>=1.15.5, but you have tensorflow 2.6.4 which is incompatible.\r\n",
      "tensorflow-transform 1.8.0 requires tensorflow!=2.0.*,!=2.1.*,!=2.2.*,!=2.3.*,!=2.4.*,!=2.5.*,!=2.6.*,!=2.7.*,<2.9,>=1.15.5, but you have tensorflow 2.6.4 which is incompatible.\r\n",
      "pdpbox 0.2.1 requires matplotlib==3.1.1, but you have matplotlib 3.5.2 which is incompatible.\r\n",
      "imbalanced-learn 0.9.0 requires scikit-learn>=1.0.1, but you have scikit-learn 0.24.2 which is incompatible.\r\n",
      "gplearn 0.4.2 requires scikit-learn>=1.0.2, but you have scikit-learn 0.24.2 which is incompatible.\r\n",
      "apache-beam 2.38.0 requires dill<0.3.2,>=0.3.1.1, but you have dill 0.3.5.1 which is incompatible.\r\n",
      "apache-beam 2.38.0 requires httplib2<0.20.0,>=0.8, but you have httplib2 0.20.4 which is incompatible.\u001b[0m\u001b[31m\r\n",
      "\u001b[0mSuccessfully installed PyMySQL-1.0.2 amplitude-tracker-0.0.7 backoff-1.10.0 cramjam-2.5.0 databricks-cli-0.16.6 fastparquet-0.7.2 human-id-0.2.0 marshmallow-3.16.0 mlfoundry-0.3.22 monotonic-1.6 pipreqs-0.4.11 psycopg2-binary-2.9.3 puremagic-1.14 pyarrow-5.0.0 scikit-learn-0.24.2 tfy-mlflow-client-0.0.10 thrift-0.16.0 tinynetrc-1.3.1 whylabs-client-0.3.0 whylabs-datasketches-2.2.0b1 whylogs-0.6.30 yarg-0.1.9\r\n",
      "\u001b[33mWARNING: Running pip as the 'root' user can result in broken permissions and conflicting behaviour with the system package manager. It is recommended to use a virtual environment instead: https://pip.pypa.io/warnings/venv\u001b[0m\u001b[33m\r\n",
      "\u001b[0m"
     ]
    }
   ],
   "source": [
    "! pip install -U mlfoundry"
   ]
  },
  {
   "cell_type": "code",
   "execution_count": 2,
   "id": "4ea931c9",
   "metadata": {
    "execution": {
     "iopub.execute_input": "2022-06-08T07:18:54.186663Z",
     "iopub.status.busy": "2022-06-08T07:18:54.186242Z",
     "iopub.status.idle": "2022-06-08T07:18:55.582147Z",
     "shell.execute_reply": "2022-06-08T07:18:55.581409Z"
    },
    "papermill": {
     "duration": 1.418124,
     "end_time": "2022-06-08T07:18:55.584356",
     "exception": false,
     "start_time": "2022-06-08T07:18:54.166232",
     "status": "completed"
    },
    "tags": []
   },
   "outputs": [
    {
     "name": "stdout",
     "output_type": "stream",
     "text": [
      "/kaggle/input/stroke-prediction-dataset/healthcare-dataset-stroke-data.csv\n"
     ]
    }
   ],
   "source": [
    "import numpy as np \n",
    "import pandas as pd \n",
    "import matplotlib.pyplot as plt\n",
    "import seaborn as sns\n",
    "\n",
    "from sklearn.preprocessing import LabelEncoder\n",
    "from sklearn.preprocessing import MinMaxScaler\n",
    "\n",
    "from sklearn.linear_model import LogisticRegression\n",
    "from sklearn.tree import DecisionTreeClassifier\n",
    "from sklearn.ensemble import RandomForestClassifier\n",
    "\n",
    "from sklearn.pipeline import Pipeline\n",
    "from sklearn.impute import SimpleImputer\n",
    "from sklearn.compose import ColumnTransformer\n",
    "from sklearn.preprocessing import StandardScaler, LabelEncoder, OneHotEncoder\n",
    "from sklearn.model_selection import train_test_split\n",
    "\n",
    "from sklearn.metrics import precision_score, roc_auc_score, f1_score, recall_score, accuracy_score\n",
    "\n",
    "\n",
    "import os\n",
    "for dirname, _, filenames in os.walk('/kaggle/input'):\n",
    "    for filename in filenames:\n",
    "        print(os.path.join(dirname, filename))"
   ]
  },
  {
   "cell_type": "markdown",
   "id": "91d8a2b0",
   "metadata": {
    "papermill": {
     "duration": 0.018283,
     "end_time": "2022-06-08T07:18:55.621642",
     "exception": false,
     "start_time": "2022-06-08T07:18:55.603359",
     "status": "completed"
    },
    "tags": []
   },
   "source": [
    "#### Initialize MLFoundry client"
   ]
  },
  {
   "cell_type": "code",
   "execution_count": 3,
   "id": "86a91e0f",
   "metadata": {
    "execution": {
     "iopub.execute_input": "2022-06-08T07:18:55.664464Z",
     "iopub.status.busy": "2022-06-08T07:18:55.663697Z",
     "iopub.status.idle": "2022-06-08T07:18:57.474405Z",
     "shell.execute_reply": "2022-06-08T07:18:57.472890Z"
    },
    "papermill": {
     "duration": 1.834469,
     "end_time": "2022-06-08T07:18:57.477127",
     "exception": false,
     "start_time": "2022-06-08T07:18:55.642658",
     "status": "completed"
    },
    "tags": []
   },
   "outputs": [],
   "source": [
    "import getpass\n",
    "import urllib.parse\n",
    "import mlfoundry as mlf\n",
    "\n",
    "from kaggle_secrets import UserSecretsClient\n",
    "user_secrets = UserSecretsClient()\n",
    "MLF_API_KEY = user_secrets.get_secret(\"mlfoundry\")\n",
    "\n",
    "\n",
    "# MLF_API_KEY = os.environ.get('MLF_API_KEY')\n",
    "# if not MLF_API_KEY:\n",
    "#     print(\"Please get your API key from https://app.truefoundry.com/settings\")\n",
    "#     MLF_API_KEY = getpass.getpass(\"Paste your API key and hit enter:\")\n",
    "    "
   ]
  },
  {
   "cell_type": "code",
   "execution_count": 4,
   "id": "4e825d6e",
   "metadata": {
    "execution": {
     "iopub.execute_input": "2022-06-08T07:18:57.516426Z",
     "iopub.status.busy": "2022-06-08T07:18:57.515643Z",
     "iopub.status.idle": "2022-06-08T07:19:00.372682Z",
     "shell.execute_reply": "2022-06-08T07:19:00.371248Z"
    },
    "papermill": {
     "duration": 2.879937,
     "end_time": "2022-06-08T07:19:00.375597",
     "exception": false,
     "start_time": "2022-06-08T07:18:57.495660",
     "status": "completed"
    },
    "tags": []
   },
   "outputs": [],
   "source": [
    "client = mlf.get_client(api_key=MLF_API_KEY)"
   ]
  },
  {
   "cell_type": "markdown",
   "id": "802eccc0",
   "metadata": {
    "papermill": {
     "duration": 0.018438,
     "end_time": "2022-06-08T07:19:00.412337",
     "exception": false,
     "start_time": "2022-06-08T07:19:00.393899",
     "status": "completed"
    },
    "tags": []
   },
   "source": [
    "#### Load the data:"
   ]
  },
  {
   "cell_type": "code",
   "execution_count": 5,
   "id": "8243327d",
   "metadata": {
    "execution": {
     "iopub.execute_input": "2022-06-08T07:19:00.451721Z",
     "iopub.status.busy": "2022-06-08T07:19:00.450947Z",
     "iopub.status.idle": "2022-06-08T07:19:00.516528Z",
     "shell.execute_reply": "2022-06-08T07:19:00.515440Z"
    },
    "papermill": {
     "duration": 0.089521,
     "end_time": "2022-06-08T07:19:00.519927",
     "exception": false,
     "start_time": "2022-06-08T07:19:00.430406",
     "status": "completed"
    },
    "tags": []
   },
   "outputs": [
    {
     "name": "stdout",
     "output_type": "stream",
     "text": [
      "<class 'pandas.core.frame.DataFrame'>\n",
      "RangeIndex: 5110 entries, 0 to 5109\n",
      "Data columns (total 12 columns):\n",
      " #   Column             Non-Null Count  Dtype  \n",
      "---  ------             --------------  -----  \n",
      " 0   id                 5110 non-null   int64  \n",
      " 1   gender             5110 non-null   object \n",
      " 2   age                5110 non-null   float64\n",
      " 3   hypertension       5110 non-null   int64  \n",
      " 4   heart_disease      5110 non-null   int64  \n",
      " 5   ever_married       5110 non-null   object \n",
      " 6   work_type          5110 non-null   object \n",
      " 7   Residence_type     5110 non-null   object \n",
      " 8   avg_glucose_level  5110 non-null   float64\n",
      " 9   bmi                4909 non-null   float64\n",
      " 10  smoking_status     5110 non-null   object \n",
      " 11  stroke             5110 non-null   int64  \n",
      "dtypes: float64(3), int64(4), object(5)\n",
      "memory usage: 479.2+ KB\n"
     ]
    }
   ],
   "source": [
    "stroke_data = pd.read_csv('/kaggle/input/stroke-prediction-dataset/healthcare-dataset-stroke-data.csv')\n",
    "stroke_data.info()"
   ]
  },
  {
   "cell_type": "markdown",
   "id": "7523b1c9",
   "metadata": {
    "papermill": {
     "duration": 0.019055,
     "end_time": "2022-06-08T07:19:00.559811",
     "exception": false,
     "start_time": "2022-06-08T07:19:00.540756",
     "status": "completed"
    },
    "tags": []
   },
   "source": [
    "#### Exploratory Data Analysis:"
   ]
  },
  {
   "cell_type": "code",
   "execution_count": 6,
   "id": "6420e47a",
   "metadata": {
    "execution": {
     "iopub.execute_input": "2022-06-08T07:19:00.601527Z",
     "iopub.status.busy": "2022-06-08T07:19:00.600770Z",
     "iopub.status.idle": "2022-06-08T07:19:00.627697Z",
     "shell.execute_reply": "2022-06-08T07:19:00.626910Z"
    },
    "papermill": {
     "duration": 0.050142,
     "end_time": "2022-06-08T07:19:00.629921",
     "exception": false,
     "start_time": "2022-06-08T07:19:00.579779",
     "status": "completed"
    },
    "tags": []
   },
   "outputs": [
    {
     "data": {
      "text/html": [
       "<div>\n",
       "<style scoped>\n",
       "    .dataframe tbody tr th:only-of-type {\n",
       "        vertical-align: middle;\n",
       "    }\n",
       "\n",
       "    .dataframe tbody tr th {\n",
       "        vertical-align: top;\n",
       "    }\n",
       "\n",
       "    .dataframe thead th {\n",
       "        text-align: right;\n",
       "    }\n",
       "</style>\n",
       "<table border=\"1\" class=\"dataframe\">\n",
       "  <thead>\n",
       "    <tr style=\"text-align: right;\">\n",
       "      <th></th>\n",
       "      <th>id</th>\n",
       "      <th>gender</th>\n",
       "      <th>age</th>\n",
       "      <th>hypertension</th>\n",
       "      <th>heart_disease</th>\n",
       "      <th>ever_married</th>\n",
       "      <th>work_type</th>\n",
       "      <th>Residence_type</th>\n",
       "      <th>avg_glucose_level</th>\n",
       "      <th>bmi</th>\n",
       "      <th>smoking_status</th>\n",
       "      <th>stroke</th>\n",
       "    </tr>\n",
       "  </thead>\n",
       "  <tbody>\n",
       "    <tr>\n",
       "      <th>0</th>\n",
       "      <td>9046</td>\n",
       "      <td>Male</td>\n",
       "      <td>67.0</td>\n",
       "      <td>0</td>\n",
       "      <td>1</td>\n",
       "      <td>Yes</td>\n",
       "      <td>Private</td>\n",
       "      <td>Urban</td>\n",
       "      <td>228.69</td>\n",
       "      <td>36.6</td>\n",
       "      <td>formerly smoked</td>\n",
       "      <td>1</td>\n",
       "    </tr>\n",
       "    <tr>\n",
       "      <th>1</th>\n",
       "      <td>51676</td>\n",
       "      <td>Female</td>\n",
       "      <td>61.0</td>\n",
       "      <td>0</td>\n",
       "      <td>0</td>\n",
       "      <td>Yes</td>\n",
       "      <td>Self-employed</td>\n",
       "      <td>Rural</td>\n",
       "      <td>202.21</td>\n",
       "      <td>NaN</td>\n",
       "      <td>never smoked</td>\n",
       "      <td>1</td>\n",
       "    </tr>\n",
       "    <tr>\n",
       "      <th>2</th>\n",
       "      <td>31112</td>\n",
       "      <td>Male</td>\n",
       "      <td>80.0</td>\n",
       "      <td>0</td>\n",
       "      <td>1</td>\n",
       "      <td>Yes</td>\n",
       "      <td>Private</td>\n",
       "      <td>Rural</td>\n",
       "      <td>105.92</td>\n",
       "      <td>32.5</td>\n",
       "      <td>never smoked</td>\n",
       "      <td>1</td>\n",
       "    </tr>\n",
       "    <tr>\n",
       "      <th>3</th>\n",
       "      <td>60182</td>\n",
       "      <td>Female</td>\n",
       "      <td>49.0</td>\n",
       "      <td>0</td>\n",
       "      <td>0</td>\n",
       "      <td>Yes</td>\n",
       "      <td>Private</td>\n",
       "      <td>Urban</td>\n",
       "      <td>171.23</td>\n",
       "      <td>34.4</td>\n",
       "      <td>smokes</td>\n",
       "      <td>1</td>\n",
       "    </tr>\n",
       "    <tr>\n",
       "      <th>4</th>\n",
       "      <td>1665</td>\n",
       "      <td>Female</td>\n",
       "      <td>79.0</td>\n",
       "      <td>1</td>\n",
       "      <td>0</td>\n",
       "      <td>Yes</td>\n",
       "      <td>Self-employed</td>\n",
       "      <td>Rural</td>\n",
       "      <td>174.12</td>\n",
       "      <td>24.0</td>\n",
       "      <td>never smoked</td>\n",
       "      <td>1</td>\n",
       "    </tr>\n",
       "  </tbody>\n",
       "</table>\n",
       "</div>"
      ],
      "text/plain": [
       "      id  gender   age  hypertension  heart_disease ever_married  \\\n",
       "0   9046    Male  67.0             0              1          Yes   \n",
       "1  51676  Female  61.0             0              0          Yes   \n",
       "2  31112    Male  80.0             0              1          Yes   \n",
       "3  60182  Female  49.0             0              0          Yes   \n",
       "4   1665  Female  79.0             1              0          Yes   \n",
       "\n",
       "       work_type Residence_type  avg_glucose_level   bmi   smoking_status  \\\n",
       "0        Private          Urban             228.69  36.6  formerly smoked   \n",
       "1  Self-employed          Rural             202.21   NaN     never smoked   \n",
       "2        Private          Rural             105.92  32.5     never smoked   \n",
       "3        Private          Urban             171.23  34.4           smokes   \n",
       "4  Self-employed          Rural             174.12  24.0     never smoked   \n",
       "\n",
       "   stroke  \n",
       "0       1  \n",
       "1       1  \n",
       "2       1  \n",
       "3       1  \n",
       "4       1  "
      ]
     },
     "execution_count": 6,
     "metadata": {},
     "output_type": "execute_result"
    }
   ],
   "source": [
    "stroke_data.head()"
   ]
  },
  {
   "cell_type": "code",
   "execution_count": 7,
   "id": "afb6cc5a",
   "metadata": {
    "execution": {
     "iopub.execute_input": "2022-06-08T07:19:00.672214Z",
     "iopub.status.busy": "2022-06-08T07:19:00.671639Z",
     "iopub.status.idle": "2022-06-08T07:19:00.677648Z",
     "shell.execute_reply": "2022-06-08T07:19:00.676732Z"
    },
    "papermill": {
     "duration": 0.029837,
     "end_time": "2022-06-08T07:19:00.679939",
     "exception": false,
     "start_time": "2022-06-08T07:19:00.650102",
     "status": "completed"
    },
    "tags": []
   },
   "outputs": [
    {
     "data": {
      "text/plain": [
       "Index(['id', 'gender', 'age', 'hypertension', 'heart_disease', 'ever_married',\n",
       "       'work_type', 'Residence_type', 'avg_glucose_level', 'bmi',\n",
       "       'smoking_status', 'stroke'],\n",
       "      dtype='object')"
      ]
     },
     "execution_count": 7,
     "metadata": {},
     "output_type": "execute_result"
    }
   ],
   "source": [
    "stroke_data.columns"
   ]
  },
  {
   "cell_type": "code",
   "execution_count": 8,
   "id": "b6d2b3c8",
   "metadata": {
    "execution": {
     "iopub.execute_input": "2022-06-08T07:19:00.722583Z",
     "iopub.status.busy": "2022-06-08T07:19:00.722149Z",
     "iopub.status.idle": "2022-06-08T07:19:00.734338Z",
     "shell.execute_reply": "2022-06-08T07:19:00.733588Z"
    },
    "papermill": {
     "duration": 0.03632,
     "end_time": "2022-06-08T07:19:00.736402",
     "exception": false,
     "start_time": "2022-06-08T07:19:00.700082",
     "status": "completed"
    },
    "tags": []
   },
   "outputs": [
    {
     "data": {
      "text/plain": [
       "id                     0\n",
       "gender                 0\n",
       "age                    0\n",
       "hypertension           0\n",
       "heart_disease          0\n",
       "ever_married           0\n",
       "work_type              0\n",
       "Residence_type         0\n",
       "avg_glucose_level      0\n",
       "smoking_status         0\n",
       "stroke                 0\n",
       "bmi                  201\n",
       "dtype: int64"
      ]
     },
     "execution_count": 8,
     "metadata": {},
     "output_type": "execute_result"
    }
   ],
   "source": [
    "na_values = stroke_data.isna().sum()\n",
    "na_values.sort_values()"
   ]
  },
  {
   "cell_type": "markdown",
   "id": "2df69778",
   "metadata": {
    "papermill": {
     "duration": 0.020223,
     "end_time": "2022-06-08T07:19:00.776714",
     "exception": false,
     "start_time": "2022-06-08T07:19:00.756491",
     "status": "completed"
    },
    "tags": []
   },
   "source": [
    "#### Data Preprocessing:"
   ]
  },
  {
   "cell_type": "code",
   "execution_count": 9,
   "id": "ebedad47",
   "metadata": {
    "execution": {
     "iopub.execute_input": "2022-06-08T07:19:00.818540Z",
     "iopub.status.busy": "2022-06-08T07:19:00.817913Z",
     "iopub.status.idle": "2022-06-08T07:19:00.829651Z",
     "shell.execute_reply": "2022-06-08T07:19:00.828897Z"
    },
    "papermill": {
     "duration": 0.035496,
     "end_time": "2022-06-08T07:19:00.832094",
     "exception": false,
     "start_time": "2022-06-08T07:19:00.796598",
     "status": "completed"
    },
    "tags": []
   },
   "outputs": [],
   "source": [
    "stroke_data = stroke_data.set_index('id')\n",
    "\n",
    "X = stroke_data.drop(columns =['stroke'])\n",
    "y = stroke_data['stroke']"
   ]
  },
  {
   "cell_type": "code",
   "execution_count": 10,
   "id": "90edeef7",
   "metadata": {
    "execution": {
     "iopub.execute_input": "2022-06-08T07:19:00.877529Z",
     "iopub.status.busy": "2022-06-08T07:19:00.876838Z",
     "iopub.status.idle": "2022-06-08T07:19:00.890641Z",
     "shell.execute_reply": "2022-06-08T07:19:00.889363Z"
    },
    "papermill": {
     "duration": 0.041347,
     "end_time": "2022-06-08T07:19:00.894228",
     "exception": false,
     "start_time": "2022-06-08T07:19:00.852881",
     "status": "completed"
    },
    "tags": []
   },
   "outputs": [
    {
     "name": "stdout",
     "output_type": "stream",
     "text": [
      "['age', 'hypertension', 'heart_disease', 'avg_glucose_level', 'bmi']\n",
      "['gender', 'ever_married', 'work_type', 'Residence_type', 'smoking_status']\n"
     ]
    }
   ],
   "source": [
    "# get a list of all numeric columns in the dataset\n",
    "numeric_cols = stroke_data.select_dtypes(exclude = \"object\").drop(columns = ['stroke']).columns.tolist()\n",
    "print(numeric_cols)\n",
    "\n",
    "# build a numeric transformer pipeline\n",
    "numeric_transformer = Pipeline(steps=[\n",
    "    ('imputer', SimpleImputer(strategy='median')),\n",
    "    ('scaler', StandardScaler())])\n",
    "\n",
    "\n",
    "# get a list of all categorical columns in the dataset\n",
    "categoric_cols = stroke_data.select_dtypes(include = \"object\").columns.tolist()\n",
    "print(categoric_cols)\n",
    "\n",
    "# build a categorical transformer pipeline\n",
    "categorical_transformer = OneHotEncoder(handle_unknown='ignore')\n",
    "\n",
    "\n",
    "# Apply the column transformer and make a preprocessing pipeline\n",
    "preprocessor = ColumnTransformer(\n",
    "    transformers=[\n",
    "        ('num', numeric_transformer, numeric_cols),\n",
    "        ('cat', categorical_transformer, categoric_cols)])"
   ]
  },
  {
   "cell_type": "markdown",
   "id": "205b9ed4",
   "metadata": {
    "papermill": {
     "duration": 0.019416,
     "end_time": "2022-06-08T07:19:00.934678",
     "exception": false,
     "start_time": "2022-06-08T07:19:00.915262",
     "status": "completed"
    },
    "tags": []
   },
   "source": [
    "### Training a logistic regression model"
   ]
  },
  {
   "cell_type": "code",
   "execution_count": 11,
   "id": "58ddf73d",
   "metadata": {
    "execution": {
     "iopub.execute_input": "2022-06-08T07:19:00.977073Z",
     "iopub.status.busy": "2022-06-08T07:19:00.975984Z",
     "iopub.status.idle": "2022-06-08T07:20:35.874118Z",
     "shell.execute_reply": "2022-06-08T07:20:35.872847Z"
    },
    "papermill": {
     "duration": 94.922473,
     "end_time": "2022-06-08T07:20:35.876739",
     "exception": false,
     "start_time": "2022-06-08T07:19:00.954266",
     "status": "completed"
    },
    "tags": []
   },
   "outputs": [
    {
     "name": "stdout",
     "output_type": "stream",
     "text": [
      "[mlfoundry] 2022-06-08T07:19:04+0000 WARNING failed to log git info because git repository is not present\n",
      "[mlfoundry] 2022-06-08T07:19:04+0000 INFO Run is created with name 'leave-political-thing' and id 'c64167f7c6fc49c5a675afdd71ef8cf8'\n",
      "RUN 1 ID: c64167f7c6fc49c5a675afdd71ef8cf8\n",
      "[mlfoundry] 2022-06-08T07:19:06+0000 INFO Tags set successfully\n"
     ]
    },
    {
     "name": "stderr",
     "output_type": "stream",
     "text": [
      "2022/06/08 07:19:36 WARNING mlflow.utils.environment: Encountered an unexpected error while inferring pip requirements (model URI: /tmp/tmp6rri5ysb/model/model.pkl, flavor: sklearn), fall back to return ['scikit-learn==0.24.2', 'cloudpickle==2.0.0']. Set logging level to DEBUG to see the full traceback.\n"
     ]
    },
    {
     "name": "stdout",
     "output_type": "stream",
     "text": [
      "[mlfoundry] 2022-06-08T07:19:55+0000 INFO Model logged successfully\n",
      "Logistic_Regr_metrics: {'test/precision': 0.5, 'test/recall': 0.013157894736842105, 'test/accuracy': 0.9504240052185258, 'test/roc_auc': 0.5062357764693133, 'test/f1_score': 0.025641025641025637}\n",
      "[mlfoundry] 2022-06-08T07:19:57+0000 INFO Metrics logged successfully\n",
      "[mlfoundry] 2022-06-08T07:19:57+0000 INFO Logging Dataset, this might take a while ...\n",
      "[mlfoundry] 2022-06-08T07:20:04+0000 INFO failed to log features as FileFormat.PARQUET due to need more than 2 values to unpack, trying with FileFormat.CSV\n",
      "[mlfoundry] 2022-06-08T07:20:04+0000 INFO failed to log predictions as FileFormat.PARQUET due to need more than 2 values to unpack, trying with FileFormat.CSV\n",
      "[mlfoundry] 2022-06-08T07:20:04+0000 INFO failed to log actuals as FileFormat.PARQUET due to need more than 2 values to unpack, trying with FileFormat.CSV\n",
      "[mlfoundry] 2022-06-08T07:20:31+0000 INFO Dataset logged successfully\n",
      "[mlfoundry] 2022-06-08T07:20:33+0000 INFO Shutting down background jobs and syncing data for run with id 'c64167f7c6fc49c5a675afdd71ef8cf8', please don't kill this process...\n",
      "[mlfoundry] 2022-06-08T07:20:34+0000 INFO Finished syncing data for run with id 'c64167f7c6fc49c5a675afdd71ef8cf8'. Thank you for waiting!\n"
     ]
    }
   ],
   "source": [
    "# Start MLFoundry Run 1\n",
    "run = client.create_run(project_name='Stroke-Prediction-new')\n",
    "print('RUN 1 ID:', run.run_id)\n",
    "\n",
    "#Set tags for the run\n",
    "run.set_tags({'framework': 'sklearn', 'task': 'Classification', 'model': 'Logistic Regression'})\n",
    "\n",
    "\n",
    "# Append classifier to preprocessing pipeline.\n",
    "LR_clf = Pipeline(steps=[('preprocessor', preprocessor),\n",
    "                      ('classifier', LogisticRegression())])\n",
    "\n",
    "X_train, X_test, y_train, y_test = train_test_split(X, y, test_size=0.3, random_state=0)\n",
    "\n",
    "LR_clf.fit(X_train, y_train)\n",
    "\n",
    "y_pred = LR_clf.predict(X_test)\n",
    "\n",
    "# run.log_params(LR_clf.get_params())\n",
    "run.log_model(LR_clf, framework=mlf.ModelFramework.SKLEARN)\n",
    "\n",
    "# Log the metrics\n",
    "\n",
    "metrics = {\n",
    "    'test/precision': precision_score(y_test, y_pred),\n",
    "    'test/recall': recall_score(y_test, y_pred),\n",
    "    'test/accuracy': accuracy_score(y_test, y_pred),\n",
    "    'test/roc_auc': roc_auc_score(y_test, y_pred),\n",
    "    'test/f1_score': f1_score(y_test, y_pred)\n",
    "}\n",
    "print('Logistic_Regr_metrics:', metrics)\n",
    "run.log_metrics(metrics)\n",
    "\n",
    "# Log test dataset:\n",
    "\n",
    "run.log_dataset(\n",
    "    dataset_name='test',\n",
    "    features=X_test,\n",
    "    predictions=y_pred,\n",
    "    actuals=y_test,\n",
    ")\n",
    "\n",
    "run.end()"
   ]
  },
  {
   "cell_type": "markdown",
   "id": "ca31424a",
   "metadata": {
    "papermill": {
     "duration": 0.019669,
     "end_time": "2022-06-08T07:20:35.916484",
     "exception": false,
     "start_time": "2022-06-08T07:20:35.896815",
     "status": "completed"
    },
    "tags": []
   },
   "source": [
    "#### Training a decision tree classifier"
   ]
  },
  {
   "cell_type": "code",
   "execution_count": 12,
   "id": "bcd8acdd",
   "metadata": {
    "execution": {
     "iopub.execute_input": "2022-06-08T07:20:35.958937Z",
     "iopub.status.busy": "2022-06-08T07:20:35.958411Z",
     "iopub.status.idle": "2022-06-08T07:21:51.352371Z",
     "shell.execute_reply": "2022-06-08T07:21:51.351218Z"
    },
    "papermill": {
     "duration": 75.418917,
     "end_time": "2022-06-08T07:21:51.355588",
     "exception": false,
     "start_time": "2022-06-08T07:20:35.936671",
     "status": "completed"
    },
    "tags": []
   },
   "outputs": [
    {
     "name": "stdout",
     "output_type": "stream",
     "text": [
      "[mlfoundry] 2022-06-08T07:20:39+0000 WARNING failed to log git info because git repository is not present\n",
      "[mlfoundry] 2022-06-08T07:20:39+0000 INFO Run is created with name 'appear-bad-office' and id 'c1c6014681384399b4f05df7e455af4e'\n",
      "RUN 2 ID: c1c6014681384399b4f05df7e455af4e\n",
      "[mlfoundry] 2022-06-08T07:20:41+0000 INFO Tags set successfully\n",
      "[mlfoundry] 2022-06-08T07:21:10+0000 INFO Model logged successfully\n",
      "Decision_Tree_metrics: {'test/precision': 0.15584415584415584, 'test/recall': 0.15789473684210525, 'test/accuracy': 0.9158512720156555, 'test/roc_auc': 0.5566412599790486, 'test/f1_score': 0.1568627450980392}\n",
      "[mlfoundry] 2022-06-08T07:21:12+0000 INFO Metrics logged successfully\n",
      "[mlfoundry] 2022-06-08T07:21:12+0000 INFO Logging Dataset, this might take a while ...\n",
      "[mlfoundry] 2022-06-08T07:21:19+0000 INFO failed to log features as FileFormat.PARQUET due to need more than 2 values to unpack, trying with FileFormat.CSV\n",
      "[mlfoundry] 2022-06-08T07:21:19+0000 INFO failed to log predictions as FileFormat.PARQUET due to need more than 2 values to unpack, trying with FileFormat.CSV\n",
      "[mlfoundry] 2022-06-08T07:21:19+0000 INFO failed to log actuals as FileFormat.PARQUET due to need more than 2 values to unpack, trying with FileFormat.CSV\n",
      "[mlfoundry] 2022-06-08T07:21:46+0000 INFO Dataset logged successfully\n",
      "[mlfoundry] 2022-06-08T07:21:48+0000 INFO Shutting down background jobs and syncing data for run with id 'c1c6014681384399b4f05df7e455af4e', please don't kill this process...\n",
      "[mlfoundry] 2022-06-08T07:21:50+0000 INFO Finished syncing data for run with id 'c1c6014681384399b4f05df7e455af4e'. Thank you for waiting!\n"
     ]
    }
   ],
   "source": [
    "# Start MLFoundry Run 2\n",
    "run = client.create_run(project_name='Stroke-Prediction-new')\n",
    "print('RUN 2 ID:', run.run_id)\n",
    "\n",
    "#Set tags for the run\n",
    "run.set_tags({'framework': 'sklearn', 'task': 'Classification', 'model': 'Decision Tree'})\n",
    "\n",
    "\n",
    "# Append classifier to preprocessing pipeline.\n",
    "DT_clf = Pipeline(steps=[('preprocessor', preprocessor),\n",
    "                      ('classifier', DecisionTreeClassifier())])\n",
    "\n",
    "X_train, X_test, y_train, y_test = train_test_split(X, y, test_size=0.3, random_state=0)\n",
    "\n",
    "DT_clf.fit(X_train, y_train)\n",
    "\n",
    "y_pred = DT_clf.predict(X_test)\n",
    "\n",
    "# run.log_params(DT_clf.get_params())\n",
    "run.log_model(DT_clf, framework=mlf.ModelFramework.SKLEARN)\n",
    "\n",
    "# Log the metrics\n",
    "\n",
    "DT_metrics = {\n",
    "    'test/precision': precision_score(y_test, y_pred),\n",
    "    'test/recall': recall_score(y_test, y_pred),\n",
    "    'test/accuracy': accuracy_score(y_test, y_pred),\n",
    "    'test/roc_auc': roc_auc_score(y_test, y_pred),\n",
    "    'test/f1_score': f1_score(y_test, y_pred)\n",
    "}\n",
    "print('Decision_Tree_metrics:', DT_metrics)\n",
    "run.log_metrics(DT_metrics)\n",
    "\n",
    "# Log test dataset:\n",
    "\n",
    "run.log_dataset(\n",
    "    dataset_name='test',\n",
    "    features=X_test,\n",
    "    predictions=y_pred,\n",
    "    actuals=y_test,\n",
    ")\n",
    "\n",
    "run.end()"
   ]
  },
  {
   "cell_type": "markdown",
   "id": "d188227b",
   "metadata": {
    "papermill": {
     "duration": 0.021234,
     "end_time": "2022-06-08T07:21:51.399406",
     "exception": false,
     "start_time": "2022-06-08T07:21:51.378172",
     "status": "completed"
    },
    "tags": []
   },
   "source": [
    "#### Training a RandomForest Classifier"
   ]
  },
  {
   "cell_type": "code",
   "execution_count": 13,
   "id": "5edfa23f",
   "metadata": {
    "execution": {
     "iopub.execute_input": "2022-06-08T07:21:51.443949Z",
     "iopub.status.busy": "2022-06-08T07:21:51.443563Z",
     "iopub.status.idle": "2022-06-08T07:23:33.026158Z",
     "shell.execute_reply": "2022-06-08T07:23:33.024833Z"
    },
    "papermill": {
     "duration": 101.608026,
     "end_time": "2022-06-08T07:23:33.028755",
     "exception": false,
     "start_time": "2022-06-08T07:21:51.420729",
     "status": "completed"
    },
    "tags": []
   },
   "outputs": [
    {
     "name": "stdout",
     "output_type": "stream",
     "text": [
      "[mlfoundry] 2022-06-08T07:21:55+0000 WARNING failed to log git info because git repository is not present\n",
      "[mlfoundry] 2022-06-08T07:21:55+0000 INFO Run is created with name 'must-new-family' and id '389637056ec54f8d9e73814e9140f853'\n",
      "RUN 3 ID: 389637056ec54f8d9e73814e9140f853\n",
      "[mlfoundry] 2022-06-08T07:21:56+0000 INFO Tags set successfully\n",
      "[mlfoundry] 2022-06-08T07:22:52+0000 INFO Model logged successfully\n",
      "Decision_Tree_metrics: {'test/precision': 0.5, 'test/recall': 0.013157894736842105, 'test/accuracy': 0.9504240052185258, 'test/roc_auc': 0.5062357764693133, 'test/f1_score': 0.025641025641025637}\n",
      "[mlfoundry] 2022-06-08T07:22:54+0000 INFO Metrics logged successfully\n",
      "[mlfoundry] 2022-06-08T07:22:54+0000 INFO Logging Dataset, this might take a while ...\n",
      "[mlfoundry] 2022-06-08T07:23:01+0000 INFO failed to log features as FileFormat.PARQUET due to need more than 2 values to unpack, trying with FileFormat.CSV\n",
      "[mlfoundry] 2022-06-08T07:23:01+0000 INFO failed to log predictions as FileFormat.PARQUET due to need more than 2 values to unpack, trying with FileFormat.CSV\n",
      "[mlfoundry] 2022-06-08T07:23:01+0000 INFO failed to log actuals as FileFormat.PARQUET due to need more than 2 values to unpack, trying with FileFormat.CSV\n",
      "[mlfoundry] 2022-06-08T07:23:28+0000 INFO Dataset logged successfully\n",
      "[mlfoundry] 2022-06-08T07:23:30+0000 INFO Shutting down background jobs and syncing data for run with id '389637056ec54f8d9e73814e9140f853', please don't kill this process...\n",
      "[mlfoundry] 2022-06-08T07:23:31+0000 INFO Finished syncing data for run with id '389637056ec54f8d9e73814e9140f853'. Thank you for waiting!\n"
     ]
    }
   ],
   "source": [
    "# Start MLFoundry Run 3\n",
    "run = client.create_run(project_name='Stroke-Prediction-new')\n",
    "print('RUN 3 ID:', run.run_id)\n",
    "\n",
    "#Set tags for the run\n",
    "run.set_tags({'framework': 'sklearn', 'task': 'Classification', 'model': 'RandomForest'})\n",
    "\n",
    "\n",
    "# Append classifier to preprocessing pipeline.\n",
    "RF_clf = Pipeline(steps=[('preprocessor', preprocessor),\n",
    "                      ('classifier', RandomForestClassifier())])\n",
    "\n",
    "X_train, X_test, y_train, y_test = train_test_split(X, y, test_size=0.3, random_state=0)\n",
    "\n",
    "RF_clf.fit(X_train, y_train)\n",
    "\n",
    "y_pred = RF_clf.predict(X_test)\n",
    "\n",
    "# run.log_params(RF_clf.get_params())\n",
    "run.log_model(RF_clf, framework=mlf.ModelFramework.SKLEARN)\n",
    "\n",
    "# Log the metrics\n",
    "\n",
    "RF_metrics = {\n",
    "    'test/precision': precision_score(y_test, y_pred),\n",
    "    'test/recall': recall_score(y_test, y_pred),\n",
    "    'test/accuracy': accuracy_score(y_test, y_pred),\n",
    "    'test/roc_auc': roc_auc_score(y_test, y_pred),\n",
    "    'test/f1_score': f1_score(y_test, y_pred)\n",
    "}\n",
    "print('Decision_Tree_metrics:', RF_metrics)\n",
    "run.log_metrics(RF_metrics)\n",
    "\n",
    "# Log test dataset:\n",
    "\n",
    "run.log_dataset(\n",
    "    dataset_name='test',\n",
    "    features=X_test,\n",
    "    predictions=y_pred,\n",
    "    actuals=y_test,\n",
    ")\n",
    "\n",
    "run.end()"
   ]
  }
 ],
 "metadata": {
  "kernelspec": {
   "display_name": "Python 3",
   "language": "python",
   "name": "python3"
  },
  "language_info": {
   "codemirror_mode": {
    "name": "ipython",
    "version": 3
   },
   "file_extension": ".py",
   "mimetype": "text/x-python",
   "name": "python",
   "nbconvert_exporter": "python",
   "pygments_lexer": "ipython3",
   "version": "3.7.12"
  },
  "papermill": {
   "default_parameters": {},
   "duration": 339.719359,
   "end_time": "2022-06-08T07:23:34.780544",
   "environment_variables": {},
   "exception": null,
   "input_path": "__notebook__.ipynb",
   "output_path": "__notebook__.ipynb",
   "parameters": {},
   "start_time": "2022-06-08T07:17:55.061185",
   "version": "2.3.4"
  }
 },
 "nbformat": 4,
 "nbformat_minor": 5
}
