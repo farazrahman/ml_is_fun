{
 "cells": [
  {
   "cell_type": "markdown",
   "id": "d93da56d",
   "metadata": {
    "_cell_guid": "b1076dfc-b9ad-4769-8c92-a6c4dae69d19",
    "_uuid": "8f2839f25d086af736a60e9eeb907d3b93b6e0e5",
    "execution": {
     "iopub.execute_input": "2022-03-30T00:41:27.439467Z",
     "iopub.status.busy": "2022-03-30T00:41:27.439109Z",
     "iopub.status.idle": "2022-03-30T00:41:33.236050Z",
     "shell.execute_reply": "2022-03-30T00:41:33.235121Z",
     "shell.execute_reply.started": "2022-03-30T00:41:27.439380Z"
    },
    "papermill": {
     "duration": 0.017996,
     "end_time": "2022-03-30T23:05:49.161634",
     "exception": false,
     "start_time": "2022-03-30T23:05:49.143638",
     "status": "completed"
    },
    "tags": []
   },
   "source": [
    "# 🧮 Digit Recognizer- Getting started with Tensorflow: \n",
    "\n",
    "\n",
    "\n",
    "<div style=\"color:white;display:fill;border-radius:5px;background-color:#CCCCFF;\n",
    "       font-size:150%;font-family:Nexa;letter-spacing:0.5px\">\n",
    "    <p style=\"padding: 10px;color:white;\"><b> About the Notebook:</b></p>\n",
    "</div>\n",
    "\n",
    "In this notebook I am trying to correctly identify digits from a dataset of tens of thousands of handwritten images from a curated set of MNIST (\"Modified National Institute of Standards and Technology\") data. My goal is to build simple neural networks and understand the fundamentals of computer vision and learn tons of small yet significant details in Deep Learning on the go. "
   ]
  },
  {
   "cell_type": "code",
   "execution_count": 1,
   "id": "df6717c7",
   "metadata": {
    "execution": {
     "iopub.execute_input": "2022-03-30T23:05:49.201599Z",
     "iopub.status.busy": "2022-03-30T23:05:49.200336Z",
     "iopub.status.idle": "2022-03-30T23:05:55.280029Z",
     "shell.execute_reply": "2022-03-30T23:05:55.279001Z",
     "shell.execute_reply.started": "2022-03-30T23:04:29.429216Z"
    },
    "papermill": {
     "duration": 6.100914,
     "end_time": "2022-03-30T23:05:55.280306",
     "exception": false,
     "start_time": "2022-03-30T23:05:49.179392",
     "status": "completed"
    },
    "tags": []
   },
   "outputs": [
    {
     "name": "stdout",
     "output_type": "stream",
     "text": [
      "/kaggle/input/digit-recognizer/sample_submission.csv\n",
      "/kaggle/input/digit-recognizer/train.csv\n",
      "/kaggle/input/digit-recognizer/test.csv\n"
     ]
    }
   ],
   "source": [
    "# import the libraries\n",
    "import numpy as np \n",
    "import pandas as pd \n",
    "import tensorflow as tf\n",
    "from tensorflow import keras\n",
    "import seaborn as sns\n",
    "import matplotlib.pyplot as plt\n",
    "from sklearn.model_selection import train_test_split\n",
    "\n",
    "import os\n",
    "for dirname, _, filenames in os.walk('/kaggle/input'):\n",
    "    for filename in filenames:\n",
    "        print(os.path.join(dirname, filename))"
   ]
  },
  {
   "cell_type": "markdown",
   "id": "862106da",
   "metadata": {
    "papermill": {
     "duration": 0.017554,
     "end_time": "2022-03-30T23:05:55.316523",
     "exception": false,
     "start_time": "2022-03-30T23:05:55.298969",
     "status": "completed"
    },
    "tags": []
   },
   "source": [
    "### Explore the data:\n",
    "\n",
    "The train dataset contains 42000 images of handwritten digits and 785 columns with the first column being the label column containig the actual digits from 0-9. Each image is 28 pixels in height and 28 pixels in width, thereby making it 784 pixels (28X28) in total. The test dataset contains 28000 images."
   ]
  },
  {
   "cell_type": "code",
   "execution_count": 2,
   "id": "413d7d5d",
   "metadata": {
    "execution": {
     "iopub.execute_input": "2022-03-30T23:05:55.356428Z",
     "iopub.status.busy": "2022-03-30T23:05:55.355374Z",
     "iopub.status.idle": "2022-03-30T23:05:59.303064Z",
     "shell.execute_reply": "2022-03-30T23:05:59.302498Z",
     "shell.execute_reply.started": "2022-03-30T23:04:29.505892Z"
    },
    "papermill": {
     "duration": 3.968923,
     "end_time": "2022-03-30T23:05:59.303251",
     "exception": false,
     "start_time": "2022-03-30T23:05:55.334328",
     "status": "completed"
    },
    "tags": []
   },
   "outputs": [
    {
     "data": {
      "text/plain": [
       "(42000, 785)"
      ]
     },
     "execution_count": 2,
     "metadata": {},
     "output_type": "execute_result"
    }
   ],
   "source": [
    "# load and check the shape of train data\n",
    "train = pd.read_csv('/kaggle/input/digit-recognizer/train.csv')\n",
    "train.shape"
   ]
  },
  {
   "cell_type": "code",
   "execution_count": 3,
   "id": "f9aae73f",
   "metadata": {
    "execution": {
     "iopub.execute_input": "2022-03-30T23:05:59.345003Z",
     "iopub.status.busy": "2022-03-30T23:05:59.344333Z",
     "iopub.status.idle": "2022-03-30T23:06:01.531468Z",
     "shell.execute_reply": "2022-03-30T23:06:01.531949Z",
     "shell.execute_reply.started": "2022-03-30T23:04:32.464557Z"
    },
    "papermill": {
     "duration": 2.210917,
     "end_time": "2022-03-30T23:06:01.532146",
     "exception": false,
     "start_time": "2022-03-30T23:05:59.321229",
     "status": "completed"
    },
    "tags": []
   },
   "outputs": [
    {
     "data": {
      "text/plain": [
       "(28000, 784)"
      ]
     },
     "execution_count": 3,
     "metadata": {},
     "output_type": "execute_result"
    }
   ],
   "source": [
    "# load and check the shape of test data\n",
    "test = pd.read_csv('/kaggle/input/digit-recognizer/test.csv')\n",
    "test.shape"
   ]
  },
  {
   "cell_type": "markdown",
   "id": "fa39f90d",
   "metadata": {
    "papermill": {
     "duration": 0.017794,
     "end_time": "2022-03-30T23:06:01.568134",
     "exception": false,
     "start_time": "2022-03-30T23:06:01.550340",
     "status": "completed"
    },
    "tags": []
   },
   "source": [
    "### Data Preparation:"
   ]
  },
  {
   "cell_type": "code",
   "execution_count": 4,
   "id": "1344b661",
   "metadata": {
    "execution": {
     "iopub.execute_input": "2022-03-30T23:06:01.607604Z",
     "iopub.status.busy": "2022-03-30T23:06:01.606609Z",
     "iopub.status.idle": "2022-03-30T23:06:01.727134Z",
     "shell.execute_reply": "2022-03-30T23:06:01.725918Z",
     "shell.execute_reply.started": "2022-03-30T23:04:34.441342Z"
    },
    "papermill": {
     "duration": 0.141336,
     "end_time": "2022-03-30T23:06:01.727300",
     "exception": false,
     "start_time": "2022-03-30T23:06:01.585964",
     "status": "completed"
    },
    "tags": []
   },
   "outputs": [],
   "source": [
    "# Data preparation\n",
    "X = train.drop(['label'], axis = 1)\n",
    "y = train['label']"
   ]
  },
  {
   "cell_type": "code",
   "execution_count": 5,
   "id": "87ca5e2a",
   "metadata": {
    "execution": {
     "iopub.execute_input": "2022-03-30T23:06:01.769414Z",
     "iopub.status.busy": "2022-03-30T23:06:01.766688Z",
     "iopub.status.idle": "2022-03-30T23:06:01.999702Z",
     "shell.execute_reply": "2022-03-30T23:06:01.998961Z",
     "shell.execute_reply.started": "2022-03-30T23:04:34.554442Z"
    },
    "papermill": {
     "duration": 0.254401,
     "end_time": "2022-03-30T23:06:01.999858",
     "exception": false,
     "start_time": "2022-03-30T23:06:01.745457",
     "status": "completed"
    },
    "tags": []
   },
   "outputs": [],
   "source": [
    "# scale the images betwee 0 and 1 by dividing the pixels by 255\n",
    "\n",
    "X = X.astype('float32') / 255\n",
    "test = test.astype('float32') / 255"
   ]
  },
  {
   "cell_type": "code",
   "execution_count": 6,
   "id": "75b72d0a",
   "metadata": {
    "execution": {
     "iopub.execute_input": "2022-03-30T23:06:02.043783Z",
     "iopub.status.busy": "2022-03-30T23:06:02.043109Z",
     "iopub.status.idle": "2022-03-30T23:06:02.220367Z",
     "shell.execute_reply": "2022-03-30T23:06:02.219677Z",
     "shell.execute_reply.started": "2022-03-30T23:04:34.752689Z"
    },
    "papermill": {
     "duration": 0.202223,
     "end_time": "2022-03-30T23:06:02.220507",
     "exception": false,
     "start_time": "2022-03-30T23:06:02.018284",
     "status": "completed"
    },
    "tags": []
   },
   "outputs": [],
   "source": [
    "random_seed = 42\n",
    "# split the train data into train and validation set\n",
    "\n",
    "X_train, X_validation, y_train, y_validation = train_test_split(X, y, test_size = 0.20, random_state = random_seed)"
   ]
  },
  {
   "cell_type": "markdown",
   "id": "648442ba",
   "metadata": {
    "papermill": {
     "duration": 0.017812,
     "end_time": "2022-03-30T23:06:02.256306",
     "exception": false,
     "start_time": "2022-03-30T23:06:02.238494",
     "status": "completed"
    },
    "tags": []
   },
   "source": [
    "### Single layer NN:"
   ]
  },
  {
   "cell_type": "code",
   "execution_count": 7,
   "id": "062da164",
   "metadata": {
    "execution": {
     "iopub.execute_input": "2022-03-30T23:06:02.297881Z",
     "iopub.status.busy": "2022-03-30T23:06:02.297239Z",
     "iopub.status.idle": "2022-03-30T23:06:14.466816Z",
     "shell.execute_reply": "2022-03-30T23:06:14.467385Z",
     "shell.execute_reply.started": "2022-03-30T23:04:34.903855Z"
    },
    "papermill": {
     "duration": 12.192862,
     "end_time": "2022-03-30T23:06:14.467556",
     "exception": false,
     "start_time": "2022-03-30T23:06:02.274694",
     "status": "completed"
    },
    "tags": []
   },
   "outputs": [
    {
     "name": "stderr",
     "output_type": "stream",
     "text": [
      "2022-03-30 23:06:03.401977: I tensorflow/core/common_runtime/process_util.cc:146] Creating new thread pool with default inter op setting: 2. Tune using inter_op_parallelism_threads for best performance.\n",
      "2022-03-30 23:06:03.708439: I tensorflow/compiler/mlir/mlir_graph_optimization_pass.cc:185] None of the MLIR Optimization Passes are enabled (registered 2)\n"
     ]
    },
    {
     "name": "stdout",
     "output_type": "stream",
     "text": [
      "Epoch 1/5\n",
      "1050/1050 [==============================] - 2s 2ms/step - loss: 0.5599 - accuracy: 0.8594\n",
      "Epoch 2/5\n",
      "1050/1050 [==============================] - 2s 2ms/step - loss: 0.3250 - accuracy: 0.9107\n",
      "Epoch 3/5\n",
      "1050/1050 [==============================] - 2s 2ms/step - loss: 0.2931 - accuracy: 0.9192\n",
      "Epoch 4/5\n",
      "1050/1050 [==============================] - 2s 2ms/step - loss: 0.2777 - accuracy: 0.9226\n",
      "Epoch 5/5\n",
      "1050/1050 [==============================] - 2s 2ms/step - loss: 0.2677 - accuracy: 0.9249\n"
     ]
    },
    {
     "data": {
      "text/plain": [
       "<keras.callbacks.History at 0x7fe6213b4850>"
      ]
     },
     "execution_count": 7,
     "metadata": {},
     "output_type": "execute_result"
    }
   ],
   "source": [
    "# make a generic single layer Neural Network\n",
    "\n",
    "model = tf.keras.Sequential([\n",
    "    tf.keras.layers.Dense(10, input_shape = (784,), activation = 'sigmoid')])\n",
    "\n",
    "# compile the model\n",
    "\n",
    "model.compile(optimizer = 'adam', loss = 'sparse_categorical_crossentropy', metrics = ['accuracy'])\n",
    "\n",
    "# fit the model\n",
    "model.fit(X_train, y_train, epochs= 5)"
   ]
  },
  {
   "cell_type": "markdown",
   "id": "e8b62733",
   "metadata": {
    "papermill": {
     "duration": 0.103395,
     "end_time": "2022-03-30T23:06:14.679268",
     "exception": false,
     "start_time": "2022-03-30T23:06:14.575873",
     "status": "completed"
    },
    "tags": []
   },
   "source": [
    "### Adding hidden layers in the Neural Network:"
   ]
  },
  {
   "cell_type": "code",
   "execution_count": 8,
   "id": "c290a62c",
   "metadata": {
    "execution": {
     "iopub.execute_input": "2022-03-30T23:06:14.887697Z",
     "iopub.status.busy": "2022-03-30T23:06:14.886996Z",
     "iopub.status.idle": "2022-03-30T23:06:29.916213Z",
     "shell.execute_reply": "2022-03-30T23:06:29.916748Z",
     "shell.execute_reply.started": "2022-03-30T23:04:46.269105Z"
    },
    "papermill": {
     "duration": 15.134175,
     "end_time": "2022-03-30T23:06:29.916949",
     "exception": false,
     "start_time": "2022-03-30T23:06:14.782774",
     "status": "completed"
    },
    "tags": []
   },
   "outputs": [
    {
     "name": "stdout",
     "output_type": "stream",
     "text": [
      "Epoch 1/5\n",
      "1050/1050 [==============================] - 3s 3ms/step - loss: 0.2965 - accuracy: 0.9132\n",
      "Epoch 2/5\n",
      "1050/1050 [==============================] - 3s 3ms/step - loss: 0.1272 - accuracy: 0.9645\n",
      "Epoch 3/5\n",
      "1050/1050 [==============================] - 3s 3ms/step - loss: 0.0866 - accuracy: 0.9739\n",
      "Epoch 4/5\n",
      "1050/1050 [==============================] - 3s 3ms/step - loss: 0.0632 - accuracy: 0.9813\n",
      "Epoch 5/5\n",
      "1050/1050 [==============================] - 3s 3ms/step - loss: 0.0454 - accuracy: 0.9868\n"
     ]
    },
    {
     "data": {
      "text/plain": [
       "<keras.callbacks.History at 0x7fe61eb6ed90>"
      ]
     },
     "execution_count": 8,
     "metadata": {},
     "output_type": "execute_result"
    }
   ],
   "source": [
    "# add hidden layers in the Neural Network\n",
    "model = tf.keras.Sequential([\n",
    "    tf.keras.layers.Dense(200, input_shape = (784,), activation = 'relu'),\n",
    "    tf.keras.layers.Dense(10, activation = 'sigmoid')])\n",
    "\n",
    "# compile the model\n",
    "model.compile(optimizer = 'adam', loss = 'sparse_categorical_crossentropy', metrics = ['accuracy'])\n",
    "\n",
    "# fit the model\n",
    "model.fit(X_train, y_train, epochs= 5)"
   ]
  },
  {
   "cell_type": "markdown",
   "id": "3f09a497",
   "metadata": {
    "papermill": {
     "duration": 0.202713,
     "end_time": "2022-03-30T23:06:30.323377",
     "exception": false,
     "start_time": "2022-03-30T23:06:30.120664",
     "status": "completed"
    },
    "tags": []
   },
   "source": [
    "### Validating the Results:"
   ]
  },
  {
   "cell_type": "code",
   "execution_count": 9,
   "id": "02546426",
   "metadata": {
    "execution": {
     "iopub.execute_input": "2022-03-30T23:06:30.736310Z",
     "iopub.status.busy": "2022-03-30T23:06:30.735334Z",
     "iopub.status.idle": "2022-03-30T23:06:31.239870Z",
     "shell.execute_reply": "2022-03-30T23:06:31.239201Z",
     "shell.execute_reply.started": "2022-03-30T23:05:01.775925Z"
    },
    "papermill": {
     "duration": 0.712065,
     "end_time": "2022-03-30T23:06:31.240013",
     "exception": false,
     "start_time": "2022-03-30T23:06:30.527948",
     "status": "completed"
    },
    "tags": []
   },
   "outputs": [],
   "source": [
    "# validate the results\n",
    "\n",
    "# make predictions on validation data(this will provide scores for each of the ten values from 0-10)\n",
    "predictions = model.predict(X_validation)\n",
    "\n",
    "# select the max values from each prediction array\n",
    "predictions_val = [np.argmax(i) for i in predictions]\n",
    "\n",
    "#predictions_val\n"
   ]
  },
  {
   "cell_type": "code",
   "execution_count": 10,
   "id": "d76c3dcf",
   "metadata": {
    "execution": {
     "iopub.execute_input": "2022-03-30T23:06:31.675321Z",
     "iopub.status.busy": "2022-03-30T23:06:31.674649Z",
     "iopub.status.idle": "2022-03-30T23:06:31.704538Z",
     "shell.execute_reply": "2022-03-30T23:06:31.705025Z",
     "shell.execute_reply.started": "2022-03-30T23:05:02.235127Z"
    },
    "papermill": {
     "duration": 0.261319,
     "end_time": "2022-03-30T23:06:31.705223",
     "exception": false,
     "start_time": "2022-03-30T23:06:31.443904",
     "status": "completed"
    },
    "tags": []
   },
   "outputs": [],
   "source": [
    "# create the confusion matrix to check the results\n",
    "confusion_matrix = tf.math.confusion_matrix(labels = y_validation, predictions = predictions_val)"
   ]
  },
  {
   "cell_type": "code",
   "execution_count": 11,
   "id": "6e2008fd",
   "metadata": {
    "execution": {
     "iopub.execute_input": "2022-03-30T23:06:32.110305Z",
     "iopub.status.busy": "2022-03-30T23:06:32.109355Z",
     "iopub.status.idle": "2022-03-30T23:06:32.812687Z",
     "shell.execute_reply": "2022-03-30T23:06:32.812065Z",
     "shell.execute_reply.started": "2022-03-30T23:05:02.250120Z"
    },
    "papermill": {
     "duration": 0.906288,
     "end_time": "2022-03-30T23:06:32.812825",
     "exception": false,
     "start_time": "2022-03-30T23:06:31.906537",
     "status": "completed"
    },
    "tags": []
   },
   "outputs": [
    {
     "data": {
      "text/plain": [
       "<AxesSubplot:>"
      ]
     },
     "execution_count": 11,
     "metadata": {},
     "output_type": "execute_result"
    },
    {
     "data": {
      "image/png": "[encoded data removed]",
      "text/plain": [
       "<Figure size 432x288 with 2 Axes>"
      ]
     },
     "metadata": {
      "needs_background": "light"
     },
     "output_type": "display_data"
    }
   ],
   "source": [
    "sns.heatmap(confusion_matrix, annot = True, fmt = 'd', cmap=\"YlGnBu\")"
   ]
  },
  {
   "cell_type": "code",
   "execution_count": 12,
   "id": "4e09e419",
   "metadata": {
    "execution": {
     "iopub.execute_input": "2022-03-30T23:06:33.225847Z",
     "iopub.status.busy": "2022-03-30T23:06:33.224861Z",
     "iopub.status.idle": "2022-03-30T23:06:33.909810Z",
     "shell.execute_reply": "2022-03-30T23:06:33.910497Z",
     "shell.execute_reply.started": "2022-03-30T23:05:02.902525Z"
    },
    "papermill": {
     "duration": 0.892324,
     "end_time": "2022-03-30T23:06:33.910726",
     "exception": false,
     "start_time": "2022-03-30T23:06:33.018402",
     "status": "completed"
    },
    "tags": []
   },
   "outputs": [
    {
     "name": "stdout",
     "output_type": "stream",
     "text": [
      "263/263 [==============================] - 1s 2ms/step - loss: 0.0972 - accuracy: 0.9682\n",
      "Validation loss: 0.09722350537776947\n",
      "Validation accuracy: 0.9682142734527588\n"
     ]
    }
   ],
   "source": [
    "# get the score of the model\n",
    "\n",
    "score = model.evaluate(X_validation, y_validation)\n",
    "\n",
    "print(\"Validation loss:\", score[0])\n",
    "print(\"Validation accuracy:\", score[1])"
   ]
  }
 ],
 "metadata": {
  "kernelspec": {
   "display_name": "Python 3",
   "language": "python",
   "name": "python3"
  },
  "language_info": {
   "codemirror_mode": {
    "name": "ipython",
    "version": 3
   },
   "file_extension": ".py",
   "mimetype": "text/x-python",
   "name": "python",
   "nbconvert_exporter": "python",
   "pygments_lexer": "ipython3",
   "version": "3.7.12"
  },
  "papermill": {
   "default_parameters": {},
   "duration": 58.820248,
   "end_time": "2022-03-30T23:06:37.340217",
   "environment_variables": {},
   "exception": null,
   "input_path": "__notebook__.ipynb",
   "output_path": "__notebook__.ipynb",
   "parameters": {},
   "start_time": "2022-03-30T23:05:38.519969",
   "version": "2.3.3"
  }
 },
 "nbformat": 4,
 "nbformat_minor": 5
}
