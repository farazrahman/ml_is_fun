{
 "cells": [
  {
   "cell_type": "code",
   "execution_count": 1,
   "id": "f897a7a3",
   "metadata": {
    "_cell_guid": "b1076dfc-b9ad-4769-8c92-a6c4dae69d19",
    "_uuid": "8f2839f25d086af736a60e9eeb907d3b93b6e0e5",
    "execution": {
     "iopub.execute_input": "2022-03-30T01:04:17.554342Z",
     "iopub.status.busy": "2022-03-30T01:04:17.553080Z",
     "iopub.status.idle": "2022-03-30T01:04:23.920912Z",
     "shell.execute_reply": "2022-03-30T01:04:23.921478Z",
     "shell.execute_reply.started": "2022-03-30T00:41:27.439380Z"
    },
    "papermill": {
     "duration": 6.388545,
     "end_time": "2022-03-30T01:04:23.921790",
     "exception": false,
     "start_time": "2022-03-30T01:04:17.533245",
     "status": "completed"
    },
    "tags": []
   },
   "outputs": [
    {
     "name": "stdout",
     "output_type": "stream",
     "text": [
      "/kaggle/input/digit-recognizer/sample_submission.csv\n",
      "/kaggle/input/digit-recognizer/train.csv\n",
      "/kaggle/input/digit-recognizer/test.csv\n"
     ]
    }
   ],
   "source": [
    "# import the libraries\n",
    "import numpy as np \n",
    "import pandas as pd \n",
    "import tensorflow as tf\n",
    "from tensorflow import keras\n",
    "import seaborn as sns\n",
    "import matplotlib.pyplot as plt\n",
    "from sklearn.model_selection import train_test_split\n",
    "\n",
    "import os\n",
    "for dirname, _, filenames in os.walk('/kaggle/input'):\n",
    "    for filename in filenames:\n",
    "        print(os.path.join(dirname, filename))"
   ]
  },
  {
   "cell_type": "code",
   "execution_count": 2,
   "id": "4221d0b3",
   "metadata": {
    "execution": {
     "iopub.execute_input": "2022-03-30T01:04:23.958050Z",
     "iopub.status.busy": "2022-03-30T01:04:23.957355Z",
     "iopub.status.idle": "2022-03-30T01:04:27.627600Z",
     "shell.execute_reply": "2022-03-30T01:04:27.628123Z",
     "shell.execute_reply.started": "2022-03-30T00:41:33.237742Z"
    },
    "papermill": {
     "duration": 3.690686,
     "end_time": "2022-03-30T01:04:27.628296",
     "exception": false,
     "start_time": "2022-03-30T01:04:23.937610",
     "status": "completed"
    },
    "tags": []
   },
   "outputs": [
    {
     "data": {
      "text/plain": [
       "(42000, 785)"
      ]
     },
     "execution_count": 2,
     "metadata": {},
     "output_type": "execute_result"
    }
   ],
   "source": [
    "# load and check the shape of train data\n",
    "train = pd.read_csv('/kaggle/input/digit-recognizer/train.csv')\n",
    "train.shape"
   ]
  },
  {
   "cell_type": "code",
   "execution_count": 3,
   "id": "aae8a103",
   "metadata": {
    "execution": {
     "iopub.execute_input": "2022-03-30T01:04:27.664061Z",
     "iopub.status.busy": "2022-03-30T01:04:27.663337Z",
     "iopub.status.idle": "2022-03-30T01:04:27.721723Z",
     "shell.execute_reply": "2022-03-30T01:04:27.722708Z",
     "shell.execute_reply.started": "2022-03-30T00:41:36.393607Z"
    },
    "papermill": {
     "duration": 0.079389,
     "end_time": "2022-03-30T01:04:27.723045",
     "exception": false,
     "start_time": "2022-03-30T01:04:27.643656",
     "status": "completed"
    },
    "tags": []
   },
   "outputs": [
    {
     "name": "stdout",
     "output_type": "stream",
     "text": [
      "<class 'pandas.core.frame.DataFrame'>\n",
      "RangeIndex: 42000 entries, 0 to 41999\n",
      "Columns: 785 entries, label to pixel783\n",
      "dtypes: int64(785)\n",
      "memory usage: 251.5 MB\n"
     ]
    }
   ],
   "source": [
    "train.info()"
   ]
  },
  {
   "cell_type": "code",
   "execution_count": 4,
   "id": "9e8b42a5",
   "metadata": {
    "execution": {
     "iopub.execute_input": "2022-03-30T01:04:27.759460Z",
     "iopub.status.busy": "2022-03-30T01:04:27.758715Z",
     "iopub.status.idle": "2022-03-30T01:04:29.853597Z",
     "shell.execute_reply": "2022-03-30T01:04:29.854140Z",
     "shell.execute_reply.started": "2022-03-30T00:41:36.451060Z"
    },
    "papermill": {
     "duration": 2.114849,
     "end_time": "2022-03-30T01:04:29.854330",
     "exception": false,
     "start_time": "2022-03-30T01:04:27.739481",
     "status": "completed"
    },
    "tags": []
   },
   "outputs": [
    {
     "data": {
      "text/plain": [
       "(28000, 784)"
      ]
     },
     "execution_count": 4,
     "metadata": {},
     "output_type": "execute_result"
    }
   ],
   "source": [
    "# load and check the shape of test data\n",
    "test = pd.read_csv('/kaggle/input/digit-recognizer/test.csv')\n",
    "test.shape"
   ]
  },
  {
   "cell_type": "code",
   "execution_count": 5,
   "id": "3f5c235e",
   "metadata": {
    "execution": {
     "iopub.execute_input": "2022-03-30T01:04:29.890097Z",
     "iopub.status.busy": "2022-03-30T01:04:29.889086Z",
     "iopub.status.idle": "2022-03-30T01:04:30.003536Z",
     "shell.execute_reply": "2022-03-30T01:04:30.002787Z",
     "shell.execute_reply.started": "2022-03-30T00:41:38.186327Z"
    },
    "papermill": {
     "duration": 0.133486,
     "end_time": "2022-03-30T01:04:30.003700",
     "exception": false,
     "start_time": "2022-03-30T01:04:29.870214",
     "status": "completed"
    },
    "tags": []
   },
   "outputs": [],
   "source": [
    "# Data preparation\n",
    "X = train.drop(['label'], axis = 1)\n",
    "y = train['label']"
   ]
  },
  {
   "cell_type": "code",
   "execution_count": 6,
   "id": "4be6a2f6",
   "metadata": {
    "execution": {
     "iopub.execute_input": "2022-03-30T01:04:30.039662Z",
     "iopub.status.busy": "2022-03-30T01:04:30.038658Z",
     "iopub.status.idle": "2022-03-30T01:04:30.240467Z",
     "shell.execute_reply": "2022-03-30T01:04:30.239749Z",
     "shell.execute_reply.started": "2022-03-30T00:41:38.301531Z"
    },
    "papermill": {
     "duration": 0.22097,
     "end_time": "2022-03-30T01:04:30.240619",
     "exception": false,
     "start_time": "2022-03-30T01:04:30.019649",
     "status": "completed"
    },
    "tags": []
   },
   "outputs": [],
   "source": [
    "# scale the images betwee 0 and 1 by dividing the pixels by 255\n",
    "\n",
    "X = X.astype('float32') / 255\n",
    "test = test.astype('float32') / 255"
   ]
  },
  {
   "cell_type": "code",
   "execution_count": 7,
   "id": "49030e19",
   "metadata": {
    "execution": {
     "iopub.execute_input": "2022-03-30T01:04:30.278948Z",
     "iopub.status.busy": "2022-03-30T01:04:30.276083Z",
     "iopub.status.idle": "2022-03-30T01:04:30.404789Z",
     "shell.execute_reply": "2022-03-30T01:04:30.404212Z",
     "shell.execute_reply.started": "2022-03-30T00:41:38.503358Z"
    },
    "papermill": {
     "duration": 0.147385,
     "end_time": "2022-03-30T01:04:30.404940",
     "exception": false,
     "start_time": "2022-03-30T01:04:30.257555",
     "status": "completed"
    },
    "tags": []
   },
   "outputs": [],
   "source": [
    "# split the train data into train and validation set\n",
    "\n",
    "X_train, X_validation, y_train, y_validation = train_test_split(X, y, test_size = 0.20, random_state = 42)"
   ]
  },
  {
   "cell_type": "code",
   "execution_count": 8,
   "id": "fca5d9d4",
   "metadata": {
    "execution": {
     "iopub.execute_input": "2022-03-30T01:04:30.442923Z",
     "iopub.status.busy": "2022-03-30T01:04:30.442196Z",
     "iopub.status.idle": "2022-03-30T01:04:40.980620Z",
     "shell.execute_reply": "2022-03-30T01:04:40.981467Z",
     "shell.execute_reply.started": "2022-03-30T00:41:38.634248Z"
    },
    "papermill": {
     "duration": 10.560765,
     "end_time": "2022-03-30T01:04:40.981643",
     "exception": false,
     "start_time": "2022-03-30T01:04:30.420878",
     "status": "completed"
    },
    "tags": []
   },
   "outputs": [
    {
     "name": "stderr",
     "output_type": "stream",
     "text": [
      "2022-03-30 01:04:31.581745: I tensorflow/core/common_runtime/process_util.cc:146] Creating new thread pool with default inter op setting: 2. Tune using inter_op_parallelism_threads for best performance.\n",
      "2022-03-30 01:04:31.897286: I tensorflow/compiler/mlir/mlir_graph_optimization_pass.cc:185] None of the MLIR Optimization Passes are enabled (registered 2)\n"
     ]
    },
    {
     "name": "stdout",
     "output_type": "stream",
     "text": [
      "Epoch 1/5\n",
      "1050/1050 [==============================] - 2s 2ms/step - loss: 0.5577 - accuracy: 0.8587\n",
      "Epoch 2/5\n",
      "1050/1050 [==============================] - 2s 2ms/step - loss: 0.3257 - accuracy: 0.9092\n",
      "Epoch 3/5\n",
      "1050/1050 [==============================] - 2s 2ms/step - loss: 0.2935 - accuracy: 0.9179\n",
      "Epoch 4/5\n",
      "1050/1050 [==============================] - 2s 2ms/step - loss: 0.2778 - accuracy: 0.9224\n",
      "Epoch 5/5\n",
      "1050/1050 [==============================] - 2s 2ms/step - loss: 0.2684 - accuracy: 0.9244\n"
     ]
    },
    {
     "data": {
      "text/plain": [
       "<keras.callbacks.History at 0x7f2804498250>"
      ]
     },
     "execution_count": 8,
     "metadata": {},
     "output_type": "execute_result"
    }
   ],
   "source": [
    "# make a generic single layer Neural Network\n",
    "\n",
    "model = keras.Sequential([\n",
    "    keras.layers.Dense(10, input_shape = (784,), activation = 'sigmoid')])\n",
    "\n",
    "# compile the model\n",
    "\n",
    "model.compile(optimizer = 'adam', loss = 'sparse_categorical_crossentropy', metrics = ['accuracy'])\n",
    "\n",
    "# fit the model\n",
    "model.fit(X_train, y_train, epochs= 5)"
   ]
  },
  {
   "cell_type": "code",
   "execution_count": 9,
   "id": "bf8a12da",
   "metadata": {
    "execution": {
     "iopub.execute_input": "2022-03-30T01:04:41.154807Z",
     "iopub.status.busy": "2022-03-30T01:04:41.154058Z",
     "iopub.status.idle": "2022-03-30T01:05:02.190016Z",
     "shell.execute_reply": "2022-03-30T01:05:02.189458Z",
     "shell.execute_reply.started": "2022-03-30T00:41:47.633436Z"
    },
    "papermill": {
     "duration": 21.126659,
     "end_time": "2022-03-30T01:05:02.190161",
     "exception": false,
     "start_time": "2022-03-30T01:04:41.063502",
     "status": "completed"
    },
    "tags": []
   },
   "outputs": [
    {
     "name": "stdout",
     "output_type": "stream",
     "text": [
      "Epoch 1/5\n",
      "1050/1050 [==============================] - 3s 3ms/step - loss: 0.2962 - accuracy: 0.9149\n",
      "Epoch 2/5\n",
      "1050/1050 [==============================] - 3s 2ms/step - loss: 0.1278 - accuracy: 0.9629\n",
      "Epoch 3/5\n",
      "1050/1050 [==============================] - 3s 3ms/step - loss: 0.0844 - accuracy: 0.9757\n",
      "Epoch 4/5\n",
      "1050/1050 [==============================] - 3s 3ms/step - loss: 0.0610 - accuracy: 0.9822\n",
      "Epoch 5/5\n",
      "1050/1050 [==============================] - 3s 3ms/step - loss: 0.0448 - accuracy: 0.9865\n"
     ]
    },
    {
     "data": {
      "text/plain": [
       "<keras.callbacks.History at 0x7f27e2f81750>"
      ]
     },
     "execution_count": 9,
     "metadata": {},
     "output_type": "execute_result"
    }
   ],
   "source": [
    "# add hidden layers in the Neural Network\n",
    "model = keras.Sequential([\n",
    "    keras.layers.Dense(200, input_shape = (784,), activation = 'relu'),\n",
    "    keras.layers.Dense(10, activation = 'sigmoid')])\n",
    "\n",
    "# compile the model\n",
    "model.compile(optimizer = 'adam', loss = 'sparse_categorical_crossentropy', metrics = ['accuracy'])\n",
    "\n",
    "# fit the model\n",
    "model.fit(X_train, y_train, epochs= 5)"
   ]
  },
  {
   "cell_type": "code",
   "execution_count": 10,
   "id": "fcdf7c46",
   "metadata": {
    "execution": {
     "iopub.execute_input": "2022-03-30T01:05:02.554365Z",
     "iopub.status.busy": "2022-03-30T01:05:02.553642Z",
     "iopub.status.idle": "2022-03-30T01:05:03.041730Z",
     "shell.execute_reply": "2022-03-30T01:05:03.041023Z",
     "shell.execute_reply.started": "2022-03-30T00:54:30.568296Z"
    },
    "papermill": {
     "duration": 0.672125,
     "end_time": "2022-03-30T01:05:03.041879",
     "exception": false,
     "start_time": "2022-03-30T01:05:02.369754",
     "status": "completed"
    },
    "tags": []
   },
   "outputs": [],
   "source": [
    "# validate the results\n",
    "\n",
    "# make predictions on validation data(this will provide scores for each of the ten values from 0-10)\n",
    "predictions = model.predict(X_validation)\n",
    "\n",
    "# select the max values from each prediction array\n",
    "predictions_val = [np.argmax(i) for i in predictions]\n",
    "\n",
    "#predictions_val\n"
   ]
  },
  {
   "cell_type": "code",
   "execution_count": 11,
   "id": "91f79014",
   "metadata": {
    "execution": {
     "iopub.execute_input": "2022-03-30T01:05:03.409746Z",
     "iopub.status.busy": "2022-03-30T01:05:03.409043Z",
     "iopub.status.idle": "2022-03-30T01:05:03.431180Z",
     "shell.execute_reply": "2022-03-30T01:05:03.431660Z",
     "shell.execute_reply.started": "2022-03-30T00:57:08.113276Z"
    },
    "papermill": {
     "duration": 0.211053,
     "end_time": "2022-03-30T01:05:03.431848",
     "exception": false,
     "start_time": "2022-03-30T01:05:03.220795",
     "status": "completed"
    },
    "tags": []
   },
   "outputs": [],
   "source": [
    "# create the confusion matrix to check the results\n",
    "confusion_matrix = tf.math.confusion_matrix(labels = y_validation, predictions = predictions_val)"
   ]
  },
  {
   "cell_type": "code",
   "execution_count": 12,
   "id": "70c36ced",
   "metadata": {
    "execution": {
     "iopub.execute_input": "2022-03-30T01:05:03.793471Z",
     "iopub.status.busy": "2022-03-30T01:05:03.792480Z",
     "iopub.status.idle": "2022-03-30T01:05:04.708115Z",
     "shell.execute_reply": "2022-03-30T01:05:04.708917Z",
     "shell.execute_reply.started": "2022-03-30T00:58:51.849922Z"
    },
    "papermill": {
     "duration": 1.097855,
     "end_time": "2022-03-30T01:05:04.709234",
     "exception": false,
     "start_time": "2022-03-30T01:05:03.611379",
     "status": "completed"
    },
    "tags": []
   },
   "outputs": [
    {
     "data": {
      "text/plain": [
       "<AxesSubplot:>"
      ]
     },
     "execution_count": 12,
     "metadata": {},
     "output_type": "execute_result"
    },
    {
     "data": {
      "image/png": "[encoded data removed]",
      "text/plain": [
       "<Figure size 432x288 with 2 Axes>"
      ]
     },
     "metadata": {
      "needs_background": "light"
     },
     "output_type": "display_data"
    }
   ],
   "source": [
    "sns.heatmap(confusion_matrix, annot = True, fmt = 'd', cmap=\"YlGnBu\")"
   ]
  },
  {
   "cell_type": "code",
   "execution_count": 13,
   "id": "722ac1a3",
   "metadata": {
    "execution": {
     "iopub.execute_input": "2022-03-30T01:05:05.084507Z",
     "iopub.status.busy": "2022-03-30T01:05:05.083817Z",
     "iopub.status.idle": "2022-03-30T01:05:05.737376Z",
     "shell.execute_reply": "2022-03-30T01:05:05.736708Z",
     "shell.execute_reply.started": "2022-03-30T01:01:04.893891Z"
    },
    "papermill": {
     "duration": 0.841359,
     "end_time": "2022-03-30T01:05:05.737532",
     "exception": false,
     "start_time": "2022-03-30T01:05:04.896173",
     "status": "completed"
    },
    "tags": []
   },
   "outputs": [
    {
     "name": "stdout",
     "output_type": "stream",
     "text": [
      "263/263 [==============================] - 1s 1ms/step - loss: 0.1041 - accuracy: 0.9663\n",
      "Validation loss: 0.10406646132469177\n",
      "Validation accuracy: 0.9663095474243164\n"
     ]
    }
   ],
   "source": [
    "# get the score of the model\n",
    "\n",
    "score = model.evaluate(X_validation, y_validation)\n",
    "\n",
    "print(\"Validation loss:\", score[0])\n",
    "print(\"Validation accuracy:\", score[1])"
   ]
  }
 ],
 "metadata": {
  "kernelspec": {
   "display_name": "Python 3",
   "language": "python",
   "name": "python3"
  },
  "language_info": {
   "codemirror_mode": {
    "name": "ipython",
    "version": 3
   },
   "file_extension": ".py",
   "mimetype": "text/x-python",
   "name": "python",
   "nbconvert_exporter": "python",
   "pygments_lexer": "ipython3",
   "version": "3.7.12"
  },
  "papermill": {
   "default_parameters": {},
   "duration": 62.691552,
   "end_time": "2022-03-30T01:05:09.303148",
   "environment_variables": {},
   "exception": null,
   "input_path": "__notebook__.ipynb",
   "output_path": "__notebook__.ipynb",
   "parameters": {},
   "start_time": "2022-03-30T01:04:06.611596",
   "version": "2.3.3"
  }
 },
 "nbformat": 4,
 "nbformat_minor": 5
}
