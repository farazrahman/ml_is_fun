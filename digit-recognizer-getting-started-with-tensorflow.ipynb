{
 "cells": [
  {
   "cell_type": "markdown",
   "id": "0ddf3a0e",
   "metadata": {
    "_cell_guid": "b1076dfc-b9ad-4769-8c92-a6c4dae69d19",
    "_uuid": "8f2839f25d086af736a60e9eeb907d3b93b6e0e5",
    "execution": {
     "iopub.execute_input": "2022-03-30T00:41:27.439467Z",
     "iopub.status.busy": "2022-03-30T00:41:27.439109Z",
     "iopub.status.idle": "2022-03-30T00:41:33.236050Z",
     "shell.execute_reply": "2022-03-30T00:41:33.235121Z",
     "shell.execute_reply.started": "2022-03-30T00:41:27.439380Z"
    },
    "papermill": {
     "duration": 0.016041,
     "end_time": "2022-03-30T01:36:09.423017",
     "exception": false,
     "start_time": "2022-03-30T01:36:09.406976",
     "status": "completed"
    },
    "tags": []
   },
   "source": [
    "# 🧮 Digit Recognizer- Getting started with Tensorflow: \n",
    "\n",
    "\n",
    "\n",
    "<div style=\"color:white;display:fill;border-radius:5px;background-color:#CCCCFF;\n",
    "       font-size:150%;font-family:Nexa;letter-spacing:0.5px\">\n",
    "    <p style=\"padding: 10px;color:white;\"><b> About the Notebook:</b></p>\n",
    "</div>\n",
    "\n",
    "In this notebook I am trying to correctly identify digits from a dataset of tens of thousands of handwritten images from a curated set of MNIST (\"Modified National Institute of Standards and Technology\") data. My goal is to build simple neural networks and understand the fundamentals of computer vision and learn tons of small yet significant details in Deep Learning on the go. "
   ]
  },
  {
   "cell_type": "code",
   "execution_count": 1,
   "id": "4157943d",
   "metadata": {
    "execution": {
     "iopub.execute_input": "2022-03-30T01:36:09.465190Z",
     "iopub.status.busy": "2022-03-30T01:36:09.462015Z",
     "iopub.status.idle": "2022-03-30T01:36:15.727721Z",
     "shell.execute_reply": "2022-03-30T01:36:15.728314Z",
     "shell.execute_reply.started": "2022-03-30T01:34:21.968402Z"
    },
    "papermill": {
     "duration": 6.289882,
     "end_time": "2022-03-30T01:36:15.728616",
     "exception": false,
     "start_time": "2022-03-30T01:36:09.438734",
     "status": "completed"
    },
    "tags": []
   },
   "outputs": [
    {
     "name": "stdout",
     "output_type": "stream",
     "text": [
      "/kaggle/input/digit-recognizer/sample_submission.csv\n",
      "/kaggle/input/digit-recognizer/train.csv\n",
      "/kaggle/input/digit-recognizer/test.csv\n"
     ]
    }
   ],
   "source": [
    "# import the libraries\n",
    "import numpy as np \n",
    "import pandas as pd \n",
    "import tensorflow as tf\n",
    "from tensorflow import keras\n",
    "import seaborn as sns\n",
    "import matplotlib.pyplot as plt\n",
    "from sklearn.model_selection import train_test_split\n",
    "\n",
    "import os\n",
    "for dirname, _, filenames in os.walk('/kaggle/input'):\n",
    "    for filename in filenames:\n",
    "        print(os.path.join(dirname, filename))"
   ]
  },
  {
   "cell_type": "code",
   "execution_count": 2,
   "id": "8740d1ad",
   "metadata": {
    "execution": {
     "iopub.execute_input": "2022-03-30T01:36:15.766626Z",
     "iopub.status.busy": "2022-03-30T01:36:15.765559Z",
     "iopub.status.idle": "2022-03-30T01:36:19.615223Z",
     "shell.execute_reply": "2022-03-30T01:36:19.614631Z",
     "shell.execute_reply.started": "2022-03-30T01:34:22.043338Z"
    },
    "papermill": {
     "duration": 3.870874,
     "end_time": "2022-03-30T01:36:19.615386",
     "exception": false,
     "start_time": "2022-03-30T01:36:15.744512",
     "status": "completed"
    },
    "tags": []
   },
   "outputs": [
    {
     "data": {
      "text/plain": [
       "(42000, 785)"
      ]
     },
     "execution_count": 2,
     "metadata": {},
     "output_type": "execute_result"
    }
   ],
   "source": [
    "# load and check the shape of train data\n",
    "train = pd.read_csv('/kaggle/input/digit-recognizer/train.csv')\n",
    "train.shape"
   ]
  },
  {
   "cell_type": "code",
   "execution_count": 3,
   "id": "52871cea",
   "metadata": {
    "execution": {
     "iopub.execute_input": "2022-03-30T01:36:19.653003Z",
     "iopub.status.busy": "2022-03-30T01:36:19.652255Z",
     "iopub.status.idle": "2022-03-30T01:36:19.711519Z",
     "shell.execute_reply": "2022-03-30T01:36:19.712056Z",
     "shell.execute_reply.started": "2022-03-30T01:34:24.174472Z"
    },
    "papermill": {
     "duration": 0.080444,
     "end_time": "2022-03-30T01:36:19.712240",
     "exception": false,
     "start_time": "2022-03-30T01:36:19.631796",
     "status": "completed"
    },
    "tags": []
   },
   "outputs": [
    {
     "name": "stdout",
     "output_type": "stream",
     "text": [
      "<class 'pandas.core.frame.DataFrame'>\n",
      "RangeIndex: 42000 entries, 0 to 41999\n",
      "Columns: 785 entries, label to pixel783\n",
      "dtypes: int64(785)\n",
      "memory usage: 251.5 MB\n"
     ]
    }
   ],
   "source": [
    "train.info()"
   ]
  },
  {
   "cell_type": "code",
   "execution_count": 4,
   "id": "4d63af3c",
   "metadata": {
    "execution": {
     "iopub.execute_input": "2022-03-30T01:36:19.750559Z",
     "iopub.status.busy": "2022-03-30T01:36:19.749717Z",
     "iopub.status.idle": "2022-03-30T01:36:22.003897Z",
     "shell.execute_reply": "2022-03-30T01:36:22.003296Z",
     "shell.execute_reply.started": "2022-03-30T01:34:24.481273Z"
    },
    "papermill": {
     "duration": 2.275023,
     "end_time": "2022-03-30T01:36:22.004061",
     "exception": false,
     "start_time": "2022-03-30T01:36:19.729038",
     "status": "completed"
    },
    "tags": []
   },
   "outputs": [
    {
     "data": {
      "text/plain": [
       "(28000, 784)"
      ]
     },
     "execution_count": 4,
     "metadata": {},
     "output_type": "execute_result"
    }
   ],
   "source": [
    "# load and check the shape of test data\n",
    "test = pd.read_csv('/kaggle/input/digit-recognizer/test.csv')\n",
    "test.shape"
   ]
  },
  {
   "cell_type": "code",
   "execution_count": 5,
   "id": "7a30f76d",
   "metadata": {
    "execution": {
     "iopub.execute_input": "2022-03-30T01:36:22.168602Z",
     "iopub.status.busy": "2022-03-30T01:36:22.053442Z",
     "iopub.status.idle": "2022-03-30T01:36:22.171534Z",
     "shell.execute_reply": "2022-03-30T01:36:22.170950Z",
     "shell.execute_reply.started": "2022-03-30T01:34:25.779211Z"
    },
    "papermill": {
     "duration": 0.146377,
     "end_time": "2022-03-30T01:36:22.171673",
     "exception": false,
     "start_time": "2022-03-30T01:36:22.025296",
     "status": "completed"
    },
    "tags": []
   },
   "outputs": [],
   "source": [
    "# Data preparation\n",
    "X = train.drop(['label'], axis = 1)\n",
    "y = train['label']"
   ]
  },
  {
   "cell_type": "code",
   "execution_count": 6,
   "id": "8d1ddbe1",
   "metadata": {
    "execution": {
     "iopub.execute_input": "2022-03-30T01:36:22.210963Z",
     "iopub.status.busy": "2022-03-30T01:36:22.209763Z",
     "iopub.status.idle": "2022-03-30T01:36:22.423569Z",
     "shell.execute_reply": "2022-03-30T01:36:22.422906Z",
     "shell.execute_reply.started": "2022-03-30T01:34:25.883497Z"
    },
    "papermill": {
     "duration": 0.235352,
     "end_time": "2022-03-30T01:36:22.423718",
     "exception": false,
     "start_time": "2022-03-30T01:36:22.188366",
     "status": "completed"
    },
    "tags": []
   },
   "outputs": [],
   "source": [
    "# scale the images betwee 0 and 1 by dividing the pixels by 255\n",
    "\n",
    "X = X.astype('float32') / 255\n",
    "test = test.astype('float32') / 255"
   ]
  },
  {
   "cell_type": "code",
   "execution_count": 7,
   "id": "42ea26bf",
   "metadata": {
    "execution": {
     "iopub.execute_input": "2022-03-30T01:36:22.460940Z",
     "iopub.status.busy": "2022-03-30T01:36:22.460141Z",
     "iopub.status.idle": "2022-03-30T01:36:22.595535Z",
     "shell.execute_reply": "2022-03-30T01:36:22.594799Z",
     "shell.execute_reply.started": "2022-03-30T01:34:26.074666Z"
    },
    "papermill": {
     "duration": 0.155273,
     "end_time": "2022-03-30T01:36:22.595686",
     "exception": false,
     "start_time": "2022-03-30T01:36:22.440413",
     "status": "completed"
    },
    "tags": []
   },
   "outputs": [],
   "source": [
    "# split the train data into train and validation set\n",
    "\n",
    "X_train, X_validation, y_train, y_validation = train_test_split(X, y, test_size = 0.20, random_state = 42)"
   ]
  },
  {
   "cell_type": "code",
   "execution_count": 8,
   "id": "25a4ee3c",
   "metadata": {
    "execution": {
     "iopub.execute_input": "2022-03-30T01:36:22.635078Z",
     "iopub.status.busy": "2022-03-30T01:36:22.634358Z",
     "iopub.status.idle": "2022-03-30T01:36:33.573452Z",
     "shell.execute_reply": "2022-03-30T01:36:33.572786Z",
     "shell.execute_reply.started": "2022-03-30T01:34:26.209569Z"
    },
    "papermill": {
     "duration": 10.961352,
     "end_time": "2022-03-30T01:36:33.573598",
     "exception": false,
     "start_time": "2022-03-30T01:36:22.612246",
     "status": "completed"
    },
    "tags": []
   },
   "outputs": [
    {
     "name": "stderr",
     "output_type": "stream",
     "text": [
      "2022-03-30 01:36:23.793459: I tensorflow/core/common_runtime/process_util.cc:146] Creating new thread pool with default inter op setting: 2. Tune using inter_op_parallelism_threads for best performance.\n",
      "2022-03-30 01:36:24.108368: I tensorflow/compiler/mlir/mlir_graph_optimization_pass.cc:185] None of the MLIR Optimization Passes are enabled (registered 2)\n"
     ]
    },
    {
     "name": "stdout",
     "output_type": "stream",
     "text": [
      "Epoch 1/5\n",
      "1050/1050 [==============================] - 2s 2ms/step - loss: 0.5654 - accuracy: 0.8576\n",
      "Epoch 2/5\n",
      "1050/1050 [==============================] - 2s 2ms/step - loss: 0.3262 - accuracy: 0.9101\n",
      "Epoch 3/5\n",
      "1050/1050 [==============================] - 2s 2ms/step - loss: 0.2944 - accuracy: 0.9179\n",
      "Epoch 4/5\n",
      "1050/1050 [==============================] - 2s 2ms/step - loss: 0.2785 - accuracy: 0.9212\n",
      "Epoch 5/5\n",
      "1050/1050 [==============================] - 2s 2ms/step - loss: 0.2684 - accuracy: 0.9246\n"
     ]
    },
    {
     "data": {
      "text/plain": [
       "<keras.callbacks.History at 0x7f8c53071d10>"
      ]
     },
     "execution_count": 8,
     "metadata": {},
     "output_type": "execute_result"
    }
   ],
   "source": [
    "# make a generic single layer Neural Network\n",
    "\n",
    "model = keras.Sequential([\n",
    "    keras.layers.Dense(10, input_shape = (784,), activation = 'sigmoid')])\n",
    "\n",
    "# compile the model\n",
    "\n",
    "model.compile(optimizer = 'adam', loss = 'sparse_categorical_crossentropy', metrics = ['accuracy'])\n",
    "\n",
    "# fit the model\n",
    "model.fit(X_train, y_train, epochs= 5)"
   ]
  },
  {
   "cell_type": "code",
   "execution_count": 9,
   "id": "a468b1bc",
   "metadata": {
    "execution": {
     "iopub.execute_input": "2022-03-30T01:36:33.751567Z",
     "iopub.status.busy": "2022-03-30T01:36:33.750560Z",
     "iopub.status.idle": "2022-03-30T01:36:46.127347Z",
     "shell.execute_reply": "2022-03-30T01:36:46.126749Z",
     "shell.execute_reply.started": "2022-03-30T01:34:33.581512Z"
    },
    "papermill": {
     "duration": 12.467302,
     "end_time": "2022-03-30T01:36:46.127503",
     "exception": false,
     "start_time": "2022-03-30T01:36:33.660201",
     "status": "completed"
    },
    "tags": []
   },
   "outputs": [
    {
     "name": "stdout",
     "output_type": "stream",
     "text": [
      "Epoch 1/5\n",
      "1050/1050 [==============================] - 3s 2ms/step - loss: 0.2986 - accuracy: 0.9152\n",
      "Epoch 2/5\n",
      "1050/1050 [==============================] - 2s 2ms/step - loss: 0.1300 - accuracy: 0.9610\n",
      "Epoch 3/5\n",
      "1050/1050 [==============================] - 2s 2ms/step - loss: 0.0858 - accuracy: 0.9741\n",
      "Epoch 4/5\n",
      "1050/1050 [==============================] - 2s 2ms/step - loss: 0.0631 - accuracy: 0.9811\n",
      "Epoch 5/5\n",
      "1050/1050 [==============================] - 2s 2ms/step - loss: 0.0467 - accuracy: 0.9864\n"
     ]
    },
    {
     "data": {
      "text/plain": [
       "<keras.callbacks.History at 0x7f8c383a0bd0>"
      ]
     },
     "execution_count": 9,
     "metadata": {},
     "output_type": "execute_result"
    }
   ],
   "source": [
    "# add hidden layers in the Neural Network\n",
    "model = keras.Sequential([\n",
    "    keras.layers.Dense(200, input_shape = (784,), activation = 'relu'),\n",
    "    keras.layers.Dense(10, activation = 'sigmoid')])\n",
    "\n",
    "# compile the model\n",
    "model.compile(optimizer = 'adam', loss = 'sparse_categorical_crossentropy', metrics = ['accuracy'])\n",
    "\n",
    "# fit the model\n",
    "model.fit(X_train, y_train, epochs= 5)"
   ]
  },
  {
   "cell_type": "code",
   "execution_count": 10,
   "id": "f8d14a1a",
   "metadata": {
    "execution": {
     "iopub.execute_input": "2022-03-30T01:36:46.479208Z",
     "iopub.status.busy": "2022-03-30T01:36:46.478549Z",
     "iopub.status.idle": "2022-03-30T01:36:46.952452Z",
     "shell.execute_reply": "2022-03-30T01:36:46.951866Z",
     "shell.execute_reply.started": "2022-03-30T01:34:43.272778Z"
    },
    "papermill": {
     "duration": 0.652567,
     "end_time": "2022-03-30T01:36:46.952623",
     "exception": false,
     "start_time": "2022-03-30T01:36:46.300056",
     "status": "completed"
    },
    "tags": []
   },
   "outputs": [],
   "source": [
    "# validate the results\n",
    "\n",
    "# make predictions on validation data(this will provide scores for each of the ten values from 0-10)\n",
    "predictions = model.predict(X_validation)\n",
    "\n",
    "# select the max values from each prediction array\n",
    "predictions_val = [np.argmax(i) for i in predictions]\n",
    "\n",
    "#predictions_val\n"
   ]
  },
  {
   "cell_type": "code",
   "execution_count": 11,
   "id": "ad1c6054",
   "metadata": {
    "execution": {
     "iopub.execute_input": "2022-03-30T01:36:47.303262Z",
     "iopub.status.busy": "2022-03-30T01:36:47.302512Z",
     "iopub.status.idle": "2022-03-30T01:36:47.330371Z",
     "shell.execute_reply": "2022-03-30T01:36:47.330874Z",
     "shell.execute_reply.started": "2022-03-30T01:34:43.945321Z"
    },
    "papermill": {
     "duration": 0.203245,
     "end_time": "2022-03-30T01:36:47.331068",
     "exception": false,
     "start_time": "2022-03-30T01:36:47.127823",
     "status": "completed"
    },
    "tags": []
   },
   "outputs": [],
   "source": [
    "# create the confusion matrix to check the results\n",
    "confusion_matrix = tf.math.confusion_matrix(labels = y_validation, predictions = predictions_val)"
   ]
  },
  {
   "cell_type": "code",
   "execution_count": 12,
   "id": "08600f73",
   "metadata": {
    "execution": {
     "iopub.execute_input": "2022-03-30T01:36:47.681957Z",
     "iopub.status.busy": "2022-03-30T01:36:47.681286Z",
     "iopub.status.idle": "2022-03-30T01:36:48.531402Z",
     "shell.execute_reply": "2022-03-30T01:36:48.531953Z",
     "shell.execute_reply.started": "2022-03-30T01:34:43.959018Z"
    },
    "papermill": {
     "duration": 1.027774,
     "end_time": "2022-03-30T01:36:48.532133",
     "exception": false,
     "start_time": "2022-03-30T01:36:47.504359",
     "status": "completed"
    },
    "tags": []
   },
   "outputs": [
    {
     "data": {
      "text/plain": [
       "<AxesSubplot:>"
      ]
     },
     "execution_count": 12,
     "metadata": {},
     "output_type": "execute_result"
    },
    {
     "data": {
      "image/png": "[encoded data removed]",
      "text/plain": [
       "<Figure size 432x288 with 2 Axes>"
      ]
     },
     "metadata": {
      "needs_background": "light"
     },
     "output_type": "display_data"
    }
   ],
   "source": [
    "sns.heatmap(confusion_matrix, annot = True, fmt = 'd', cmap=\"YlGnBu\")"
   ]
  },
  {
   "cell_type": "code",
   "execution_count": 13,
   "id": "2d4cf49d",
   "metadata": {
    "execution": {
     "iopub.execute_input": "2022-03-30T01:36:48.888318Z",
     "iopub.status.busy": "2022-03-30T01:36:48.887663Z",
     "iopub.status.idle": "2022-03-30T01:36:49.512775Z",
     "shell.execute_reply": "2022-03-30T01:36:49.513435Z",
     "shell.execute_reply.started": "2022-03-30T01:34:44.621120Z"
    },
    "papermill": {
     "duration": 0.805338,
     "end_time": "2022-03-30T01:36:49.513621",
     "exception": false,
     "start_time": "2022-03-30T01:36:48.708283",
     "status": "completed"
    },
    "tags": []
   },
   "outputs": [
    {
     "name": "stdout",
     "output_type": "stream",
     "text": [
      "263/263 [==============================] - 1s 1ms/step - loss: 0.0927 - accuracy: 0.9737\n",
      "Validation loss: 0.09271068125963211\n",
      "Validation accuracy: 0.9736904501914978\n"
     ]
    }
   ],
   "source": [
    "# get the score of the model\n",
    "\n",
    "score = model.evaluate(X_validation, y_validation)\n",
    "\n",
    "print(\"Validation loss:\", score[0])\n",
    "print(\"Validation accuracy:\", score[1])"
   ]
  }
 ],
 "metadata": {
  "kernelspec": {
   "display_name": "Python 3",
   "language": "python",
   "name": "python3"
  },
  "language_info": {
   "codemirror_mode": {
    "name": "ipython",
    "version": 3
   },
   "file_extension": ".py",
   "mimetype": "text/x-python",
   "name": "python",
   "nbconvert_exporter": "python",
   "pygments_lexer": "ipython3",
   "version": "3.7.12"
  },
  "papermill": {
   "default_parameters": {},
   "duration": 53.669215,
   "end_time": "2022-03-30T01:36:53.094824",
   "environment_variables": {},
   "exception": null,
   "input_path": "__notebook__.ipynb",
   "output_path": "__notebook__.ipynb",
   "parameters": {},
   "start_time": "2022-03-30T01:35:59.425609",
   "version": "2.3.3"
  }
 },
 "nbformat": 4,
 "nbformat_minor": 5
}
