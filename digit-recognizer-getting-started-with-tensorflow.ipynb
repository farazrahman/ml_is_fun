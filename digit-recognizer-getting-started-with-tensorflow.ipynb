{
 "cells": [
  {
   "cell_type": "code",
   "execution_count": 1,
   "id": "de5c3482",
   "metadata": {
    "_cell_guid": "b1076dfc-b9ad-4769-8c92-a6c4dae69d19",
    "_uuid": "8f2839f25d086af736a60e9eeb907d3b93b6e0e5",
    "execution": {
     "iopub.execute_input": "2022-03-29T06:09:52.693256Z",
     "iopub.status.busy": "2022-03-29T06:09:52.691985Z",
     "iopub.status.idle": "2022-03-29T06:09:59.210614Z",
     "shell.execute_reply": "2022-03-29T06:09:59.211199Z",
     "shell.execute_reply.started": "2022-03-29T05:59:49.246749Z"
    },
    "papermill": {
     "duration": 6.534301,
     "end_time": "2022-03-29T06:09:59.211507",
     "exception": false,
     "start_time": "2022-03-29T06:09:52.677206",
     "status": "completed"
    },
    "tags": []
   },
   "outputs": [
    {
     "name": "stdout",
     "output_type": "stream",
     "text": [
      "/kaggle/input/digit-recognizer/sample_submission.csv\n",
      "/kaggle/input/digit-recognizer/train.csv\n",
      "/kaggle/input/digit-recognizer/test.csv\n"
     ]
    }
   ],
   "source": [
    "import numpy as np \n",
    "import pandas as pd \n",
    "import tensorflow as tf\n",
    "from tensorflow import keras\n",
    "import seaborn as sns\n",
    "import matplotlib.pyplot as plt\n",
    "from sklearn.model_selection import train_test_split\n",
    "\n",
    "import os\n",
    "for dirname, _, filenames in os.walk('/kaggle/input'):\n",
    "    for filename in filenames:\n",
    "        print(os.path.join(dirname, filename))"
   ]
  },
  {
   "cell_type": "code",
   "execution_count": 2,
   "id": "fc53a885",
   "metadata": {
    "execution": {
     "iopub.execute_input": "2022-03-29T06:09:59.241663Z",
     "iopub.status.busy": "2022-03-29T06:09:59.240786Z",
     "iopub.status.idle": "2022-03-29T06:10:02.932220Z",
     "shell.execute_reply": "2022-03-29T06:10:02.932752Z",
     "shell.execute_reply.started": "2022-03-29T05:59:49.269697Z"
    },
    "papermill": {
     "duration": 3.708759,
     "end_time": "2022-03-29T06:10:02.932954",
     "exception": false,
     "start_time": "2022-03-29T06:09:59.224195",
     "status": "completed"
    },
    "tags": []
   },
   "outputs": [
    {
     "data": {
      "text/plain": [
       "(42000, 785)"
      ]
     },
     "execution_count": 2,
     "metadata": {},
     "output_type": "execute_result"
    }
   ],
   "source": [
    "train = pd.read_csv('/kaggle/input/digit-recognizer/train.csv')\n",
    "train.shape"
   ]
  },
  {
   "cell_type": "code",
   "execution_count": 3,
   "id": "af7109d2",
   "metadata": {
    "execution": {
     "iopub.execute_input": "2022-03-29T06:10:02.960349Z",
     "iopub.status.busy": "2022-03-29T06:10:02.958894Z",
     "iopub.status.idle": "2022-03-29T06:10:03.021015Z",
     "shell.execute_reply": "2022-03-29T06:10:03.020492Z",
     "shell.execute_reply.started": "2022-03-29T05:59:51.384991Z"
    },
    "papermill": {
     "duration": 0.076762,
     "end_time": "2022-03-29T06:10:03.021154",
     "exception": false,
     "start_time": "2022-03-29T06:10:02.944392",
     "status": "completed"
    },
    "tags": []
   },
   "outputs": [
    {
     "name": "stdout",
     "output_type": "stream",
     "text": [
      "<class 'pandas.core.frame.DataFrame'>\n",
      "RangeIndex: 42000 entries, 0 to 41999\n",
      "Columns: 785 entries, label to pixel783\n",
      "dtypes: int64(785)\n",
      "memory usage: 251.5 MB\n"
     ]
    }
   ],
   "source": [
    "train.info()"
   ]
  },
  {
   "cell_type": "code",
   "execution_count": 4,
   "id": "529be568",
   "metadata": {
    "execution": {
     "iopub.execute_input": "2022-03-29T06:10:03.049716Z",
     "iopub.status.busy": "2022-03-29T06:10:03.048890Z",
     "iopub.status.idle": "2022-03-29T06:10:05.139886Z",
     "shell.execute_reply": "2022-03-29T06:10:05.139256Z",
     "shell.execute_reply.started": "2022-03-29T05:59:51.428324Z"
    },
    "papermill": {
     "duration": 2.107331,
     "end_time": "2022-03-29T06:10:05.140058",
     "exception": false,
     "start_time": "2022-03-29T06:10:03.032727",
     "status": "completed"
    },
    "tags": []
   },
   "outputs": [
    {
     "data": {
      "text/plain": [
       "(28000, 784)"
      ]
     },
     "execution_count": 4,
     "metadata": {},
     "output_type": "execute_result"
    }
   ],
   "source": [
    "test = pd.read_csv('/kaggle/input/digit-recognizer/test.csv')\n",
    "test.shape"
   ]
  },
  {
   "cell_type": "code",
   "execution_count": 5,
   "id": "5e7e6200",
   "metadata": {
    "execution": {
     "iopub.execute_input": "2022-03-29T06:10:05.275279Z",
     "iopub.status.busy": "2022-03-29T06:10:05.274237Z",
     "iopub.status.idle": "2022-03-29T06:10:05.276969Z",
     "shell.execute_reply": "2022-03-29T06:10:05.276350Z",
     "shell.execute_reply.started": "2022-03-29T05:59:52.787235Z"
    },
    "papermill": {
     "duration": 0.125124,
     "end_time": "2022-03-29T06:10:05.277118",
     "exception": false,
     "start_time": "2022-03-29T06:10:05.151994",
     "status": "completed"
    },
    "tags": []
   },
   "outputs": [],
   "source": [
    "X = train.drop(['label'], axis = 1)\n",
    "y = train['label']"
   ]
  },
  {
   "cell_type": "code",
   "execution_count": 6,
   "id": "c74b4726",
   "metadata": {
    "execution": {
     "iopub.execute_input": "2022-03-29T06:10:05.307385Z",
     "iopub.status.busy": "2022-03-29T06:10:05.306265Z",
     "iopub.status.idle": "2022-03-29T06:10:05.502397Z",
     "shell.execute_reply": "2022-03-29T06:10:05.501812Z",
     "shell.execute_reply.started": "2022-03-29T05:59:52.891408Z"
    },
    "papermill": {
     "duration": 0.213233,
     "end_time": "2022-03-29T06:10:05.502540",
     "exception": false,
     "start_time": "2022-03-29T06:10:05.289307",
     "status": "completed"
    },
    "tags": []
   },
   "outputs": [],
   "source": [
    "# scale the images betwee 0 and 1 by dividing the pixels by 255\n",
    "\n",
    "X = X.astype('float32') / 255\n",
    "test = test.astype('float32') / 255"
   ]
  },
  {
   "cell_type": "code",
   "execution_count": 7,
   "id": "c5ad089e",
   "metadata": {
    "execution": {
     "iopub.execute_input": "2022-03-29T06:10:05.534864Z",
     "iopub.status.busy": "2022-03-29T06:10:05.533651Z",
     "iopub.status.idle": "2022-03-29T06:10:05.663144Z",
     "shell.execute_reply": "2022-03-29T06:10:05.662570Z",
     "shell.execute_reply.started": "2022-03-29T05:59:53.078995Z"
    },
    "papermill": {
     "duration": 0.148664,
     "end_time": "2022-03-29T06:10:05.663311",
     "exception": false,
     "start_time": "2022-03-29T06:10:05.514647",
     "status": "completed"
    },
    "tags": []
   },
   "outputs": [],
   "source": [
    "# split the train data into train and validation set\n",
    "\n",
    "X_train, X_validation, y_train, y_validation = train_test_split(X, y, test_size = 0.20, random_state = 42)"
   ]
  },
  {
   "cell_type": "code",
   "execution_count": 8,
   "id": "7ade5c45",
   "metadata": {
    "execution": {
     "iopub.execute_input": "2022-03-29T06:10:05.695266Z",
     "iopub.status.busy": "2022-03-29T06:10:05.694328Z",
     "iopub.status.idle": "2022-03-29T06:10:15.941084Z",
     "shell.execute_reply": "2022-03-29T06:10:15.940484Z",
     "shell.execute_reply.started": "2022-03-29T05:59:53.219887Z"
    },
    "papermill": {
     "duration": 10.265186,
     "end_time": "2022-03-29T06:10:15.941244",
     "exception": false,
     "start_time": "2022-03-29T06:10:05.676058",
     "status": "completed"
    },
    "tags": []
   },
   "outputs": [
    {
     "name": "stderr",
     "output_type": "stream",
     "text": [
      "2022-03-29 06:10:06.832872: I tensorflow/core/common_runtime/process_util.cc:146] Creating new thread pool with default inter op setting: 2. Tune using inter_op_parallelism_threads for best performance.\n",
      "2022-03-29 06:10:07.148743: I tensorflow/compiler/mlir/mlir_graph_optimization_pass.cc:185] None of the MLIR Optimization Passes are enabled (registered 2)\n"
     ]
    },
    {
     "name": "stdout",
     "output_type": "stream",
     "text": [
      "Epoch 1/5\n",
      "1050/1050 [==============================] - 2s 2ms/step - loss: 0.5646 - accuracy: 0.8586\n",
      "Epoch 2/5\n",
      "1050/1050 [==============================] - 2s 2ms/step - loss: 0.3259 - accuracy: 0.9103\n",
      "Epoch 3/5\n",
      "1050/1050 [==============================] - 2s 2ms/step - loss: 0.2935 - accuracy: 0.9179\n",
      "Epoch 4/5\n",
      "1050/1050 [==============================] - 2s 2ms/step - loss: 0.2775 - accuracy: 0.9217\n",
      "Epoch 5/5\n",
      "1050/1050 [==============================] - 2s 2ms/step - loss: 0.2680 - accuracy: 0.9238\n"
     ]
    },
    {
     "data": {
      "text/plain": [
       "<keras.callbacks.History at 0x7fba15f1ef10>"
      ]
     },
     "execution_count": 8,
     "metadata": {},
     "output_type": "execute_result"
    }
   ],
   "source": [
    "# make a generic single layer NN\n",
    "\n",
    "model = keras.Sequential([\n",
    "    keras.layers.Dense(10, input_shape = (784,), activation = 'sigmoid')])\n",
    "\n",
    "# compile the model\n",
    "\n",
    "model.compile(optimizer = 'adam', loss = 'sparse_categorical_crossentropy', metrics = ['accuracy'])\n",
    "\n",
    "# fit the model\n",
    "model.fit(X_train, y_train, epochs= 5)"
   ]
  },
  {
   "cell_type": "code",
   "execution_count": 9,
   "id": "a5658d04",
   "metadata": {
    "execution": {
     "iopub.execute_input": "2022-03-29T06:10:16.096673Z",
     "iopub.status.busy": "2022-03-29T06:10:16.096051Z",
     "iopub.status.idle": "2022-03-29T06:10:28.386782Z",
     "shell.execute_reply": "2022-03-29T06:10:28.387538Z",
     "shell.execute_reply.started": "2022-03-29T06:06:51.438752Z"
    },
    "papermill": {
     "duration": 12.369671,
     "end_time": "2022-03-29T06:10:28.387722",
     "exception": false,
     "start_time": "2022-03-29T06:10:16.018051",
     "status": "completed"
    },
    "tags": []
   },
   "outputs": [
    {
     "name": "stdout",
     "output_type": "stream",
     "text": [
      "Epoch 1/5\n",
      "1050/1050 [==============================] - 3s 3ms/step - loss: 0.2894 - accuracy: 0.9165\n",
      "Epoch 2/5\n",
      "1050/1050 [==============================] - 2s 2ms/step - loss: 0.1256 - accuracy: 0.9637\n",
      "Epoch 3/5\n",
      "1050/1050 [==============================] - 2s 2ms/step - loss: 0.0841 - accuracy: 0.9745\n",
      "Epoch 4/5\n",
      "1050/1050 [==============================] - 2s 2ms/step - loss: 0.0616 - accuracy: 0.9806\n",
      "Epoch 5/5\n",
      "1050/1050 [==============================] - 2s 2ms/step - loss: 0.0445 - accuracy: 0.9869\n"
     ]
    },
    {
     "data": {
      "text/plain": [
       "<keras.callbacks.History at 0x7fb9fc287450>"
      ]
     },
     "execution_count": 9,
     "metadata": {},
     "output_type": "execute_result"
    }
   ],
   "source": [
    "# add hidden layers in the NN\n",
    "\n",
    "model = keras.Sequential([\n",
    "    keras.layers.Dense(200, input_shape = (784,), activation = 'relu'),\n",
    "    keras.layers.Dense(10, activation = 'sigmoid')])\n",
    "\n",
    "# compile the model\n",
    "\n",
    "model.compile(optimizer = 'adam', loss = 'sparse_categorical_crossentropy', metrics = ['accuracy'])\n",
    "\n",
    "# fit the model\n",
    "model.fit(X_train, y_train, epochs= 5)"
   ]
  }
 ],
 "metadata": {
  "kernelspec": {
   "display_name": "Python 3",
   "language": "python",
   "name": "python3"
  },
  "language_info": {
   "codemirror_mode": {
    "name": "ipython",
    "version": 3
   },
   "file_extension": ".py",
   "mimetype": "text/x-python",
   "name": "python",
   "nbconvert_exporter": "python",
   "pygments_lexer": "ipython3",
   "version": "3.7.12"
  },
  "papermill": {
   "default_parameters": {},
   "duration": 48.65896,
   "end_time": "2022-03-29T06:10:31.376670",
   "environment_variables": {},
   "exception": null,
   "input_path": "__notebook__.ipynb",
   "output_path": "__notebook__.ipynb",
   "parameters": {},
   "start_time": "2022-03-29T06:09:42.717710",
   "version": "2.3.3"
  }
 },
 "nbformat": 4,
 "nbformat_minor": 5
}
