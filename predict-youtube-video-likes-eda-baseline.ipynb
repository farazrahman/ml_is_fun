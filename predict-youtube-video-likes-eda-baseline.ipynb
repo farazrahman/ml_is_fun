{
 "cells": [
  {
   "cell_type": "markdown",
   "id": "ee1585d7",
   "metadata": {
    "papermill": {
     "duration": 0.037214,
     "end_time": "2022-02-01T18:32:59.085765",
     "exception": false,
     "start_time": "2022-02-01T18:32:59.048551",
     "status": "completed"
    },
    "tags": []
   },
   "source": [
    "### **About the analysis 📊:**\n",
    "\n",
    "As mentioned in the competition description:\n",
    "\n",
    "This is the first Pog Champs challenge, where members of the kaggle and twitch community combine to create awesome models and share amazing notebooks!!\n",
    "\n",
    "The task of this competition is to predict the like to view_count ratio of youtube videos based on the title, description, thumbnail and additional metadata. \n",
    "\n",
    "Work in Progress- This is a super late EDA as the competition is nearing its end and here I am first trying to know the data better and intend to build some interesting ML models in the future and gain tons of knowledge on the go. "
   ]
  },
  {
   "cell_type": "code",
   "execution_count": 1,
   "id": "b8fd2ff1",
   "metadata": {
    "execution": {
     "iopub.execute_input": "2022-02-01T18:32:59.163376Z",
     "iopub.status.busy": "2022-02-01T18:32:59.162195Z",
     "iopub.status.idle": "2022-02-01T18:33:01.801492Z",
     "shell.execute_reply": "2022-02-01T18:33:01.802083Z",
     "shell.execute_reply.started": "2022-02-01T18:29:24.721080Z"
    },
    "papermill": {
     "duration": 2.679658,
     "end_time": "2022-02-01T18:33:01.802408",
     "exception": false,
     "start_time": "2022-02-01T18:32:59.122750",
     "status": "completed"
    },
    "tags": []
   },
   "outputs": [
    {
     "data": {
      "text/html": [
       "<style type='text/css'>\n",
       ".datatable table.frame { margin-bottom: 0; }\n",
       ".datatable table.frame thead { border-bottom: none; }\n",
       ".datatable table.frame tr.coltypes td {  color: #FFFFFF;  line-height: 6px;  padding: 0 0.5em;}\n",
       ".datatable .bool    { background: #DDDD99; }\n",
       ".datatable .object  { background: #565656; }\n",
       ".datatable .int     { background: #5D9E5D; }\n",
       ".datatable .float   { background: #4040CC; }\n",
       ".datatable .str     { background: #CC4040; }\n",
       ".datatable .time    { background: #40CC40; }\n",
       ".datatable .row_index {  background: var(--jp-border-color3);  border-right: 1px solid var(--jp-border-color0);  color: var(--jp-ui-font-color3);  font-size: 9px;}\n",
       ".datatable .frame tbody td { text-align: left; }\n",
       ".datatable .frame tr.coltypes .row_index {  background: var(--jp-border-color0);}\n",
       ".datatable th:nth-child(2) { padding-left: 12px; }\n",
       ".datatable .hellipsis {  color: var(--jp-cell-editor-border-color);}\n",
       ".datatable .vellipsis {  background: var(--jp-layout-color0);  color: var(--jp-cell-editor-border-color);}\n",
       ".datatable .na {  color: var(--jp-cell-editor-border-color);  font-size: 80%;}\n",
       ".datatable .sp {  opacity: 0.25;}\n",
       ".datatable .footer { font-size: 9px; }\n",
       ".datatable .frame_dimensions {  background: var(--jp-border-color3);  border-top: 1px solid var(--jp-border-color0);  color: var(--jp-ui-font-color3);  display: inline-block;  opacity: 0.6;  padding: 1px 10px 1px 5px;}\n",
       "</style>\n"
      ],
      "text/plain": [
       "<IPython.core.display.HTML object>"
      ]
     },
     "metadata": {},
     "output_type": "display_data"
    }
   ],
   "source": [
    "import numpy as np \n",
    "import pandas as pd \n",
    "import os\n",
    "import matplotlib.pyplot as plt\n",
    "import seaborn as sns\n",
    "import datetime\n",
    "from datetime import datetime\n",
    "\n",
    "from sklearn import preprocessing\n",
    "from sklearn.preprocessing import LabelEncoder\n",
    "from sklearn.model_selection import train_test_split\n",
    "from sklearn.datasets import make_regression\n",
    "from sklearn.metrics import mean_absolute_error\n",
    "from sklearn.ensemble import RandomForestRegressor\n",
    "from sklearn.ensemble import VotingRegressor\n",
    "from lightgbm import LGBMRegressor\n",
    "import xgboost as xgb\n",
    "\n",
    "import warnings\n",
    "warnings.filterwarnings(\"ignore\")\n",
    "pd.set_option('display.float_format', lambda x: '%.3f' % x)"
   ]
  },
  {
   "cell_type": "code",
   "execution_count": 2,
   "id": "148cf768",
   "metadata": {
    "execution": {
     "iopub.execute_input": "2022-02-01T18:33:01.880897Z",
     "iopub.status.busy": "2022-02-01T18:33:01.879803Z",
     "iopub.status.idle": "2022-02-01T18:33:04.656788Z",
     "shell.execute_reply": "2022-02-01T18:33:04.656180Z",
     "shell.execute_reply.started": "2022-02-01T18:29:27.281386Z"
    },
    "papermill": {
     "duration": 2.817935,
     "end_time": "2022-02-01T18:33:04.656948",
     "exception": false,
     "start_time": "2022-02-01T18:33:01.839013",
     "status": "completed"
    },
    "tags": []
   },
   "outputs": [],
   "source": [
    "train_data = pd.read_parquet('../input/kaggle-pog-series-s01e01/train.parquet')\n",
    "test_data = pd.read_parquet('../input/kaggle-pog-series-s01e01/test.parquet')\n",
    "sample_submission = pd.read_csv('../input/kaggle-pog-series-s01e01/sample_submission.csv')"
   ]
  },
  {
   "cell_type": "code",
   "execution_count": 3,
   "id": "b7dc15f7",
   "metadata": {
    "execution": {
     "iopub.execute_input": "2022-02-01T18:33:04.737096Z",
     "iopub.status.busy": "2022-02-01T18:33:04.736042Z",
     "iopub.status.idle": "2022-02-01T18:33:04.759007Z",
     "shell.execute_reply": "2022-02-01T18:33:04.759504Z",
     "shell.execute_reply.started": "2022-02-01T18:29:30.132874Z"
    },
    "papermill": {
     "duration": 0.065756,
     "end_time": "2022-02-01T18:33:04.759669",
     "exception": false,
     "start_time": "2022-02-01T18:33:04.693913",
     "status": "completed"
    },
    "tags": []
   },
   "outputs": [
    {
     "data": {
      "text/html": [
       "<div>\n",
       "<style scoped>\n",
       "    .dataframe tbody tr th:only-of-type {\n",
       "        vertical-align: middle;\n",
       "    }\n",
       "\n",
       "    .dataframe tbody tr th {\n",
       "        vertical-align: top;\n",
       "    }\n",
       "\n",
       "    .dataframe thead th {\n",
       "        text-align: right;\n",
       "    }\n",
       "</style>\n",
       "<table border=\"1\" class=\"dataframe\">\n",
       "  <thead>\n",
       "    <tr style=\"text-align: right;\">\n",
       "      <th></th>\n",
       "      <th>video_id</th>\n",
       "      <th>title</th>\n",
       "      <th>publishedAt</th>\n",
       "      <th>channelId</th>\n",
       "      <th>channelTitle</th>\n",
       "      <th>categoryId</th>\n",
       "      <th>trending_date</th>\n",
       "      <th>tags</th>\n",
       "      <th>view_count</th>\n",
       "      <th>likes</th>\n",
       "      <th>dislikes</th>\n",
       "      <th>comment_count</th>\n",
       "      <th>thumbnail_link</th>\n",
       "      <th>comments_disabled</th>\n",
       "      <th>ratings_disabled</th>\n",
       "      <th>description</th>\n",
       "      <th>id</th>\n",
       "      <th>duration_seconds</th>\n",
       "      <th>has_thumbnail</th>\n",
       "      <th>target</th>\n",
       "    </tr>\n",
       "  </thead>\n",
       "  <tbody>\n",
       "    <tr>\n",
       "      <th>0</th>\n",
       "      <td>3C66w5Z0ixs</td>\n",
       "      <td>I ASKED HER TO BE MY GIRLFRIEND...</td>\n",
       "      <td>2020-08-11 19:20:14+00:00</td>\n",
       "      <td>UCvtRTOMP2TqYqu51xNrqAzg</td>\n",
       "      <td>Brawadis</td>\n",
       "      <td>22</td>\n",
       "      <td>2020-08-12</td>\n",
       "      <td>brawadis|prank|basketball|skits|ghost|funny vi...</td>\n",
       "      <td>1514614</td>\n",
       "      <td>156908</td>\n",
       "      <td>5855</td>\n",
       "      <td>35313</td>\n",
       "      <td>https://i.ytimg.com/vi/3C66w5Z0ixs/default.jpg</td>\n",
       "      <td>False</td>\n",
       "      <td>False</td>\n",
       "      <td>SUBSCRIBE to BRAWADIS ▶ http://bit.ly/Subscrib...</td>\n",
       "      <td>3C66w5Z0ixs_2020-08-12</td>\n",
       "      <td>NaN</td>\n",
       "      <td>True</td>\n",
       "      <td>0.104</td>\n",
       "    </tr>\n",
       "    <tr>\n",
       "      <th>1</th>\n",
       "      <td>M9Pmf9AB4Mo</td>\n",
       "      <td>Apex Legends | Stories from the Outlands – “Th...</td>\n",
       "      <td>2020-08-11 17:00:10+00:00</td>\n",
       "      <td>UC0ZV6M2THA81QT9hrVWJG3A</td>\n",
       "      <td>Apex Legends</td>\n",
       "      <td>20</td>\n",
       "      <td>2020-08-12</td>\n",
       "      <td>Apex Legends|Apex Legends characters|new Apex ...</td>\n",
       "      <td>2381688</td>\n",
       "      <td>146739</td>\n",
       "      <td>2794</td>\n",
       "      <td>16549</td>\n",
       "      <td>https://i.ytimg.com/vi/M9Pmf9AB4Mo/default.jpg</td>\n",
       "      <td>False</td>\n",
       "      <td>False</td>\n",
       "      <td>While running her own modding shop, Ramya Pare...</td>\n",
       "      <td>M9Pmf9AB4Mo_2020-08-12</td>\n",
       "      <td>NaN</td>\n",
       "      <td>True</td>\n",
       "      <td>0.062</td>\n",
       "    </tr>\n",
       "    <tr>\n",
       "      <th>2</th>\n",
       "      <td>J78aPJ3VyNs</td>\n",
       "      <td>I left youtube for a month and THIS is what ha...</td>\n",
       "      <td>2020-08-11 16:34:06+00:00</td>\n",
       "      <td>UCYzPXprvl5Y-Sf0g4vX-m6g</td>\n",
       "      <td>jacksepticeye</td>\n",
       "      <td>24</td>\n",
       "      <td>2020-08-12</td>\n",
       "      <td>jacksepticeye|funny|funny meme|memes|jacksepti...</td>\n",
       "      <td>2038853</td>\n",
       "      <td>353787</td>\n",
       "      <td>2628</td>\n",
       "      <td>40221</td>\n",
       "      <td>https://i.ytimg.com/vi/J78aPJ3VyNs/default.jpg</td>\n",
       "      <td>False</td>\n",
       "      <td>False</td>\n",
       "      <td>I left youtube for a month and this is what ha...</td>\n",
       "      <td>J78aPJ3VyNs_2020-08-12</td>\n",
       "      <td>NaN</td>\n",
       "      <td>True</td>\n",
       "      <td>0.174</td>\n",
       "    </tr>\n",
       "    <tr>\n",
       "      <th>3</th>\n",
       "      <td>kXLn3HkpjaA</td>\n",
       "      <td>XXL 2020 Freshman Class Revealed - Official An...</td>\n",
       "      <td>2020-08-11 16:38:55+00:00</td>\n",
       "      <td>UCbg_UMjlHJg_19SZckaKajg</td>\n",
       "      <td>XXL</td>\n",
       "      <td>10</td>\n",
       "      <td>2020-08-12</td>\n",
       "      <td>xxl freshman|xxl freshmen|2020 xxl freshman|20...</td>\n",
       "      <td>496771</td>\n",
       "      <td>23251</td>\n",
       "      <td>1856</td>\n",
       "      <td>7647</td>\n",
       "      <td>https://i.ytimg.com/vi/kXLn3HkpjaA/default.jpg</td>\n",
       "      <td>False</td>\n",
       "      <td>False</td>\n",
       "      <td>Subscribe to XXL → http://bit.ly/subscribe-xxl...</td>\n",
       "      <td>kXLn3HkpjaA_2020-08-12</td>\n",
       "      <td>NaN</td>\n",
       "      <td>True</td>\n",
       "      <td>0.047</td>\n",
       "    </tr>\n",
       "    <tr>\n",
       "      <th>4</th>\n",
       "      <td>VIUo6yapDbc</td>\n",
       "      <td>Ultimate DIY Home Movie Theater for The LaBran...</td>\n",
       "      <td>2020-08-11 15:10:05+00:00</td>\n",
       "      <td>UCDVPcEbVLQgLZX0Rt6jo34A</td>\n",
       "      <td>Mr. Kate</td>\n",
       "      <td>26</td>\n",
       "      <td>2020-08-12</td>\n",
       "      <td>The LaBrant Family|DIY|Interior Design|Makeove...</td>\n",
       "      <td>1123889</td>\n",
       "      <td>45802</td>\n",
       "      <td>964</td>\n",
       "      <td>2196</td>\n",
       "      <td>https://i.ytimg.com/vi/VIUo6yapDbc/default.jpg</td>\n",
       "      <td>False</td>\n",
       "      <td>False</td>\n",
       "      <td>Transforming The LaBrant Family's empty white ...</td>\n",
       "      <td>VIUo6yapDbc_2020-08-12</td>\n",
       "      <td>NaN</td>\n",
       "      <td>True</td>\n",
       "      <td>0.041</td>\n",
       "    </tr>\n",
       "  </tbody>\n",
       "</table>\n",
       "</div>"
      ],
      "text/plain": [
       "      video_id                                              title  \\\n",
       "0  3C66w5Z0ixs                 I ASKED HER TO BE MY GIRLFRIEND...   \n",
       "1  M9Pmf9AB4Mo  Apex Legends | Stories from the Outlands – “Th...   \n",
       "2  J78aPJ3VyNs  I left youtube for a month and THIS is what ha...   \n",
       "3  kXLn3HkpjaA  XXL 2020 Freshman Class Revealed - Official An...   \n",
       "4  VIUo6yapDbc  Ultimate DIY Home Movie Theater for The LaBran...   \n",
       "\n",
       "                publishedAt                 channelId   channelTitle  \\\n",
       "0 2020-08-11 19:20:14+00:00  UCvtRTOMP2TqYqu51xNrqAzg       Brawadis   \n",
       "1 2020-08-11 17:00:10+00:00  UC0ZV6M2THA81QT9hrVWJG3A   Apex Legends   \n",
       "2 2020-08-11 16:34:06+00:00  UCYzPXprvl5Y-Sf0g4vX-m6g  jacksepticeye   \n",
       "3 2020-08-11 16:38:55+00:00  UCbg_UMjlHJg_19SZckaKajg            XXL   \n",
       "4 2020-08-11 15:10:05+00:00  UCDVPcEbVLQgLZX0Rt6jo34A       Mr. Kate   \n",
       "\n",
       "   categoryId trending_date  \\\n",
       "0          22    2020-08-12   \n",
       "1          20    2020-08-12   \n",
       "2          24    2020-08-12   \n",
       "3          10    2020-08-12   \n",
       "4          26    2020-08-12   \n",
       "\n",
       "                                                tags  view_count   likes  \\\n",
       "0  brawadis|prank|basketball|skits|ghost|funny vi...     1514614  156908   \n",
       "1  Apex Legends|Apex Legends characters|new Apex ...     2381688  146739   \n",
       "2  jacksepticeye|funny|funny meme|memes|jacksepti...     2038853  353787   \n",
       "3  xxl freshman|xxl freshmen|2020 xxl freshman|20...      496771   23251   \n",
       "4  The LaBrant Family|DIY|Interior Design|Makeove...     1123889   45802   \n",
       "\n",
       "   dislikes  comment_count                                  thumbnail_link  \\\n",
       "0      5855          35313  https://i.ytimg.com/vi/3C66w5Z0ixs/default.jpg   \n",
       "1      2794          16549  https://i.ytimg.com/vi/M9Pmf9AB4Mo/default.jpg   \n",
       "2      2628          40221  https://i.ytimg.com/vi/J78aPJ3VyNs/default.jpg   \n",
       "3      1856           7647  https://i.ytimg.com/vi/kXLn3HkpjaA/default.jpg   \n",
       "4       964           2196  https://i.ytimg.com/vi/VIUo6yapDbc/default.jpg   \n",
       "\n",
       "   comments_disabled  ratings_disabled  \\\n",
       "0              False             False   \n",
       "1              False             False   \n",
       "2              False             False   \n",
       "3              False             False   \n",
       "4              False             False   \n",
       "\n",
       "                                         description                      id  \\\n",
       "0  SUBSCRIBE to BRAWADIS ▶ http://bit.ly/Subscrib...  3C66w5Z0ixs_2020-08-12   \n",
       "1  While running her own modding shop, Ramya Pare...  M9Pmf9AB4Mo_2020-08-12   \n",
       "2  I left youtube for a month and this is what ha...  J78aPJ3VyNs_2020-08-12   \n",
       "3  Subscribe to XXL → http://bit.ly/subscribe-xxl...  kXLn3HkpjaA_2020-08-12   \n",
       "4  Transforming The LaBrant Family's empty white ...  VIUo6yapDbc_2020-08-12   \n",
       "\n",
       "   duration_seconds  has_thumbnail  target  \n",
       "0               NaN           True   0.104  \n",
       "1               NaN           True   0.062  \n",
       "2               NaN           True   0.174  \n",
       "3               NaN           True   0.047  \n",
       "4               NaN           True   0.041  "
      ]
     },
     "execution_count": 3,
     "metadata": {},
     "output_type": "execute_result"
    }
   ],
   "source": [
    "train_data.head()"
   ]
  },
  {
   "cell_type": "code",
   "execution_count": 4,
   "id": "b225b734",
   "metadata": {
    "execution": {
     "iopub.execute_input": "2022-02-01T18:33:04.836194Z",
     "iopub.status.busy": "2022-02-01T18:33:04.835567Z",
     "iopub.status.idle": "2022-02-01T18:33:04.945982Z",
     "shell.execute_reply": "2022-02-01T18:33:04.945459Z",
     "shell.execute_reply.started": "2022-02-01T18:29:30.162867Z"
    },
    "papermill": {
     "duration": 0.14969,
     "end_time": "2022-02-01T18:33:04.946129",
     "exception": false,
     "start_time": "2022-02-01T18:33:04.796439",
     "status": "completed"
    },
    "tags": []
   },
   "outputs": [
    {
     "name": "stdout",
     "output_type": "stream",
     "text": [
      "<class 'pandas.core.frame.DataFrame'>\n",
      "RangeIndex: 92275 entries, 0 to 92274\n",
      "Data columns (total 20 columns):\n",
      " #   Column             Non-Null Count  Dtype              \n",
      "---  ------             --------------  -----              \n",
      " 0   video_id           92275 non-null  object             \n",
      " 1   title              92275 non-null  object             \n",
      " 2   publishedAt        92275 non-null  datetime64[ns, UTC]\n",
      " 3   channelId          92275 non-null  object             \n",
      " 4   channelTitle       92275 non-null  object             \n",
      " 5   categoryId         92275 non-null  int64              \n",
      " 6   trending_date      92275 non-null  object             \n",
      " 7   tags               92275 non-null  object             \n",
      " 8   view_count         92275 non-null  int64              \n",
      " 9   likes              92275 non-null  int64              \n",
      " 10  dislikes           92275 non-null  int64              \n",
      " 11  comment_count      92275 non-null  int64              \n",
      " 12  thumbnail_link     92275 non-null  object             \n",
      " 13  comments_disabled  92275 non-null  bool               \n",
      " 14  ratings_disabled   92275 non-null  bool               \n",
      " 15  description        90799 non-null  object             \n",
      " 16  id                 92275 non-null  object             \n",
      " 17  duration_seconds   90099 non-null  float64            \n",
      " 18  has_thumbnail      92275 non-null  bool               \n",
      " 19  target             92275 non-null  float64            \n",
      "dtypes: bool(3), datetime64[ns, UTC](1), float64(2), int64(5), object(9)\n",
      "memory usage: 12.2+ MB\n"
     ]
    }
   ],
   "source": [
    "train_data.info()"
   ]
  },
  {
   "cell_type": "code",
   "execution_count": 5,
   "id": "4749beb4",
   "metadata": {
    "execution": {
     "iopub.execute_input": "2022-02-01T18:33:05.034587Z",
     "iopub.status.busy": "2022-02-01T18:33:05.033583Z",
     "iopub.status.idle": "2022-02-01T18:33:05.045561Z",
     "shell.execute_reply": "2022-02-01T18:33:05.046195Z",
     "shell.execute_reply.started": "2022-02-01T18:29:30.277013Z"
    },
    "papermill": {
     "duration": 0.062758,
     "end_time": "2022-02-01T18:33:05.046380",
     "exception": false,
     "start_time": "2022-02-01T18:33:04.983622",
     "status": "completed"
    },
    "tags": []
   },
   "outputs": [
    {
     "name": "stdout",
     "output_type": "stream",
     "text": [
      "<class 'pandas.core.frame.DataFrame'>\n",
      "RangeIndex: 5800 entries, 0 to 5799\n",
      "Data columns (total 16 columns):\n",
      " #   Column             Non-Null Count  Dtype              \n",
      "---  ------             --------------  -----              \n",
      " 0   video_id           5800 non-null   object             \n",
      " 1   title              5800 non-null   object             \n",
      " 2   publishedAt        5800 non-null   datetime64[ns, UTC]\n",
      " 3   channelId          5800 non-null   object             \n",
      " 4   channelTitle       5800 non-null   object             \n",
      " 5   categoryId         5800 non-null   int64              \n",
      " 6   trending_date      5800 non-null   object             \n",
      " 7   tags               5800 non-null   object             \n",
      " 8   thumbnail_link     5800 non-null   object             \n",
      " 9   comments_disabled  5800 non-null   bool               \n",
      " 10  ratings_disabled   5800 non-null   bool               \n",
      " 11  description        5391 non-null   object             \n",
      " 12  id                 5800 non-null   object             \n",
      " 13  duration_seconds   5780 non-null   float64            \n",
      " 14  has_thumbnail      5800 non-null   bool               \n",
      " 15  isTest             5800 non-null   bool               \n",
      "dtypes: bool(4), datetime64[ns, UTC](1), float64(1), int64(1), object(9)\n",
      "memory usage: 566.5+ KB\n"
     ]
    }
   ],
   "source": [
    "test_data.info()"
   ]
  },
  {
   "cell_type": "markdown",
   "id": "a2ca229f",
   "metadata": {
    "papermill": {
     "duration": 0.037442,
     "end_time": "2022-02-01T18:33:05.121078",
     "exception": false,
     "start_time": "2022-02-01T18:33:05.083636",
     "status": "completed"
    },
    "tags": []
   },
   "source": [
    "### Exploratory Analysis:"
   ]
  },
  {
   "cell_type": "code",
   "execution_count": 6,
   "id": "00887671",
   "metadata": {
    "execution": {
     "iopub.execute_input": "2022-02-01T18:33:05.215698Z",
     "iopub.status.busy": "2022-02-01T18:33:05.203759Z",
     "iopub.status.idle": "2022-02-01T18:33:05.410539Z",
     "shell.execute_reply": "2022-02-01T18:33:05.411057Z",
     "shell.execute_reply.started": "2022-02-01T18:29:30.299935Z"
    },
    "papermill": {
     "duration": 0.251686,
     "end_time": "2022-02-01T18:33:05.411257",
     "exception": false,
     "start_time": "2022-02-01T18:33:05.159571",
     "status": "completed"
    },
    "tags": []
   },
   "outputs": [
    {
     "name": "stdout",
     "output_type": "stream",
     "text": [
      "video_id-16969\n",
      "title-17321\n",
      "channelId-4563\n",
      "channelTitle-4632\n",
      "trending_date-461\n",
      "tags-12891\n",
      "thumbnail_link-16969\n",
      "description-17703\n",
      "id-92275\n"
     ]
    }
   ],
   "source": [
    "cat_cols = [col for col in train_data.select_dtypes(include = ['object'])]\n",
    "for col in train_data[cat_cols]:\n",
    "    print(f\"{col}-{train_data[col].nunique()}\")"
   ]
  },
  {
   "cell_type": "code",
   "execution_count": 7,
   "id": "3b9335c5",
   "metadata": {
    "execution": {
     "iopub.execute_input": "2022-02-01T18:33:05.498038Z",
     "iopub.status.busy": "2022-02-01T18:33:05.497365Z",
     "iopub.status.idle": "2022-02-01T18:33:05.518468Z",
     "shell.execute_reply": "2022-02-01T18:33:05.517896Z",
     "shell.execute_reply.started": "2022-02-01T18:29:30.515207Z"
    },
    "papermill": {
     "duration": 0.068127,
     "end_time": "2022-02-01T18:33:05.518602",
     "exception": false,
     "start_time": "2022-02-01T18:33:05.450475",
     "status": "completed"
    },
    "tags": []
   },
   "outputs": [
    {
     "name": "stdout",
     "output_type": "stream",
     "text": [
      "video_id-1362\n",
      "title-1405\n",
      "channelId-922\n",
      "channelTitle-925\n",
      "trending_date-29\n",
      "tags-976\n",
      "thumbnail_link-1362\n",
      "description-1276\n",
      "id-5800\n"
     ]
    }
   ],
   "source": [
    "cat_cols = [col for col in test_data.select_dtypes(include = ['object'])]\n",
    "for col in test_data[cat_cols]:\n",
    "    print(f\"{col}-{test_data[col].nunique()}\")"
   ]
  },
  {
   "cell_type": "markdown",
   "id": "8462e584",
   "metadata": {
    "papermill": {
     "duration": 0.038378,
     "end_time": "2022-02-01T18:33:05.598112",
     "exception": false,
     "start_time": "2022-02-01T18:33:05.559734",
     "status": "completed"
    },
    "tags": []
   },
   "source": [
    "#### Check the distriution of numeric columns in train set:\n",
    "\n",
    "The categoryId is a categorical feature instead of a continuous one. "
   ]
  },
  {
   "cell_type": "code",
   "execution_count": 8,
   "id": "6e06311e",
   "metadata": {
    "execution": {
     "iopub.execute_input": "2022-02-01T18:33:05.678742Z",
     "iopub.status.busy": "2022-02-01T18:33:05.678079Z",
     "iopub.status.idle": "2022-02-01T18:33:10.408302Z",
     "shell.execute_reply": "2022-02-01T18:33:10.407682Z",
     "shell.execute_reply.started": "2022-02-01T18:29:30.541766Z"
    },
    "papermill": {
     "duration": 4.771847,
     "end_time": "2022-02-01T18:33:10.408445",
     "exception": false,
     "start_time": "2022-02-01T18:33:05.636598",
     "status": "completed"
    },
    "tags": []
   },
   "outputs": [
    {
     "data": {
      "image/png": "[encoded data removed]",
      "text/plain": [
       "<Figure size 720x288 with 1 Axes>"
      ]
     },
     "metadata": {
      "needs_background": "light"
     },
     "output_type": "display_data"
    },
    {
     "data": {
      "image/png": "[encoded data removed]",
      "text/plain": [
       "<Figure size 720x288 with 1 Axes>"
      ]
     },
     "metadata": {
      "needs_background": "light"
     },
     "output_type": "display_data"
    },
    {
     "data": {
      "image/png": "[encoded data removed]",
      "text/plain": [
       "<Figure size 720x288 with 1 Axes>"
      ]
     },
     "metadata": {
      "needs_background": "light"
     },
     "output_type": "display_data"
    },
    {
     "data": {
      "image/png": "[encoded data removed]",
      "text/plain": [
       "<Figure size 720x288 with 1 Axes>"
      ]
     },
     "metadata": {
      "needs_background": "light"
     },
     "output_type": "display_data"
    },
    {
     "data": {
      "image/png": "[encoded data removed]",
      "text/plain": [
       "<Figure size 720x288 with 1 Axes>"
      ]
     },
     "metadata": {
      "needs_background": "light"
     },
     "output_type": "display_data"
    },
    {
     "data": {
      "image/png": "[encoded data removed]",
      "text/plain": [
       "<Figure size 720x288 with 1 Axes>"
      ]
     },
     "metadata": {
      "needs_background": "light"
     },
     "output_type": "display_data"
    },
    {
     "data": {
      "image/png": "[encoded data removed]",
      "text/plain": [
       "<Figure size 720x288 with 1 Axes>"
      ]
     },
     "metadata": {
      "needs_background": "light"
     },
     "output_type": "display_data"
    }
   ],
   "source": [
    "num_cols = [col for col in train_data.select_dtypes(include = ['int64', 'float64'])]#\n",
    "for col in train_data[num_cols]:\n",
    "    plt.figure(figsize=(10,4))\n",
    "    sns.kdeplot(data = train_data[col])\n",
    "    plt.title(f\"distribution of {col} column in the train set\")"
   ]
  },
  {
   "cell_type": "markdown",
   "id": "3dd05e6d",
   "metadata": {
    "papermill": {
     "duration": 0.046119,
     "end_time": "2022-02-01T18:33:10.500683",
     "exception": false,
     "start_time": "2022-02-01T18:33:10.454564",
     "status": "completed"
    },
    "tags": []
   },
   "source": [
    "#### Check the distriution of numeric columns in test set:\n",
    "Looks like we don't have few columns present in the test set, like view_count, likes, dislikes, and comment count. Our target variable is the **ratio of like to view count**, so obiviously these two coloumns will not be there in the test set. \n"
   ]
  },
  {
   "cell_type": "code",
   "execution_count": 9,
   "id": "a5500184",
   "metadata": {
    "execution": {
     "iopub.execute_input": "2022-02-01T18:33:10.595358Z",
     "iopub.status.busy": "2022-02-01T18:33:10.594150Z",
     "iopub.status.idle": "2022-02-01T18:33:11.084817Z",
     "shell.execute_reply": "2022-02-01T18:33:11.084282Z",
     "shell.execute_reply.started": "2022-02-01T18:29:35.242403Z"
    },
    "papermill": {
     "duration": 0.538979,
     "end_time": "2022-02-01T18:33:11.084967",
     "exception": false,
     "start_time": "2022-02-01T18:33:10.545988",
     "status": "completed"
    },
    "tags": []
   },
   "outputs": [
    {
     "data": {
      "image/png": "[encoded data removed]",
      "text/plain": [
       "<Figure size 720x288 with 1 Axes>"
      ]
     },
     "metadata": {
      "needs_background": "light"
     },
     "output_type": "display_data"
    },
    {
     "data": {
      "image/png": "[encoded data removed]",
      "text/plain": [
       "<Figure size 720x288 with 1 Axes>"
      ]
     },
     "metadata": {
      "needs_background": "light"
     },
     "output_type": "display_data"
    }
   ],
   "source": [
    "num_cols = [col for col in test_data.select_dtypes(include = ['int64', 'float64'])]#\n",
    "for col in test_data[num_cols]:\n",
    "    plt.figure(figsize=(10,4))\n",
    "    sns.kdeplot(data = test_data[col], color = 'orange')\n",
    "    plt.title(f\"distribution of {col} column in the test set\")"
   ]
  },
  {
   "cell_type": "markdown",
   "id": "33e06545",
   "metadata": {
    "papermill": {
     "duration": 0.046872,
     "end_time": "2022-02-01T18:33:11.179001",
     "exception": false,
     "start_time": "2022-02-01T18:33:11.132129",
     "status": "completed"
    },
    "tags": []
   },
   "source": [
    "The duration_seconds does look interesting here, because the maximum value in the train data set is 485620 seconds much more than the test data's max duration. However, the 50th percentile(median) is in the same range. "
   ]
  },
  {
   "cell_type": "code",
   "execution_count": 10,
   "id": "89a7b385",
   "metadata": {
    "execution": {
     "iopub.execute_input": "2022-02-01T18:33:11.277344Z",
     "iopub.status.busy": "2022-02-01T18:33:11.276687Z",
     "iopub.status.idle": "2022-02-01T18:33:11.289487Z",
     "shell.execute_reply": "2022-02-01T18:33:11.288990Z",
     "shell.execute_reply.started": "2022-02-01T18:29:35.729103Z"
    },
    "papermill": {
     "duration": 0.063911,
     "end_time": "2022-02-01T18:33:11.289632",
     "exception": false,
     "start_time": "2022-02-01T18:33:11.225721",
     "status": "completed"
    },
    "tags": []
   },
   "outputs": [
    {
     "data": {
      "text/plain": [
       "count    90099.000\n",
       "mean       760.615\n",
       "std       5816.819\n",
       "min          3.000\n",
       "25%        184.000\n",
       "50%        446.000\n",
       "75%        854.000\n",
       "max     485620.000\n",
       "Name: duration_seconds, dtype: float64"
      ]
     },
     "execution_count": 10,
     "metadata": {},
     "output_type": "execute_result"
    }
   ],
   "source": [
    "train_data['duration_seconds'].describe()"
   ]
  },
  {
   "cell_type": "code",
   "execution_count": 11,
   "id": "f0d02009",
   "metadata": {
    "execution": {
     "iopub.execute_input": "2022-02-01T18:33:11.387989Z",
     "iopub.status.busy": "2022-02-01T18:33:11.387305Z",
     "iopub.status.idle": "2022-02-01T18:33:11.394887Z",
     "shell.execute_reply": "2022-02-01T18:33:11.395400Z",
     "shell.execute_reply.started": "2022-02-01T18:29:35.746288Z"
    },
    "papermill": {
     "duration": 0.058238,
     "end_time": "2022-02-01T18:33:11.395570",
     "exception": false,
     "start_time": "2022-02-01T18:33:11.337332",
     "status": "completed"
    },
    "tags": []
   },
   "outputs": [
    {
     "data": {
      "text/plain": [
       "count   5780.000\n",
       "mean     641.144\n",
       "std      732.952\n",
       "min       10.000\n",
       "25%      113.000\n",
       "50%      443.500\n",
       "75%      911.000\n",
       "max     8250.000\n",
       "Name: duration_seconds, dtype: float64"
      ]
     },
     "execution_count": 11,
     "metadata": {},
     "output_type": "execute_result"
    }
   ],
   "source": [
    "test_data['duration_seconds'].describe()"
   ]
  },
  {
   "cell_type": "markdown",
   "id": "a1587b99",
   "metadata": {
    "papermill": {
     "duration": 0.047614,
     "end_time": "2022-02-01T18:33:11.490923",
     "exception": false,
     "start_time": "2022-02-01T18:33:11.443309",
     "status": "completed"
    },
    "tags": []
   },
   "source": [
    "#### Inspecting the CategoryId column:\n",
    "\n",
    "Upon checking the categoryId column from the test and train data sets below, we found that the categories 15 and 29 are not present in the test data set. categoryId 23 has the highest ratio of likes/view count(our target)"
   ]
  },
  {
   "cell_type": "code",
   "execution_count": 12,
   "id": "2cf177dd",
   "metadata": {
    "execution": {
     "iopub.execute_input": "2022-02-01T18:33:11.589403Z",
     "iopub.status.busy": "2022-02-01T18:33:11.588691Z",
     "iopub.status.idle": "2022-02-01T18:33:11.910607Z",
     "shell.execute_reply": "2022-02-01T18:33:11.911350Z",
     "shell.execute_reply.started": "2022-02-01T18:29:35.758342Z"
    },
    "papermill": {
     "duration": 0.372901,
     "end_time": "2022-02-01T18:33:11.911551",
     "exception": false,
     "start_time": "2022-02-01T18:33:11.538650",
     "status": "completed"
    },
    "tags": []
   },
   "outputs": [
    {
     "data": {
      "text/plain": [
       "Text(0.5, 1.02, 'CategoryId in the train set')"
      ]
     },
     "execution_count": 12,
     "metadata": {},
     "output_type": "execute_result"
    },
    {
     "data": {
      "image/png": "[encoded data removed]",
      "text/plain": [
       "<Figure size 720x288 with 1 Axes>"
      ]
     },
     "metadata": {
      "needs_background": "light"
     },
     "output_type": "display_data"
    }
   ],
   "source": [
    "# plot\n",
    "train_data['categoryId'].value_counts(normalize = True).sort_values().plot(kind='bar', figsize=(10,4), rot=0, color = 'orange')\n",
    "\n",
    "plt.xlabel(\"categoryId\", labelpad=10, fontsize=20)\n",
    "plt.ylabel(\"Percent of data\", labelpad=10, fontsize=20)\n",
    "plt.xticks(size = 15)\n",
    "plt.yticks(size = 15)\n",
    "plt.grid()\n",
    "plt.title(\"CategoryId in the train set\", y=1.02, fontsize=20)"
   ]
  },
  {
   "cell_type": "code",
   "execution_count": 13,
   "id": "542baf9d",
   "metadata": {
    "execution": {
     "iopub.execute_input": "2022-02-01T18:33:12.014540Z",
     "iopub.status.busy": "2022-02-01T18:33:12.013882Z",
     "iopub.status.idle": "2022-02-01T18:33:12.279154Z",
     "shell.execute_reply": "2022-02-01T18:33:12.279730Z",
     "shell.execute_reply.started": "2022-02-01T18:29:36.086108Z"
    },
    "papermill": {
     "duration": 0.31845,
     "end_time": "2022-02-01T18:33:12.279931",
     "exception": false,
     "start_time": "2022-02-01T18:33:11.961481",
     "status": "completed"
    },
    "tags": []
   },
   "outputs": [
    {
     "data": {
      "text/plain": [
       "Text(0.5, 1.02, 'CategoryId in the test set')"
      ]
     },
     "execution_count": 13,
     "metadata": {},
     "output_type": "execute_result"
    },
    {
     "data": {
      "image/png": "[encoded data removed]",
      "text/plain": [
       "<Figure size 720x288 with 1 Axes>"
      ]
     },
     "metadata": {
      "needs_background": "light"
     },
     "output_type": "display_data"
    }
   ],
   "source": [
    "# plot\n",
    "test_data['categoryId'].value_counts(normalize = True).sort_values().plot(kind='bar', figsize=(10,4), rot=0, color = 'turquoise')\n",
    "\n",
    "plt.xlabel(\"categoryId\", labelpad=10, fontsize=20)\n",
    "plt.ylabel(\"Percent of data\", labelpad=10, fontsize=20)\n",
    "plt.xticks(size = 15)\n",
    "plt.yticks(size = 15)\n",
    "plt.grid()\n",
    "plt.title(\"CategoryId in the test set\", y=1.02, fontsize=20)"
   ]
  },
  {
   "cell_type": "code",
   "execution_count": 14,
   "id": "a8c321eb",
   "metadata": {
    "execution": {
     "iopub.execute_input": "2022-02-01T18:33:12.384164Z",
     "iopub.status.busy": "2022-02-01T18:33:12.383295Z",
     "iopub.status.idle": "2022-02-01T18:33:12.869094Z",
     "shell.execute_reply": "2022-02-01T18:33:12.868518Z",
     "shell.execute_reply.started": "2022-02-01T18:29:36.363332Z"
    },
    "papermill": {
     "duration": 0.538814,
     "end_time": "2022-02-01T18:33:12.869244",
     "exception": false,
     "start_time": "2022-02-01T18:33:12.330430",
     "status": "completed"
    },
    "tags": []
   },
   "outputs": [
    {
     "data": {
      "text/plain": [
       "Text(0.5, 1.02, 'categoryId wise target stats')"
      ]
     },
     "execution_count": 14,
     "metadata": {},
     "output_type": "execute_result"
    },
    {
     "data": {
      "image/png": "[encoded data removed]",
      "text/plain": [
       "<Figure size 1080x432 with 1 Axes>"
      ]
     },
     "metadata": {
      "needs_background": "light"
     },
     "output_type": "display_data"
    }
   ],
   "source": [
    "plt.figure(figsize = (15,6))\n",
    "sns.boxplot(x = train_data['categoryId'], y= train_data['target'])\n",
    "plt.xlabel(\"categoryId\", labelpad=10, fontsize=20)\n",
    "plt.ylabel(\"like/view_count ratio\", labelpad=10, fontsize=20)\n",
    "plt.xticks(size = 15)\n",
    "plt.yticks(size = 15)\n",
    "plt.grid()\n",
    "plt.title(\"categoryId wise target stats\", y=1.02, fontsize=20)"
   ]
  },
  {
   "cell_type": "code",
   "execution_count": 15,
   "id": "0dc64f1d",
   "metadata": {
    "execution": {
     "iopub.execute_input": "2022-02-01T18:33:12.980977Z",
     "iopub.status.busy": "2022-02-01T18:33:12.979969Z",
     "iopub.status.idle": "2022-02-01T18:33:13.023902Z",
     "shell.execute_reply": "2022-02-01T18:33:13.024575Z",
     "shell.execute_reply.started": "2022-02-01T18:29:36.877824Z"
    },
    "papermill": {
     "duration": 0.102871,
     "end_time": "2022-02-01T18:33:13.024766",
     "exception": false,
     "start_time": "2022-02-01T18:33:12.921895",
     "status": "completed"
    },
    "tags": []
   },
   "outputs": [
    {
     "data": {
      "text/html": [
       "<div>\n",
       "<style scoped>\n",
       "    .dataframe tbody tr th:only-of-type {\n",
       "        vertical-align: middle;\n",
       "    }\n",
       "\n",
       "    .dataframe tbody tr th {\n",
       "        vertical-align: top;\n",
       "    }\n",
       "\n",
       "    .dataframe thead th {\n",
       "        text-align: right;\n",
       "    }\n",
       "</style>\n",
       "<table border=\"1\" class=\"dataframe\">\n",
       "  <thead>\n",
       "    <tr style=\"text-align: right;\">\n",
       "      <th></th>\n",
       "      <th>count</th>\n",
       "      <th>mean</th>\n",
       "      <th>std</th>\n",
       "      <th>min</th>\n",
       "      <th>25%</th>\n",
       "      <th>50%</th>\n",
       "      <th>75%</th>\n",
       "      <th>max</th>\n",
       "    </tr>\n",
       "    <tr>\n",
       "      <th>categoryId</th>\n",
       "      <th></th>\n",
       "      <th></th>\n",
       "      <th></th>\n",
       "      <th></th>\n",
       "      <th></th>\n",
       "      <th></th>\n",
       "      <th></th>\n",
       "      <th></th>\n",
       "    </tr>\n",
       "  </thead>\n",
       "  <tbody>\n",
       "    <tr>\n",
       "      <th>1</th>\n",
       "      <td>3514.000</td>\n",
       "      <td>0.063</td>\n",
       "      <td>0.040</td>\n",
       "      <td>0.000</td>\n",
       "      <td>0.034</td>\n",
       "      <td>0.057</td>\n",
       "      <td>0.085</td>\n",
       "      <td>0.374</td>\n",
       "    </tr>\n",
       "    <tr>\n",
       "      <th>2</th>\n",
       "      <td>1668.000</td>\n",
       "      <td>0.047</td>\n",
       "      <td>0.027</td>\n",
       "      <td>0.000</td>\n",
       "      <td>0.031</td>\n",
       "      <td>0.045</td>\n",
       "      <td>0.058</td>\n",
       "      <td>0.271</td>\n",
       "    </tr>\n",
       "    <tr>\n",
       "      <th>10</th>\n",
       "      <td>16967.000</td>\n",
       "      <td>0.076</td>\n",
       "      <td>0.050</td>\n",
       "      <td>0.000</td>\n",
       "      <td>0.043</td>\n",
       "      <td>0.063</td>\n",
       "      <td>0.094</td>\n",
       "      <td>0.434</td>\n",
       "    </tr>\n",
       "    <tr>\n",
       "      <th>15</th>\n",
       "      <td>504.000</td>\n",
       "      <td>0.057</td>\n",
       "      <td>0.026</td>\n",
       "      <td>0.000</td>\n",
       "      <td>0.038</td>\n",
       "      <td>0.054</td>\n",
       "      <td>0.075</td>\n",
       "      <td>0.157</td>\n",
       "    </tr>\n",
       "    <tr>\n",
       "      <th>17</th>\n",
       "      <td>10034.000</td>\n",
       "      <td>0.021</td>\n",
       "      <td>0.018</td>\n",
       "      <td>0.000</td>\n",
       "      <td>0.010</td>\n",
       "      <td>0.015</td>\n",
       "      <td>0.024</td>\n",
       "      <td>0.151</td>\n",
       "    </tr>\n",
       "    <tr>\n",
       "      <th>19</th>\n",
       "      <td>385.000</td>\n",
       "      <td>0.054</td>\n",
       "      <td>0.027</td>\n",
       "      <td>0.005</td>\n",
       "      <td>0.036</td>\n",
       "      <td>0.053</td>\n",
       "      <td>0.069</td>\n",
       "      <td>0.178</td>\n",
       "    </tr>\n",
       "    <tr>\n",
       "      <th>20</th>\n",
       "      <td>15593.000</td>\n",
       "      <td>0.057</td>\n",
       "      <td>0.031</td>\n",
       "      <td>0.000</td>\n",
       "      <td>0.037</td>\n",
       "      <td>0.053</td>\n",
       "      <td>0.072</td>\n",
       "      <td>0.371</td>\n",
       "    </tr>\n",
       "    <tr>\n",
       "      <th>22</th>\n",
       "      <td>8040.000</td>\n",
       "      <td>0.067</td>\n",
       "      <td>0.038</td>\n",
       "      <td>0.000</td>\n",
       "      <td>0.043</td>\n",
       "      <td>0.062</td>\n",
       "      <td>0.082</td>\n",
       "      <td>0.323</td>\n",
       "    </tr>\n",
       "    <tr>\n",
       "      <th>23</th>\n",
       "      <td>5126.000</td>\n",
       "      <td>0.082</td>\n",
       "      <td>0.040</td>\n",
       "      <td>0.000</td>\n",
       "      <td>0.052</td>\n",
       "      <td>0.078</td>\n",
       "      <td>0.110</td>\n",
       "      <td>0.278</td>\n",
       "    </tr>\n",
       "    <tr>\n",
       "      <th>24</th>\n",
       "      <td>18522.000</td>\n",
       "      <td>0.056</td>\n",
       "      <td>0.037</td>\n",
       "      <td>0.000</td>\n",
       "      <td>0.029</td>\n",
       "      <td>0.050</td>\n",
       "      <td>0.074</td>\n",
       "      <td>0.391</td>\n",
       "    </tr>\n",
       "    <tr>\n",
       "      <th>25</th>\n",
       "      <td>3430.000</td>\n",
       "      <td>0.014</td>\n",
       "      <td>0.014</td>\n",
       "      <td>0.000</td>\n",
       "      <td>0.008</td>\n",
       "      <td>0.011</td>\n",
       "      <td>0.015</td>\n",
       "      <td>0.187</td>\n",
       "    </tr>\n",
       "    <tr>\n",
       "      <th>26</th>\n",
       "      <td>3039.000</td>\n",
       "      <td>0.061</td>\n",
       "      <td>0.028</td>\n",
       "      <td>0.000</td>\n",
       "      <td>0.045</td>\n",
       "      <td>0.055</td>\n",
       "      <td>0.073</td>\n",
       "      <td>0.249</td>\n",
       "    </tr>\n",
       "    <tr>\n",
       "      <th>27</th>\n",
       "      <td>2044.000</td>\n",
       "      <td>0.067</td>\n",
       "      <td>0.029</td>\n",
       "      <td>0.000</td>\n",
       "      <td>0.048</td>\n",
       "      <td>0.065</td>\n",
       "      <td>0.085</td>\n",
       "      <td>0.237</td>\n",
       "    </tr>\n",
       "    <tr>\n",
       "      <th>28</th>\n",
       "      <td>3326.000</td>\n",
       "      <td>0.047</td>\n",
       "      <td>0.026</td>\n",
       "      <td>0.000</td>\n",
       "      <td>0.028</td>\n",
       "      <td>0.043</td>\n",
       "      <td>0.060</td>\n",
       "      <td>0.234</td>\n",
       "    </tr>\n",
       "    <tr>\n",
       "      <th>29</th>\n",
       "      <td>83.000</td>\n",
       "      <td>0.087</td>\n",
       "      <td>0.061</td>\n",
       "      <td>0.012</td>\n",
       "      <td>0.040</td>\n",
       "      <td>0.065</td>\n",
       "      <td>0.120</td>\n",
       "      <td>0.254</td>\n",
       "    </tr>\n",
       "  </tbody>\n",
       "</table>\n",
       "</div>"
      ],
      "text/plain": [
       "               count  mean   std   min   25%   50%   75%   max\n",
       "categoryId                                                    \n",
       "1           3514.000 0.063 0.040 0.000 0.034 0.057 0.085 0.374\n",
       "2           1668.000 0.047 0.027 0.000 0.031 0.045 0.058 0.271\n",
       "10         16967.000 0.076 0.050 0.000 0.043 0.063 0.094 0.434\n",
       "15           504.000 0.057 0.026 0.000 0.038 0.054 0.075 0.157\n",
       "17         10034.000 0.021 0.018 0.000 0.010 0.015 0.024 0.151\n",
       "19           385.000 0.054 0.027 0.005 0.036 0.053 0.069 0.178\n",
       "20         15593.000 0.057 0.031 0.000 0.037 0.053 0.072 0.371\n",
       "22          8040.000 0.067 0.038 0.000 0.043 0.062 0.082 0.323\n",
       "23          5126.000 0.082 0.040 0.000 0.052 0.078 0.110 0.278\n",
       "24         18522.000 0.056 0.037 0.000 0.029 0.050 0.074 0.391\n",
       "25          3430.000 0.014 0.014 0.000 0.008 0.011 0.015 0.187\n",
       "26          3039.000 0.061 0.028 0.000 0.045 0.055 0.073 0.249\n",
       "27          2044.000 0.067 0.029 0.000 0.048 0.065 0.085 0.237\n",
       "28          3326.000 0.047 0.026 0.000 0.028 0.043 0.060 0.234\n",
       "29            83.000 0.087 0.061 0.012 0.040 0.065 0.120 0.254"
      ]
     },
     "execution_count": 15,
     "metadata": {},
     "output_type": "execute_result"
    }
   ],
   "source": [
    "train_data.groupby('categoryId')['target'].describe()"
   ]
  },
  {
   "cell_type": "markdown",
   "id": "4612fe5d",
   "metadata": {
    "papermill": {
     "duration": 0.053787,
     "end_time": "2022-02-01T18:33:13.132381",
     "exception": false,
     "start_time": "2022-02-01T18:33:13.078594",
     "status": "completed"
    },
    "tags": []
   },
   "source": [
    "#### Inspecting Date Columns:\n",
    "\n",
    "We have two date columns that says the published date and trending date of a video. We can derive some features from these dates in further steps. The published videos in the train set are between 2020-08-03 to 2021-11-29. The published dates in the test data are between 2021-11-15 to 2021-12-29"
   ]
  },
  {
   "cell_type": "code",
   "execution_count": 16,
   "id": "4c3d1614",
   "metadata": {
    "execution": {
     "iopub.execute_input": "2022-02-01T18:33:13.243027Z",
     "iopub.status.busy": "2022-02-01T18:33:13.242388Z",
     "iopub.status.idle": "2022-02-01T18:33:13.303128Z",
     "shell.execute_reply": "2022-02-01T18:33:13.303661Z",
     "shell.execute_reply.started": "2022-02-01T18:29:36.928484Z"
    },
    "papermill": {
     "duration": 0.117688,
     "end_time": "2022-02-01T18:33:13.303853",
     "exception": false,
     "start_time": "2022-02-01T18:33:13.186165",
     "status": "completed"
    },
    "tags": []
   },
   "outputs": [],
   "source": [
    "train_data['publishedAt'] = pd.to_datetime(train_data['publishedAt'])\n",
    "test_data['publishedAt'] = pd.to_datetime(test_data['publishedAt'])\n",
    "\n",
    "train_data['trending_date'] = pd.to_datetime(train_data['trending_date'])\n",
    "test_data['trending_date'] = pd.to_datetime(test_data['trending_date'])"
   ]
  },
  {
   "cell_type": "code",
   "execution_count": 17,
   "id": "e1797c30",
   "metadata": {
    "execution": {
     "iopub.execute_input": "2022-02-01T18:33:13.416537Z",
     "iopub.status.busy": "2022-02-01T18:33:13.415907Z",
     "iopub.status.idle": "2022-02-01T18:33:13.428157Z",
     "shell.execute_reply": "2022-02-01T18:33:13.427460Z",
     "shell.execute_reply.started": "2022-02-01T18:29:36.993757Z"
    },
    "papermill": {
     "duration": 0.070819,
     "end_time": "2022-02-01T18:33:13.428301",
     "exception": false,
     "start_time": "2022-02-01T18:33:13.357482",
     "status": "completed"
    },
    "tags": []
   },
   "outputs": [
    {
     "data": {
      "text/plain": [
       "count                                  92275\n",
       "mean     2021-04-02 23:04:22.610306048+00:00\n",
       "min                2020-08-03 21:51:14+00:00\n",
       "25%                2020-12-04 05:00:09+00:00\n",
       "50%                2021-04-01 21:00:10+00:00\n",
       "75%                2021-08-02 20:41:48+00:00\n",
       "max                2021-11-29 18:50:25+00:00\n",
       "Name: publishedAt, dtype: object"
      ]
     },
     "execution_count": 17,
     "metadata": {},
     "output_type": "execute_result"
    }
   ],
   "source": [
    "train_data['publishedAt'].describe(datetime_is_numeric=True)"
   ]
  },
  {
   "cell_type": "code",
   "execution_count": 18,
   "id": "4362b5bb",
   "metadata": {
    "execution": {
     "iopub.execute_input": "2022-02-01T18:33:13.542996Z",
     "iopub.status.busy": "2022-02-01T18:33:13.541251Z",
     "iopub.status.idle": "2022-02-01T18:33:13.550148Z",
     "shell.execute_reply": "2022-02-01T18:33:13.549529Z",
     "shell.execute_reply.started": "2022-02-01T18:29:37.012253Z"
    },
    "papermill": {
     "duration": 0.06802,
     "end_time": "2022-02-01T18:33:13.550310",
     "exception": false,
     "start_time": "2022-02-01T18:33:13.482290",
     "status": "completed"
    },
    "tags": []
   },
   "outputs": [
    {
     "data": {
      "text/plain": [
       "count                                   5800\n",
       "mean     2021-12-12 20:05:28.150517248+00:00\n",
       "min                2021-11-15 17:06:20+00:00\n",
       "25%         2021-12-06 02:46:21.500000+00:00\n",
       "50%         2021-12-13 14:00:18.500000+00:00\n",
       "75%                2021-12-19 17:11:36+00:00\n",
       "max                2021-12-29 16:42:14+00:00\n",
       "Name: publishedAt, dtype: object"
      ]
     },
     "execution_count": 18,
     "metadata": {},
     "output_type": "execute_result"
    }
   ],
   "source": [
    "test_data['publishedAt'].describe(datetime_is_numeric=True)"
   ]
  },
  {
   "cell_type": "code",
   "execution_count": 19,
   "id": "de88ea79",
   "metadata": {
    "execution": {
     "iopub.execute_input": "2022-02-01T18:33:13.664158Z",
     "iopub.status.busy": "2022-02-01T18:33:13.663488Z",
     "iopub.status.idle": "2022-02-01T18:33:13.673581Z",
     "shell.execute_reply": "2022-02-01T18:33:13.672996Z",
     "shell.execute_reply.started": "2022-02-01T18:29:37.028079Z"
    },
    "papermill": {
     "duration": 0.069212,
     "end_time": "2022-02-01T18:33:13.673720",
     "exception": false,
     "start_time": "2022-02-01T18:33:13.604508",
     "status": "completed"
    },
    "tags": []
   },
   "outputs": [
    {
     "data": {
      "text/plain": [
       "count                            92275\n",
       "mean     2021-04-06 09:19:01.271200256\n",
       "min                2020-08-12 00:00:00\n",
       "25%                2020-12-08 00:00:00\n",
       "50%                2021-04-05 00:00:00\n",
       "75%                2021-08-06 00:00:00\n",
       "max                2021-11-30 00:00:00\n",
       "Name: trending_date, dtype: object"
      ]
     },
     "execution_count": 19,
     "metadata": {},
     "output_type": "execute_result"
    }
   ],
   "source": [
    "train_data['trending_date'].describe(datetime_is_numeric=True)"
   ]
  },
  {
   "cell_type": "code",
   "execution_count": 20,
   "id": "3072d6b3",
   "metadata": {
    "execution": {
     "iopub.execute_input": "2022-02-01T18:33:13.786661Z",
     "iopub.status.busy": "2022-02-01T18:33:13.785730Z",
     "iopub.status.idle": "2022-02-01T18:33:13.795325Z",
     "shell.execute_reply": "2022-02-01T18:33:13.795904Z",
     "shell.execute_reply.started": "2022-02-01T18:29:37.043997Z"
    },
    "papermill": {
     "duration": 0.067988,
     "end_time": "2022-02-01T18:33:13.796068",
     "exception": false,
     "start_time": "2022-02-01T18:33:13.728080",
     "status": "completed"
    },
    "tags": []
   },
   "outputs": [
    {
     "data": {
      "text/plain": [
       "count                             5800\n",
       "mean     2021-12-15 21:31:02.068965632\n",
       "min                2021-12-01 00:00:00\n",
       "25%                2021-12-09 00:00:00\n",
       "50%                2021-12-16 00:00:00\n",
       "75%                2021-12-23 00:00:00\n",
       "max                2021-12-30 00:00:00\n",
       "Name: trending_date, dtype: object"
      ]
     },
     "execution_count": 20,
     "metadata": {},
     "output_type": "execute_result"
    }
   ],
   "source": [
    "test_data['trending_date'].describe(datetime_is_numeric=True)"
   ]
  },
  {
   "cell_type": "markdown",
   "id": "a4defc5f",
   "metadata": {
    "papermill": {
     "duration": 0.055091,
     "end_time": "2022-02-01T18:33:13.906900",
     "exception": false,
     "start_time": "2022-02-01T18:33:13.851809",
     "status": "completed"
    },
    "tags": []
   },
   "source": [
    "#### Inspect some of the comments columns like, description, tags etc.\n",
    "\n",
    "Some descriptions contain the #hashtag, and some donot have that."
   ]
  },
  {
   "cell_type": "code",
   "execution_count": 21,
   "id": "87bd27d2",
   "metadata": {
    "execution": {
     "iopub.execute_input": "2022-02-01T18:33:14.024457Z",
     "iopub.status.busy": "2022-02-01T18:33:14.023637Z",
     "iopub.status.idle": "2022-02-01T18:33:14.026861Z",
     "shell.execute_reply": "2022-02-01T18:33:14.027343Z",
     "shell.execute_reply.started": "2022-02-01T18:29:37.056074Z"
    },
    "papermill": {
     "duration": 0.064955,
     "end_time": "2022-02-01T18:33:14.027503",
     "exception": false,
     "start_time": "2022-02-01T18:33:13.962548",
     "status": "completed"
    },
    "tags": []
   },
   "outputs": [
    {
     "data": {
      "text/plain": [
       "'SUBSCRIBE to BRAWADIS ▶ http://bit.ly/SubscribeToBrawadis\\r\\rFOLLOW ME ON SOCIAL\\r▶ Twitter: https://twitter.com/Brawadis\\r▶ Instagram: https://www.instagram.com/brawadis/\\r▶ Snapchat: brawadis\\r\\rHi! I’m Brandon Awadis and I like to make dope vlogs, pranks, reactions, challenges and basketball videos. Don’t forget to subscribe and come be a part of the BrawadSquad!'"
      ]
     },
     "execution_count": 21,
     "metadata": {},
     "output_type": "execute_result"
    }
   ],
   "source": [
    "train_data['description'][0]"
   ]
  },
  {
   "cell_type": "code",
   "execution_count": 22,
   "id": "90b823d6",
   "metadata": {
    "execution": {
     "iopub.execute_input": "2022-02-01T18:33:14.142578Z",
     "iopub.status.busy": "2022-02-01T18:33:14.141614Z",
     "iopub.status.idle": "2022-02-01T18:33:14.146674Z",
     "shell.execute_reply": "2022-02-01T18:33:14.147240Z",
     "shell.execute_reply.started": "2022-02-01T18:29:37.065206Z"
    },
    "papermill": {
     "duration": 0.064106,
     "end_time": "2022-02-01T18:33:14.147407",
     "exception": false,
     "start_time": "2022-02-01T18:33:14.083301",
     "status": "completed"
    },
    "tags": []
   },
   "outputs": [
    {
     "data": {
      "text/plain": [
       "'SUBSCRIBE to BRAWADIS ▶ http://bit.ly/SubscribeToBrawadis\\r\\rFOLLOW ME ON SOCIAL\\r▶ Twitter: https://twitter.com/Brawadis\\r▶ Instagram: https://www.instagram.com/brawadis/\\r▶ Snapchat: brawadis\\r\\rHi! I’m Brandon Awadis and I like to make dope vlogs, pranks, reactions, challenges and basketball videos. Don’t forget to subscribe and come be a part of the BrawadSquad!'"
      ]
     },
     "execution_count": 22,
     "metadata": {},
     "output_type": "execute_result"
    }
   ],
   "source": [
    "train_data['description'][0]"
   ]
  },
  {
   "cell_type": "code",
   "execution_count": 23,
   "id": "68582736",
   "metadata": {
    "execution": {
     "iopub.execute_input": "2022-02-01T18:33:14.262731Z",
     "iopub.status.busy": "2022-02-01T18:33:14.262092Z",
     "iopub.status.idle": "2022-02-01T18:33:14.266535Z",
     "shell.execute_reply": "2022-02-01T18:33:14.267098Z",
     "shell.execute_reply.started": "2022-02-01T18:29:37.077639Z"
    },
    "papermill": {
     "duration": 0.063665,
     "end_time": "2022-02-01T18:33:14.267268",
     "exception": false,
     "start_time": "2022-02-01T18:33:14.203603",
     "status": "completed"
    },
    "tags": []
   },
   "outputs": [
    {
     "data": {
      "text/plain": [
       "\"►►Subscribe to ScreenJunkies!► https://fandom.link/SJSubscribeOur Next Fandom 5 Trivia Show is on Avatar: The Last Airbender and will be Friday, August 14th! More Info►► https://fandom.link/AvatarTriviaInfo►►Watch the Honest Trailers Commentary LIVE on Fandom Entertainment► https://youtu.be/Ww9ZHVYLpJM►►100 Reasons Why You Should Love Avatar: The Last Airbender w/ Roth, Joe, & Spencer► https://youtu.be/ml5OSwEqB_UHonest Trailers | Avatar: The Last AirbenderVoice Narration: Jon Bailey aka Epic Voice GuyWritten by: Spencer Gilbert, Joe Starr, Danielle Radford, & Lon HarrisProduced by: Spencer Gilbert & Joe StarrEdited by: Kevin WilliamsenPost-Production Supervisor: Emin BassavandSupervising Producer: Max DionneAssociate Producer: Ryan O'TooleExecutive Producer: Roth Cornet#HonestTrailers\""
      ]
     },
     "execution_count": 23,
     "metadata": {},
     "output_type": "execute_result"
    }
   ],
   "source": [
    "train_data['description'][21]"
   ]
  },
  {
   "cell_type": "code",
   "execution_count": 24,
   "id": "f0a46254",
   "metadata": {
    "execution": {
     "iopub.execute_input": "2022-02-01T18:33:14.383133Z",
     "iopub.status.busy": "2022-02-01T18:33:14.382474Z",
     "iopub.status.idle": "2022-02-01T18:33:14.387346Z",
     "shell.execute_reply": "2022-02-01T18:33:14.387887Z",
     "shell.execute_reply.started": "2022-02-01T18:29:37.090321Z"
    },
    "papermill": {
     "duration": 0.064641,
     "end_time": "2022-02-01T18:33:14.388053",
     "exception": false,
     "start_time": "2022-02-01T18:33:14.323412",
     "status": "completed"
    },
    "tags": []
   },
   "outputs": [
    {
     "data": {
      "text/plain": [
       "'brawadis|prank|basketball|skits|ghost|funny videos|vlog|vlogging|NBA|browadis|challenges|bmw i8|faze rug|faze rug brother|mama rug and papa rug'"
      ]
     },
     "execution_count": 24,
     "metadata": {},
     "output_type": "execute_result"
    }
   ],
   "source": [
    "train_data['tags'][0]"
   ]
  },
  {
   "cell_type": "code",
   "execution_count": 25,
   "id": "83a45ccd",
   "metadata": {
    "execution": {
     "iopub.execute_input": "2022-02-01T18:33:14.504738Z",
     "iopub.status.busy": "2022-02-01T18:33:14.504090Z",
     "iopub.status.idle": "2022-02-01T18:33:14.508749Z",
     "shell.execute_reply": "2022-02-01T18:33:14.509281Z",
     "shell.execute_reply.started": "2022-02-01T18:29:37.102573Z"
    },
    "papermill": {
     "duration": 0.06462,
     "end_time": "2022-02-01T18:33:14.509450",
     "exception": false,
     "start_time": "2022-02-01T18:33:14.444830",
     "status": "completed"
    },
    "tags": []
   },
   "outputs": [
    {
     "data": {
      "text/plain": [
       "'Apex Legends | Stories from the Outlands – “The Endorsement”'"
      ]
     },
     "execution_count": 25,
     "metadata": {},
     "output_type": "execute_result"
    }
   ],
   "source": [
    "train_data['title'][1]"
   ]
  },
  {
   "cell_type": "markdown",
   "id": "03791eab",
   "metadata": {
    "papermill": {
     "duration": 0.056828,
     "end_time": "2022-02-01T18:33:14.624122",
     "exception": false,
     "start_time": "2022-02-01T18:33:14.567294",
     "status": "completed"
    },
    "tags": []
   },
   "source": [
    "### Feature Engineering:"
   ]
  },
  {
   "cell_type": "code",
   "execution_count": 26,
   "id": "0ac1407b",
   "metadata": {
    "execution": {
     "iopub.execute_input": "2022-02-01T18:33:14.757045Z",
     "iopub.status.busy": "2022-02-01T18:33:14.756366Z",
     "iopub.status.idle": "2022-02-01T18:33:14.760664Z",
     "shell.execute_reply": "2022-02-01T18:33:14.760188Z",
     "shell.execute_reply.started": "2022-02-01T18:29:37.117258Z"
    },
    "papermill": {
     "duration": 0.079659,
     "end_time": "2022-02-01T18:33:14.760811",
     "exception": false,
     "start_time": "2022-02-01T18:33:14.681152",
     "status": "completed"
    },
    "tags": []
   },
   "outputs": [
    {
     "data": {
      "text/html": [
       "<div>\n",
       "<style scoped>\n",
       "    .dataframe tbody tr th:only-of-type {\n",
       "        vertical-align: middle;\n",
       "    }\n",
       "\n",
       "    .dataframe tbody tr th {\n",
       "        vertical-align: top;\n",
       "    }\n",
       "\n",
       "    .dataframe thead th {\n",
       "        text-align: right;\n",
       "    }\n",
       "</style>\n",
       "<table border=\"1\" class=\"dataframe\">\n",
       "  <thead>\n",
       "    <tr style=\"text-align: right;\">\n",
       "      <th></th>\n",
       "      <th>video_id</th>\n",
       "      <th>title</th>\n",
       "      <th>publishedAt</th>\n",
       "      <th>channelId</th>\n",
       "      <th>channelTitle</th>\n",
       "      <th>categoryId</th>\n",
       "      <th>trending_date</th>\n",
       "      <th>tags</th>\n",
       "      <th>thumbnail_link</th>\n",
       "      <th>comments_disabled</th>\n",
       "      <th>ratings_disabled</th>\n",
       "      <th>description</th>\n",
       "      <th>id</th>\n",
       "      <th>duration_seconds</th>\n",
       "      <th>has_thumbnail</th>\n",
       "      <th>isTest</th>\n",
       "    </tr>\n",
       "  </thead>\n",
       "  <tbody>\n",
       "    <tr>\n",
       "      <th>0</th>\n",
       "      <td>_wNsZEqpKUA</td>\n",
       "      <td>Billie Eilish: Same Interview, The Fifth Year ...</td>\n",
       "      <td>2021-11-30 17:00:10+00:00</td>\n",
       "      <td>UCIsbLox_y9dCIMLd8tdC6qg</td>\n",
       "      <td>Vanity Fair</td>\n",
       "      <td>24</td>\n",
       "      <td>2021-12-01</td>\n",
       "      <td>billie|billie eilish|billie eilish 2021|billie...</td>\n",
       "      <td>https://i.ytimg.com/vi/_wNsZEqpKUA/default.jpg</td>\n",
       "      <td>False</td>\n",
       "      <td>False</td>\n",
       "      <td>I'm so much more open to stuff now. On the ver...</td>\n",
       "      <td>_wNsZEqpKUA_2021-12-01</td>\n",
       "      <td>1335.000</td>\n",
       "      <td>True</td>\n",
       "      <td>True</td>\n",
       "    </tr>\n",
       "    <tr>\n",
       "      <th>1</th>\n",
       "      <td>2jfbXZiE6Lc</td>\n",
       "      <td>Redneck vs Fancy Whiskey Glass</td>\n",
       "      <td>2021-11-29 21:30:27+00:00</td>\n",
       "      <td>UCT_QEGH0myu6lgbE_biQPuw</td>\n",
       "      <td>Drew Talbert</td>\n",
       "      <td>23</td>\n",
       "      <td>2021-12-01</td>\n",
       "      <td>[None]</td>\n",
       "      <td>https://i.ytimg.com/vi/2jfbXZiE6Lc/default.jpg</td>\n",
       "      <td>False</td>\n",
       "      <td>False</td>\n",
       "      <td>I’m just shocked Brad was able to sell him in ...</td>\n",
       "      <td>2jfbXZiE6Lc_2021-12-01</td>\n",
       "      <td>28.000</td>\n",
       "      <td>True</td>\n",
       "      <td>True</td>\n",
       "    </tr>\n",
       "    <tr>\n",
       "      <th>2</th>\n",
       "      <td>F1Hq8eVOMHs</td>\n",
       "      <td>Is Meat Really that Bad?</td>\n",
       "      <td>2021-11-30 15:01:34+00:00</td>\n",
       "      <td>UCsXVk37bltHxD1rDPwtNM8Q</td>\n",
       "      <td>Kurzgesagt – In a Nutshell</td>\n",
       "      <td>27</td>\n",
       "      <td>2021-12-01</td>\n",
       "      <td>[None]</td>\n",
       "      <td>https://i.ytimg.com/vi/F1Hq8eVOMHs/default.jpg</td>\n",
       "      <td>False</td>\n",
       "      <td>False</td>\n",
       "      <td>The first 1,000 people to use this link will g...</td>\n",
       "      <td>F1Hq8eVOMHs_2021-12-01</td>\n",
       "      <td>728.000</td>\n",
       "      <td>True</td>\n",
       "      <td>True</td>\n",
       "    </tr>\n",
       "    <tr>\n",
       "      <th>3</th>\n",
       "      <td>GQXVQmcGQUY</td>\n",
       "      <td>Things Get Strange With The UnderTaker | Cold ...</td>\n",
       "      <td>2021-11-30 16:00:27+00:00</td>\n",
       "      <td>UCLRmIdRJgLfmdpJufmBhBuA</td>\n",
       "      <td>LOL Network</td>\n",
       "      <td>23</td>\n",
       "      <td>2021-12-01</td>\n",
       "      <td>kevin hart|hartbeat productions|funny|comedy|c...</td>\n",
       "      <td>https://i.ytimg.com/vi/GQXVQmcGQUY/default.jpg</td>\n",
       "      <td>False</td>\n",
       "      <td>False</td>\n",
       "      <td>#PoweredByOldSpice Thought by many as one of t...</td>\n",
       "      <td>GQXVQmcGQUY_2021-12-01</td>\n",
       "      <td>829.000</td>\n",
       "      <td>True</td>\n",
       "      <td>True</td>\n",
       "    </tr>\n",
       "    <tr>\n",
       "      <th>4</th>\n",
       "      <td>n4XojTb6pfs</td>\n",
       "      <td>People Pleasers at a Restaurant</td>\n",
       "      <td>2021-11-30 17:15:02+00:00</td>\n",
       "      <td>UCT_QEGH0myu6lgbE_biQPuw</td>\n",
       "      <td>Drew Talbert</td>\n",
       "      <td>23</td>\n",
       "      <td>2021-12-01</td>\n",
       "      <td>[None]</td>\n",
       "      <td>https://i.ytimg.com/vi/n4XojTb6pfs/default.jpg</td>\n",
       "      <td>False</td>\n",
       "      <td>False</td>\n",
       "      <td>I apologize for existing - please throw me out...</td>\n",
       "      <td>n4XojTb6pfs_2021-12-01</td>\n",
       "      <td>31.000</td>\n",
       "      <td>True</td>\n",
       "      <td>True</td>\n",
       "    </tr>\n",
       "  </tbody>\n",
       "</table>\n",
       "</div>"
      ],
      "text/plain": [
       "      video_id                                              title  \\\n",
       "0  _wNsZEqpKUA  Billie Eilish: Same Interview, The Fifth Year ...   \n",
       "1  2jfbXZiE6Lc                     Redneck vs Fancy Whiskey Glass   \n",
       "2  F1Hq8eVOMHs                           Is Meat Really that Bad?   \n",
       "3  GQXVQmcGQUY  Things Get Strange With The UnderTaker | Cold ...   \n",
       "4  n4XojTb6pfs                    People Pleasers at a Restaurant   \n",
       "\n",
       "                publishedAt                 channelId  \\\n",
       "0 2021-11-30 17:00:10+00:00  UCIsbLox_y9dCIMLd8tdC6qg   \n",
       "1 2021-11-29 21:30:27+00:00  UCT_QEGH0myu6lgbE_biQPuw   \n",
       "2 2021-11-30 15:01:34+00:00  UCsXVk37bltHxD1rDPwtNM8Q   \n",
       "3 2021-11-30 16:00:27+00:00  UCLRmIdRJgLfmdpJufmBhBuA   \n",
       "4 2021-11-30 17:15:02+00:00  UCT_QEGH0myu6lgbE_biQPuw   \n",
       "\n",
       "                 channelTitle  categoryId trending_date  \\\n",
       "0                 Vanity Fair          24    2021-12-01   \n",
       "1                Drew Talbert          23    2021-12-01   \n",
       "2  Kurzgesagt – In a Nutshell          27    2021-12-01   \n",
       "3                 LOL Network          23    2021-12-01   \n",
       "4                Drew Talbert          23    2021-12-01   \n",
       "\n",
       "                                                tags  \\\n",
       "0  billie|billie eilish|billie eilish 2021|billie...   \n",
       "1                                             [None]   \n",
       "2                                             [None]   \n",
       "3  kevin hart|hartbeat productions|funny|comedy|c...   \n",
       "4                                             [None]   \n",
       "\n",
       "                                   thumbnail_link  comments_disabled  \\\n",
       "0  https://i.ytimg.com/vi/_wNsZEqpKUA/default.jpg              False   \n",
       "1  https://i.ytimg.com/vi/2jfbXZiE6Lc/default.jpg              False   \n",
       "2  https://i.ytimg.com/vi/F1Hq8eVOMHs/default.jpg              False   \n",
       "3  https://i.ytimg.com/vi/GQXVQmcGQUY/default.jpg              False   \n",
       "4  https://i.ytimg.com/vi/n4XojTb6pfs/default.jpg              False   \n",
       "\n",
       "   ratings_disabled                                        description  \\\n",
       "0             False  I'm so much more open to stuff now. On the ver...   \n",
       "1             False  I’m just shocked Brad was able to sell him in ...   \n",
       "2             False  The first 1,000 people to use this link will g...   \n",
       "3             False  #PoweredByOldSpice Thought by many as one of t...   \n",
       "4             False  I apologize for existing - please throw me out...   \n",
       "\n",
       "                       id  duration_seconds  has_thumbnail  isTest  \n",
       "0  _wNsZEqpKUA_2021-12-01          1335.000           True    True  \n",
       "1  2jfbXZiE6Lc_2021-12-01            28.000           True    True  \n",
       "2  F1Hq8eVOMHs_2021-12-01           728.000           True    True  \n",
       "3  GQXVQmcGQUY_2021-12-01           829.000           True    True  \n",
       "4  n4XojTb6pfs_2021-12-01            31.000           True    True  "
      ]
     },
     "execution_count": 26,
     "metadata": {},
     "output_type": "execute_result"
    }
   ],
   "source": [
    "test_data.head()"
   ]
  },
  {
   "cell_type": "code",
   "execution_count": 27,
   "id": "3a2a5e99",
   "metadata": {
    "execution": {
     "iopub.execute_input": "2022-02-01T18:33:14.889401Z",
     "iopub.status.busy": "2022-02-01T18:33:14.881395Z",
     "iopub.status.idle": "2022-02-01T18:33:14.898527Z",
     "shell.execute_reply": "2022-02-01T18:33:14.899741Z",
     "shell.execute_reply.started": "2022-02-01T18:29:37.144299Z"
    },
    "papermill": {
     "duration": 0.081583,
     "end_time": "2022-02-01T18:33:14.900141",
     "exception": false,
     "start_time": "2022-02-01T18:33:14.818558",
     "status": "completed"
    },
    "tags": []
   },
   "outputs": [
    {
     "name": "stdout",
     "output_type": "stream",
     "text": [
      "(92275, 19) (92275,)\n"
     ]
    }
   ],
   "source": [
    "X = train_data.drop(columns = {'target'})\n",
    "y = train_data['target']\n",
    "\n",
    "print(X.shape, y.shape)"
   ]
  },
  {
   "cell_type": "code",
   "execution_count": 28,
   "id": "f228fff4",
   "metadata": {
    "execution": {
     "iopub.execute_input": "2022-02-01T18:33:15.021957Z",
     "iopub.status.busy": "2022-02-01T18:33:15.021231Z",
     "iopub.status.idle": "2022-02-01T18:33:15.073452Z",
     "shell.execute_reply": "2022-02-01T18:33:15.072914Z",
     "shell.execute_reply.started": "2022-02-01T18:29:37.176614Z"
    },
    "papermill": {
     "duration": 0.113781,
     "end_time": "2022-02-01T18:33:15.073593",
     "exception": false,
     "start_time": "2022-02-01T18:33:14.959812",
     "status": "completed"
    },
    "tags": []
   },
   "outputs": [
    {
     "name": "stdout",
     "output_type": "stream",
     "text": [
      "(61824, 19) (30451, 19) (61824,) (30451,)\n"
     ]
    }
   ],
   "source": [
    "X_train, X_val, y_train, y_val = train_test_split(X, y, test_size=0.33, random_state=1)\n",
    "print(X_train.shape, X_val.shape, y_train.shape, y_val.shape)"
   ]
  },
  {
   "cell_type": "markdown",
   "id": "168284e4",
   "metadata": {
    "papermill": {
     "duration": 0.058244,
     "end_time": "2022-02-01T18:33:15.191187",
     "exception": false,
     "start_time": "2022-02-01T18:33:15.132943",
     "status": "completed"
    },
    "tags": []
   },
   "source": [
    "##### Feature Engineering: \n",
    "\n",
    "Here I am just using the datetime columns to derive few basic features to make baseline model."
   ]
  },
  {
   "cell_type": "code",
   "execution_count": 29,
   "id": "3521317e",
   "metadata": {
    "execution": {
     "iopub.execute_input": "2022-02-01T18:33:15.320599Z",
     "iopub.status.busy": "2022-02-01T18:33:15.319912Z",
     "iopub.status.idle": "2022-02-01T18:33:15.323019Z",
     "shell.execute_reply": "2022-02-01T18:33:15.322407Z",
     "shell.execute_reply.started": "2022-02-01T18:29:37.236596Z"
    },
    "papermill": {
     "duration": 0.073562,
     "end_time": "2022-02-01T18:33:15.323173",
     "exception": false,
     "start_time": "2022-02-01T18:33:15.249611",
     "status": "completed"
    },
    "tags": []
   },
   "outputs": [],
   "source": [
    "CAT_COLS = ['video_id', 'channelId', 'channelTitle', 'categoryId', 'comments_disabled', 'ratings_disabled', \\\n",
    "            'published_day', 'published_month', 'published_hour', 'published_dayofweek', 'trending_day', \\\n",
    "            'trending_month', 'trending_dayofweek']\n",
    "\n",
    "FEATURE_COLS = ['video_id', 'channelId', 'channelTitle', 'categoryId', 'comments_disabled', 'ratings_disabled', \\\n",
    "            'published_day', 'published_month', 'published_hour', 'published_dayofweek', 'trending_day', \\\n",
    "            'trending_month', 'trending_dayofweek', 'duration_seconds', 'id']\n",
    "\n",
    "\n",
    "# very basic feature engineering without using the tags/ description column\n",
    "def feature_transform(df: pd.DataFrame):\n",
    "    \n",
    "    # date feature engineering\n",
    "    df['publishedAt'] = pd.to_datetime(df['publishedAt'], utc = True)\n",
    "    df['published_day'] = df['publishedAt'].dt.day\n",
    "    df['published_month'] = df['publishedAt'].dt.month\n",
    "    df['published_hour'] = df['publishedAt'].dt.hour\n",
    "    df['published_dayofweek'] = df['publishedAt'].dt.dayofweek\n",
    "    \n",
    "    df['trending_date'] = pd.to_datetime(df['trending_date'], utc = True)\n",
    "    df['trending_day'] = df['trending_date'].dt.day\n",
    "    df['trending_month'] = df['trending_date'].dt.month\n",
    "    df['trending_dayofweek'] = df['trending_date'].dt.dayofweek\n",
    "    \n",
    "    \n",
    "    # duration_seconds\n",
    "    \n",
    "    df['duration_seconds'] = df['duration_seconds'].fillna(df.groupby('categoryId')['duration_seconds'].transform('mean'))\n",
    "    \n",
    "    \n",
    "    # categorical_transform():\n",
    "    for col in CAT_COLS:\n",
    "        le = LabelEncoder()\n",
    "        df[col] = le.fit_transform(df[col])\n",
    "        \n",
    "        \n",
    "    return df\n",
    "    "
   ]
  },
  {
   "cell_type": "code",
   "execution_count": 30,
   "id": "13d33c44",
   "metadata": {
    "execution": {
     "iopub.execute_input": "2022-02-01T18:33:15.443390Z",
     "iopub.status.busy": "2022-02-01T18:33:15.442387Z",
     "iopub.status.idle": "2022-02-01T18:33:15.978342Z",
     "shell.execute_reply": "2022-02-01T18:33:15.977720Z",
     "shell.execute_reply.started": "2022-02-01T18:29:37.250965Z"
    },
    "papermill": {
     "duration": 0.596793,
     "end_time": "2022-02-01T18:33:15.978490",
     "exception": false,
     "start_time": "2022-02-01T18:33:15.381697",
     "status": "completed"
    },
    "tags": []
   },
   "outputs": [],
   "source": [
    "train = feature_transform(X_train)\n",
    "X_train = train[FEATURE_COLS].set_index('id')\n",
    "\n",
    "val = feature_transform(X_val)\n",
    "X_val = val[FEATURE_COLS].set_index('id')"
   ]
  },
  {
   "cell_type": "code",
   "execution_count": 31,
   "id": "71803ee8",
   "metadata": {
    "execution": {
     "iopub.execute_input": "2022-02-01T18:33:16.114923Z",
     "iopub.status.busy": "2022-02-01T18:33:16.100660Z",
     "iopub.status.idle": "2022-02-01T18:33:16.382366Z",
     "shell.execute_reply": "2022-02-01T18:33:16.381727Z",
     "shell.execute_reply.started": "2022-02-01T18:29:37.810137Z"
    },
    "papermill": {
     "duration": 0.34504,
     "end_time": "2022-02-01T18:33:16.382505",
     "exception": false,
     "start_time": "2022-02-01T18:33:16.037465",
     "status": "completed"
    },
    "tags": []
   },
   "outputs": [
    {
     "name": "stdout",
     "output_type": "stream",
     "text": [
      "(92275, 14) (92275,)\n"
     ]
    }
   ],
   "source": [
    "# transform for using all data for training at the end\n",
    "\n",
    "X_train_all = feature_transform(X)\n",
    "X_train_all = X_train_all[FEATURE_COLS].set_index('id')\n",
    "\n",
    "y_train_all = y\n",
    "\n",
    "print(X_train_all.shape, y_train_all.shape)"
   ]
  },
  {
   "cell_type": "code",
   "execution_count": 32,
   "id": "a60fcd2c",
   "metadata": {
    "execution": {
     "iopub.execute_input": "2022-02-01T18:33:16.518938Z",
     "iopub.status.busy": "2022-02-01T18:33:16.509300Z",
     "iopub.status.idle": "2022-02-01T18:33:16.556651Z",
     "shell.execute_reply": "2022-02-01T18:33:16.556003Z",
     "shell.execute_reply.started": "2022-02-01T18:29:38.109954Z"
    },
    "papermill": {
     "duration": 0.115267,
     "end_time": "2022-02-01T18:33:16.556789",
     "exception": false,
     "start_time": "2022-02-01T18:33:16.441522",
     "status": "completed"
    },
    "tags": []
   },
   "outputs": [],
   "source": [
    "test = feature_transform(test_data)\n",
    "test_df = test[FEATURE_COLS].set_index('id')"
   ]
  },
  {
   "cell_type": "code",
   "execution_count": 33,
   "id": "e3aa67ac",
   "metadata": {
    "execution": {
     "iopub.execute_input": "2022-02-01T18:33:16.679754Z",
     "iopub.status.busy": "2022-02-01T18:33:16.679115Z",
     "iopub.status.idle": "2022-02-01T18:33:16.688014Z",
     "shell.execute_reply": "2022-02-01T18:33:16.688515Z",
     "shell.execute_reply.started": "2022-02-01T18:29:38.163292Z"
    },
    "papermill": {
     "duration": 0.072954,
     "end_time": "2022-02-01T18:33:16.688680",
     "exception": false,
     "start_time": "2022-02-01T18:33:16.615726",
     "status": "completed"
    },
    "tags": []
   },
   "outputs": [
    {
     "name": "stdout",
     "output_type": "stream",
     "text": [
      "<class 'pandas.core.frame.DataFrame'>\n",
      "Index: 5800 entries, _wNsZEqpKUA_2021-12-01 to _-K-sVn8Iko_2021-12-30\n",
      "Data columns (total 14 columns):\n",
      " #   Column               Non-Null Count  Dtype  \n",
      "---  ------               --------------  -----  \n",
      " 0   video_id             5800 non-null   int64  \n",
      " 1   channelId            5800 non-null   int64  \n",
      " 2   channelTitle         5800 non-null   int64  \n",
      " 3   categoryId           5800 non-null   int64  \n",
      " 4   comments_disabled    5800 non-null   int64  \n",
      " 5   ratings_disabled     5800 non-null   int64  \n",
      " 6   published_day        5800 non-null   int64  \n",
      " 7   published_month      5800 non-null   int64  \n",
      " 8   published_hour       5800 non-null   int64  \n",
      " 9   published_dayofweek  5800 non-null   int64  \n",
      " 10  trending_day         5800 non-null   int64  \n",
      " 11  trending_month       5800 non-null   int64  \n",
      " 12  trending_dayofweek   5800 non-null   int64  \n",
      " 13  duration_seconds     5800 non-null   float64\n",
      "dtypes: float64(1), int64(13)\n",
      "memory usage: 679.7+ KB\n"
     ]
    }
   ],
   "source": [
    "test_df.info()"
   ]
  },
  {
   "cell_type": "markdown",
   "id": "304dcddb",
   "metadata": {
    "papermill": {
     "duration": 0.05897,
     "end_time": "2022-02-01T18:33:16.806566",
     "exception": false,
     "start_time": "2022-02-01T18:33:16.747596",
     "status": "completed"
    },
    "tags": []
   },
   "source": [
    "#### Making few baseline models with minimal feature engineering:\n",
    "\n",
    "Using the Voting regressor technique from this article from machinelearningmastery https://machinelearningmastery.com/weighted-average-ensemble-with-python/ . Please go through it. "
   ]
  },
  {
   "cell_type": "code",
   "execution_count": 34,
   "id": "9269230e",
   "metadata": {
    "execution": {
     "iopub.execute_input": "2022-02-01T18:33:16.929802Z",
     "iopub.status.busy": "2022-02-01T18:33:16.929169Z",
     "iopub.status.idle": "2022-02-01T18:34:11.085931Z",
     "shell.execute_reply": "2022-02-01T18:34:11.086464Z",
     "shell.execute_reply.started": "2022-02-01T18:29:38.181150Z"
    },
    "papermill": {
     "duration": 54.219935,
     "end_time": "2022-02-01T18:34:11.086685",
     "exception": false,
     "start_time": "2022-02-01T18:33:16.866750",
     "status": "completed"
    },
    "tags": []
   },
   "outputs": [
    {
     "name": "stdout",
     "output_type": "stream",
     "text": [
      "[-0.017939248145550597, -0.023373809648602823, -0.022842026651744195]\n",
      "rfr: -0.018\n",
      "xgb: -0.023\n",
      "lgbm: -0.023\n"
     ]
    }
   ],
   "source": [
    "# prepare a list of base models\n",
    "def get_models():\n",
    "    models = list()\n",
    "    models.append(('rfr', RandomForestRegressor()))\n",
    "    models.append(('xgb', xgb.XGBRegressor()))\n",
    "    models.append(('lgbm', LGBMRegressor()))\n",
    "    return models\n",
    "\n",
    "\n",
    "# evaluate each base model\n",
    "def evaluate_models(models, X_train, X_val, y_train, y_val):\n",
    "    # fit and evaluate the models\n",
    "    scores = list()\n",
    "    for name, model in models:\n",
    "        model.fit(X_train, y_train)\n",
    "        y_pred = model.predict(X_val)\n",
    "        mae = mean_absolute_error(y_val, y_pred)\n",
    "        scores.append(-mae)\n",
    "    return scores\n",
    "\n",
    "\n",
    "models = get_models()\n",
    "scores = evaluate_models(models, X_train, X_val, y_train, y_val)\n",
    "print(scores)\n",
    "for i in range(len(models)):\n",
    "    print('%s: %.3f' % (models[i][0], scores[i]))"
   ]
  },
  {
   "cell_type": "code",
   "execution_count": 35,
   "id": "8091c1ec",
   "metadata": {
    "execution": {
     "iopub.execute_input": "2022-02-01T18:34:11.212586Z",
     "iopub.status.busy": "2022-02-01T18:34:11.211900Z",
     "iopub.status.idle": "2022-02-01T18:35:26.119507Z",
     "shell.execute_reply": "2022-02-01T18:35:26.120079Z",
     "shell.execute_reply.started": "2022-02-01T18:30:32.593657Z"
    },
    "papermill": {
     "duration": 74.973572,
     "end_time": "2022-02-01T18:35:26.120308",
     "exception": false,
     "start_time": "2022-02-01T18:34:11.146736",
     "status": "completed"
    },
    "tags": []
   },
   "outputs": [],
   "source": [
    "ensemble = VotingRegressor(estimators=models)\n",
    "ensemble.fit(X_train_all, y_train_all)\n",
    "test_df['target'] = ensemble.predict(test_df)"
   ]
  },
  {
   "cell_type": "code",
   "execution_count": 36,
   "id": "e2eb0b78",
   "metadata": {
    "execution": {
     "iopub.execute_input": "2022-02-01T18:35:26.245944Z",
     "iopub.status.busy": "2022-02-01T18:35:26.245290Z",
     "iopub.status.idle": "2022-02-01T18:35:26.256175Z",
     "shell.execute_reply": "2022-02-01T18:35:26.256761Z",
     "shell.execute_reply.started": "2022-02-01T18:31:48.800185Z"
    },
    "papermill": {
     "duration": 0.075291,
     "end_time": "2022-02-01T18:35:26.256977",
     "exception": false,
     "start_time": "2022-02-01T18:35:26.181686",
     "status": "completed"
    },
    "tags": []
   },
   "outputs": [
    {
     "data": {
      "text/html": [
       "<div>\n",
       "<style scoped>\n",
       "    .dataframe tbody tr th:only-of-type {\n",
       "        vertical-align: middle;\n",
       "    }\n",
       "\n",
       "    .dataframe tbody tr th {\n",
       "        vertical-align: top;\n",
       "    }\n",
       "\n",
       "    .dataframe thead th {\n",
       "        text-align: right;\n",
       "    }\n",
       "</style>\n",
       "<table border=\"1\" class=\"dataframe\">\n",
       "  <thead>\n",
       "    <tr style=\"text-align: right;\">\n",
       "      <th></th>\n",
       "      <th>id</th>\n",
       "      <th>target</th>\n",
       "    </tr>\n",
       "  </thead>\n",
       "  <tbody>\n",
       "    <tr>\n",
       "      <th>0</th>\n",
       "      <td>_wNsZEqpKUA_2021-12-01</td>\n",
       "      <td>0.085</td>\n",
       "    </tr>\n",
       "    <tr>\n",
       "      <th>1</th>\n",
       "      <td>2jfbXZiE6Lc_2021-12-01</td>\n",
       "      <td>0.086</td>\n",
       "    </tr>\n",
       "    <tr>\n",
       "      <th>2</th>\n",
       "      <td>F1Hq8eVOMHs_2021-12-01</td>\n",
       "      <td>0.061</td>\n",
       "    </tr>\n",
       "    <tr>\n",
       "      <th>3</th>\n",
       "      <td>GQXVQmcGQUY_2021-12-01</td>\n",
       "      <td>0.068</td>\n",
       "    </tr>\n",
       "    <tr>\n",
       "      <th>4</th>\n",
       "      <td>n4XojTb6pfs_2021-12-01</td>\n",
       "      <td>0.082</td>\n",
       "    </tr>\n",
       "    <tr>\n",
       "      <th>...</th>\n",
       "      <td>...</td>\n",
       "      <td>...</td>\n",
       "    </tr>\n",
       "    <tr>\n",
       "      <th>5795</th>\n",
       "      <td>hJfpCXAMYPM_2021-12-30</td>\n",
       "      <td>0.068</td>\n",
       "    </tr>\n",
       "    <tr>\n",
       "      <th>5796</th>\n",
       "      <td>MbmTMEYnEzo_2021-12-30</td>\n",
       "      <td>0.068</td>\n",
       "    </tr>\n",
       "    <tr>\n",
       "      <th>5797</th>\n",
       "      <td>VG7arSAYvQI_2021-12-30</td>\n",
       "      <td>0.071</td>\n",
       "    </tr>\n",
       "    <tr>\n",
       "      <th>5798</th>\n",
       "      <td>SNb-g-hNYYs_2021-12-30</td>\n",
       "      <td>0.049</td>\n",
       "    </tr>\n",
       "    <tr>\n",
       "      <th>5799</th>\n",
       "      <td>_-K-sVn8Iko_2021-12-30</td>\n",
       "      <td>0.065</td>\n",
       "    </tr>\n",
       "  </tbody>\n",
       "</table>\n",
       "<p>5800 rows × 2 columns</p>\n",
       "</div>"
      ],
      "text/plain": [
       "                          id  target\n",
       "0     _wNsZEqpKUA_2021-12-01   0.085\n",
       "1     2jfbXZiE6Lc_2021-12-01   0.086\n",
       "2     F1Hq8eVOMHs_2021-12-01   0.061\n",
       "3     GQXVQmcGQUY_2021-12-01   0.068\n",
       "4     n4XojTb6pfs_2021-12-01   0.082\n",
       "...                      ...     ...\n",
       "5795  hJfpCXAMYPM_2021-12-30   0.068\n",
       "5796  MbmTMEYnEzo_2021-12-30   0.068\n",
       "5797  VG7arSAYvQI_2021-12-30   0.071\n",
       "5798  SNb-g-hNYYs_2021-12-30   0.049\n",
       "5799  _-K-sVn8Iko_2021-12-30   0.065\n",
       "\n",
       "[5800 rows x 2 columns]"
      ]
     },
     "execution_count": 36,
     "metadata": {},
     "output_type": "execute_result"
    }
   ],
   "source": [
    "submission = test_df['target'].reset_index()\n",
    "submission"
   ]
  },
  {
   "cell_type": "code",
   "execution_count": 37,
   "id": "4f57b779",
   "metadata": {
    "execution": {
     "iopub.execute_input": "2022-02-01T18:35:26.380998Z",
     "iopub.status.busy": "2022-02-01T18:35:26.380331Z",
     "iopub.status.idle": "2022-02-01T18:35:26.409798Z",
     "shell.execute_reply": "2022-02-01T18:35:26.410384Z",
     "shell.execute_reply.started": "2022-02-01T18:31:48.818064Z"
    },
    "papermill": {
     "duration": 0.093629,
     "end_time": "2022-02-01T18:35:26.410551",
     "exception": false,
     "start_time": "2022-02-01T18:35:26.316922",
     "status": "completed"
    },
    "tags": []
   },
   "outputs": [],
   "source": [
    "submission.to_csv('submission.csv',index=False)"
   ]
  },
  {
   "cell_type": "markdown",
   "id": "ac6eadda",
   "metadata": {
    "papermill": {
     "duration": 0.062167,
     "end_time": "2022-02-01T18:35:26.533037",
     "exception": false,
     "start_time": "2022-02-01T18:35:26.470870",
     "status": "completed"
    },
    "tags": []
   },
   "source": [
    "### Next steps: robust feature engineering and hyperparameter tuning"
   ]
  }
 ],
 "metadata": {
  "kernelspec": {
   "display_name": "Python 3",
   "language": "python",
   "name": "python3"
  },
  "language_info": {
   "codemirror_mode": {
    "name": "ipython",
    "version": 3
   },
   "file_extension": ".py",
   "mimetype": "text/x-python",
   "name": "python",
   "nbconvert_exporter": "python",
   "pygments_lexer": "ipython3",
   "version": "3.7.12"
  },
  "papermill": {
   "default_parameters": {},
   "duration": 158.339641,
   "end_time": "2022-02-01T18:35:27.503228",
   "environment_variables": {},
   "exception": null,
   "input_path": "__notebook__.ipynb",
   "output_path": "__notebook__.ipynb",
   "parameters": {},
   "start_time": "2022-02-01T18:32:49.163587",
   "version": "2.3.3"
  }
 },
 "nbformat": 4,
 "nbformat_minor": 5
}
